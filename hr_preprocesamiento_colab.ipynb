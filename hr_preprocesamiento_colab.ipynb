{
  "cells": [
    {
      "cell_type": "markdown",
      "metadata": {
        "id": "aTo_MZGurc7q"
      },
      "source": [
        "# Librerias\n"
      ]
    },
    {
      "cell_type": "code",
      "execution_count": 1,
      "metadata": {
        "id": "7YPjng00rdmJ"
      },
      "outputs": [],
      "source": [
        "import numpy as np\n",
        "import matplotlib as mp\n",
        "import pandas as pd\n",
        "import sqlite3 as sql #### para bases de datos sql\n",
        "import sys ## saber ruta de la que carga paquetes\n",
        "import a_funciones as fn"
      ]
    },
    {
      "cell_type": "code",
      "execution_count": 2,
      "metadata": {},
      "outputs": [],
      "source": [
        "# \"\"\"Ruta directorio qué tiene paquetes\"\"\"\n",
        "# sys.path\n",
        "# sys.path.append('C:\\codigos\\HR_T1_Analitica')"
      ]
    },
    {
      "cell_type": "markdown",
      "metadata": {
        "id": "daNlW8eWrgX-"
      },
      "source": [
        "# Bases de datos"
      ]
    },
    {
      "cell_type": "code",
      "execution_count": 42,
      "metadata": {
        "id": "LGYyfCpPSjGE"
      },
      "outputs": [],
      "source": [
        "#Se asigna a una variable la ruta de los dataframe\n",
        "employee = 'data/employee_survey_data.csv'\n",
        "general = 'data/general_data.csv'\n",
        "manager_survey = 'data/manager_survey_data.csv'\n",
        "retirement = 'data/retirement_info.csv'\n",
        "\n",
        "#Se procesa los dataframe con pandas y se almacenan\n",
        "data_employee = pd.read_csv(employee)\n",
        "data_general = pd.read_csv(general ,sep=\";\")\n",
        "data_manager_survey = pd.read_csv(manager_survey)\n",
        "data_retirement = pd.read_csv(retirement ,sep=\";\")"
      ]
    },
    {
      "cell_type": "markdown",
      "metadata": {},
      "source": [
        "* Age: Edad del empleado en años.\n",
        "* Attrition: Indica si el empleado dejó la compañía o no. Los valores posibles son \"Yes\" y \"No\".\n",
        "* BusinessTravel: Frecuencia de los viajes de negocios del empleado. Los valores posibles son \"Travel_Rarely\", \"Travel_Frequently\" y \"Non-Travel\".\n",
        "* Department: Departamento donde trabaja el empleado. Los valores posibles son \"Sales\", \"Research & Development\" y \"Human Resources\".\n",
        "* DistanceFromHome: Distancia del hogar del empleado al lugar de trabajo.\n",
        "* Education: Nivel educativo del empleado. Los valores posibles van de 1 (menos educación) a 5 (más educación).\n",
        "* EducationField: Campo de estudio del empleado. Los valores posibles son \"Life Sciences\", \"Other\", \"Medical\", \"Marketing\", \"Technical Degree\" y \"Human Resources\".\n",
        "* EmployeeCount: Constante con valor 1 que indica el número de empleados en cada registro.\n",
        "* EmployeeID: Identificación única del empleado.\n",
        "* Gender: Género del empleado. Los valores posibles son \"Male\" y \"Female\".\n",
        "* JobLevel: Nivel laboral del empleado. Los valores posibles van de 1 (puesto más bajo) a 5 (puesto más alto).\n",
        "* JobRole: Rol laboral del empleado. Los valores posibles son \"Sales Executive\", \"Research Scientist\", \"Laboratory Technician\", \"Manufacturing Director\", \"Healthcare Representative\", \"Manager\", \"Sales Representative\", \"Research Director\", \"Human Resources\" y \"Manager\".\n",
        "* MaritalStatus: Estado civil del empleado. Los valores posibles son \"Single\", \"Married\" y \"Divorced\".\n",
        "* MonthlyIncome: Ingreso mensual del empleado en dólares estadounidenses.\n",
        "* NumCompaniesWorked: Número de compañías en las que el empleado ha trabajado antes de unirse a la actual.\n",
        "* Over18: Constante con valor \"Yes\" que indica si el empleado es mayor de 18 años.\n",
        "* PercentSalaryHike: Porcentaje de aumento en el salario del empleado en el último año.\n",
        "* StandardHours: Constante con valor 80 que indica el número estándar de horas trabajadas por semana.\n",
        "* StockOptionLevel: Nivel de opciones de compra de acciones otorgadas al empleado. Los valores posibles van de 0 (ninguna opción otorgada) a 3 (máximo nivel de opciones otorgadas).\n",
        "* TotalWorkingYears: Total de años de experiencia laboral del empleado.\n",
        "* TrainingTimesLastYear: Número de veces que el empleado asistió a programas de capacitación en el último año.\n",
        "* YearsAtCompany: Años que el empleado ha trabajado en la compañía actual.\n",
        "* YearsSinceLastPromotion: Años desde la última promoción del empleado.\n",
        "* YearsWithCurrManager: Años que el empleado ha estado bajo la supervisión del gerente actual."
      ]
    },
    {
      "cell_type": "markdown",
      "metadata": {
        "id": "GT5RtXbHT9kX"
      },
      "source": [
        "# General Data\n"
      ]
    },
    {
      "cell_type": "code",
      "execution_count": null,
      "metadata": {
        "colab": {
          "base_uri": "https://localhost:8080/",
          "height": 325
        },
        "id": "XrJ4rdjRS5ja",
        "outputId": "9182a138-2831-4c74-89bf-e845fe2eb053"
      },
      "outputs": [],
      "source": [
        "data_general.head()"
      ]
    },
    {
      "cell_type": "code",
      "execution_count": 43,
      "metadata": {},
      "outputs": [
        {
          "name": "stdout",
          "output_type": "stream",
          "text": [
            "Age [51 31 32 38 46 28 29 25 45 36 55 47 37 21 35 26 50 53 42 44 49 18 41 39\n",
            " 58 33 43 52 27 30 54 40 23 48 57 34 24 22 56 60 19 20 59]\n",
            "BusinessTravel ['Travel_Rarely' 'Travel_Frequently' 'Non-Travel']\n",
            "Department ['Sales' 'Research & Development' 'Human Resources']\n",
            "DistanceFromHome [ 6 10 17  2  8 11 18  1  7 28 14  3  4 16  9  5 20 29 15 13 24 19 22 25\n",
            " 21 26 27 12 23]\n",
            "Education [2 1 4 5 3]\n",
            "EducationField ['Life Sciences' 'Other' 'Medical' 'Marketing' 'Technical Degree'\n",
            " 'Human Resources']\n",
            "EmployeeCount [1]\n",
            "EmployeeID [   1    2    3 ... 4408 4409 4410]\n",
            "Gender ['Female' 'Male']\n",
            "JobLevel [1 4 3 2 5]\n",
            "JobRole ['Healthcare Representative' 'Research Scientist' 'Sales Executive'\n",
            " 'Human Resources' 'Research Director' 'Laboratory Technician'\n",
            " 'Manufacturing Director' 'Sales Representative' 'Manager']\n",
            "MaritalStatus ['Married' 'Single' 'Divorced']\n",
            "MonthlyIncome [131160  41890 193280 ...  37020  23980  54680]\n",
            "NumCompaniesWorked [ 1.  0.  3.  4.  2.  7.  9.  5.  6.  8. nan]\n",
            "Over18 ['Y']\n",
            "PercentSalaryHike [11 23 15 12 13 20 22 21 17 14 16 18 19 24 25]\n",
            "StandardHours [8]\n",
            "StockOptionLevel [0 1 3 2]\n",
            "TotalWorkingYears [ 1.  6.  5. 13.  9. 28. 10. 21. 16. 37.  7.  3. 15.  8. nan 12. 17. 19.\n",
            " 22.  2.  4. 23.  0. 11. 24. 25. 20. 14. 26. 18. 30. 36. 31. 33. 32. 34.\n",
            " 40. 29. 35. 27. 38.]\n",
            "TrainingTimesLastYear [6 3 2 5 4 0 1]\n",
            "YearsAtCompany [ 1  5  8  6  7  0  9 20 15 36 10  3 17  2  4 11 22 18 13 24 21 16 25 29\n",
            " 27 14 31 32 34 26 12 19 33 30 23 37 40]\n",
            "YearsSinceLastPromotion [ 0  1  7  4 10  9  6 11  3  5  2  8 13 12 15 14]\n",
            "YearsWithCurrManager [ 0  4  3  5  7  8 10 11 13  9  1  2  6 12 17 16 15 14]\n",
            "Tamaño del DataFrame: (4410, 23)\n"
          ]
        }
      ],
      "source": [
        "#Se analizan las columnas con sus variables\n",
        "fn.info_columns(data_general)"
      ]
    },
    {
      "cell_type": "markdown",
      "metadata": {
        "id": "tjgG7nxmh2iA"
      },
      "source": [
        "- Se puede eliminar las columnas: - EmployeeCount, ya que tiene solo 1 valor.\n",
        "                                    - Over18, ya que todos son mayores de 18.\n",
        "                                    - StandardHour, ya que las horas estandares son  8 para todos.\n",
        "\n",
        "- Se deben tratar los datos nulos: - NumCompaniesWorked, se puede remplazar los\n",
        "                                    nan por la moda.\n",
        "                                    - TotalWorkingYears, Tambien se puede cambiar\n",
        "                                    por la moda.\n"
      ]
    },
    {
      "cell_type": "code",
      "execution_count": 44,
      "metadata": {
        "id": "-BcnNxs5rotn"
      },
      "outputs": [
        {
          "name": "stdout",
          "output_type": "stream",
          "text": [
            "Age                        0\n",
            "BusinessTravel             0\n",
            "Department                 0\n",
            "DistanceFromHome           0\n",
            "Education                  0\n",
            "EducationField             0\n",
            "EmployeeID                 0\n",
            "Gender                     0\n",
            "JobLevel                   0\n",
            "JobRole                    0\n",
            "MaritalStatus              0\n",
            "MonthlyIncome              0\n",
            "NumCompaniesWorked         0\n",
            "PercentSalaryHike          0\n",
            "StockOptionLevel           0\n",
            "TotalWorkingYears          0\n",
            "TrainingTimesLastYear      0\n",
            "YearsAtCompany             0\n",
            "YearsSinceLastPromotion    0\n",
            "YearsWithCurrManager       0\n",
            "dtype: int64 (4410, 20)\n"
          ]
        }
      ],
      "source": [
        "#Se realiza la amputacion columnas que no son necesarias y rellenado de datos nulos\n",
        "data_general = data_general.drop(columns=['EmployeeCount','Over18', 'StandardHours'])\n",
        "data_general = fn.impute_columns(df = data_general, columns = ['NumCompaniesWorked', 'TotalWorkingYears'], strategy = 'most_frequent')\n",
        "print(data_general.isnull().sum(),data_general.shape)"
      ]
    },
    {
      "cell_type": "code",
      "execution_count": 51,
      "metadata": {
        "colab": {
          "base_uri": "https://localhost:8080/"
        },
        "id": "j980mbr7zlrm",
        "outputId": "a9ccedba-24c2-4dc2-bc32-3059b0ee15f4"
      },
      "outputs": [
        {
          "name": "stdout",
          "output_type": "stream",
          "text": [
            "<class 'pandas.core.frame.DataFrame'>\n",
            "RangeIndex: 4410 entries, 0 to 4409\n",
            "Data columns (total 20 columns):\n",
            " #   Column                   Non-Null Count  Dtype  \n",
            "---  ------                   --------------  -----  \n",
            " 0   Age                      4410 non-null   int64  \n",
            " 1   BusinessTravel           4410 non-null   object \n",
            " 2   Department               4410 non-null   object \n",
            " 3   DistanceFromHome         4410 non-null   float64\n",
            " 4   Education                4410 non-null   object \n",
            " 5   EducationField           4410 non-null   object \n",
            " 6   EmployeeID               4410 non-null   object \n",
            " 7   Gender                   4410 non-null   object \n",
            " 8   JobLevel                 4410 non-null   object \n",
            " 9   JobRole                  4410 non-null   object \n",
            " 10  MaritalStatus            4410 non-null   object \n",
            " 11  MonthlyIncome            4410 non-null   float64\n",
            " 12  NumCompaniesWorked       4410 non-null   int32  \n",
            " 13  PercentSalaryHike        4410 non-null   int64  \n",
            " 14  StockOptionLevel         4410 non-null   object \n",
            " 15  TotalWorkingYears        4410 non-null   int32  \n",
            " 16  TrainingTimesLastYear    4410 non-null   int64  \n",
            " 17  YearsAtCompany           4410 non-null   int64  \n",
            " 18  YearsSinceLastPromotion  4410 non-null   int64  \n",
            " 19  YearsWithCurrManager     4410 non-null   int64  \n",
            "dtypes: float64(2), int32(2), int64(6), object(10)\n",
            "memory usage: 654.7+ KB\n"
          ]
        }
      ],
      "source": [
        "#Se analiza el tipo de dato de cada columna\n",
        "data_general.info()"
      ]
    },
    {
      "cell_type": "markdown",
      "metadata": {},
      "source": [
        "Se debe cambiar el tipo de las siguientes variables:\n",
        "\n",
        "  - DistanceFromHome: float64\n",
        "  - Education: object (\"OneHotEncouder\")\n",
        "  - EmployeeID: object\n",
        "  - Joblevel: object\n",
        "  - MonthlyIncome: float64\n",
        "  - NumCompaniesWorked: int64\n",
        "  - StockOptionLevel: object\n",
        "  - TotalWorkingYears: int64\n"
      ]
    },
    {
      "cell_type": "code",
      "execution_count": 46,
      "metadata": {},
      "outputs": [
        {
          "name": "stdout",
          "output_type": "stream",
          "text": [
            "<class 'pandas.core.frame.DataFrame'>\n",
            "RangeIndex: 4410 entries, 0 to 4409\n",
            "Data columns (total 20 columns):\n",
            " #   Column                   Non-Null Count  Dtype  \n",
            "---  ------                   --------------  -----  \n",
            " 0   Age                      4410 non-null   int64  \n",
            " 1   BusinessTravel           4410 non-null   object \n",
            " 2   Department               4410 non-null   object \n",
            " 3   DistanceFromHome         4410 non-null   float64\n",
            " 4   Education                4410 non-null   object \n",
            " 5   EducationField           4410 non-null   object \n",
            " 6   EmployeeID               4410 non-null   object \n",
            " 7   Gender                   4410 non-null   object \n",
            " 8   JobLevel                 4410 non-null   object \n",
            " 9   JobRole                  4410 non-null   object \n",
            " 10  MaritalStatus            4410 non-null   object \n",
            " 11  MonthlyIncome            4410 non-null   float64\n",
            " 12  NumCompaniesWorked       4410 non-null   int32  \n",
            " 13  PercentSalaryHike        4410 non-null   int64  \n",
            " 14  StockOptionLevel         4410 non-null   object \n",
            " 15  TotalWorkingYears        4410 non-null   int32  \n",
            " 16  TrainingTimesLastYear    4410 non-null   int64  \n",
            " 17  YearsAtCompany           4410 non-null   int64  \n",
            " 18  YearsSinceLastPromotion  4410 non-null   int64  \n",
            " 19  YearsWithCurrManager     4410 non-null   int64  \n",
            "dtypes: float64(2), int32(2), int64(6), object(10)\n",
            "memory usage: 654.7+ KB\n"
          ]
        }
      ],
      "source": [
        "#Se asigna el tipo de datos correcto para cada columna\n",
        "columns_object = ['Education', 'EmployeeID','JobLevel', 'StockOptionLevel']\n",
        "columns_int = ['NumCompaniesWorked','TotalWorkingYears']\n",
        "columns_float = ['DistanceFromHome','MonthlyIncome']\n",
        "data_general[columns_object] = data_general[columns_object].astype(object)\n",
        "data_general[columns_int] = data_general[columns_int].astype(int)\n",
        "data_general[columns_float] = data_general[columns_float].astype(float)\n",
        "data_general.info()"
      ]
    },
    {
      "cell_type": "markdown",
      "metadata": {},
      "source": [
        "Se tiene dudas si PercentSalaryHike se debe expresar como: \"object o int\""
      ]
    },
    {
      "cell_type": "markdown",
      "metadata": {
        "id": "FuNN1qhcT4_v"
      },
      "source": [
        "# Employee Data\n"
      ]
    },
    {
      "cell_type": "code",
      "execution_count": 32,
      "metadata": {
        "colab": {
          "base_uri": "https://localhost:8080/",
          "height": 206
        },
        "id": "zmKWgNYYS6iK",
        "outputId": "9e81c2cd-f3eb-41fb-d06f-b0c7d29647d6"
      },
      "outputs": [
        {
          "data": {
            "text/html": [
              "<div>\n",
              "<style scoped>\n",
              "    .dataframe tbody tr th:only-of-type {\n",
              "        vertical-align: middle;\n",
              "    }\n",
              "\n",
              "    .dataframe tbody tr th {\n",
              "        vertical-align: top;\n",
              "    }\n",
              "\n",
              "    .dataframe thead th {\n",
              "        text-align: right;\n",
              "    }\n",
              "</style>\n",
              "<table border=\"1\" class=\"dataframe\">\n",
              "  <thead>\n",
              "    <tr style=\"text-align: right;\">\n",
              "      <th></th>\n",
              "      <th>EmployeeID</th>\n",
              "      <th>EnvironmentSatisfaction</th>\n",
              "      <th>JobSatisfaction</th>\n",
              "      <th>WorkLifeBalance</th>\n",
              "    </tr>\n",
              "  </thead>\n",
              "  <tbody>\n",
              "    <tr>\n",
              "      <th>0</th>\n",
              "      <td>1</td>\n",
              "      <td>3.0</td>\n",
              "      <td>4.0</td>\n",
              "      <td>2.0</td>\n",
              "    </tr>\n",
              "    <tr>\n",
              "      <th>1</th>\n",
              "      <td>2</td>\n",
              "      <td>3.0</td>\n",
              "      <td>2.0</td>\n",
              "      <td>4.0</td>\n",
              "    </tr>\n",
              "    <tr>\n",
              "      <th>2</th>\n",
              "      <td>3</td>\n",
              "      <td>2.0</td>\n",
              "      <td>2.0</td>\n",
              "      <td>1.0</td>\n",
              "    </tr>\n",
              "    <tr>\n",
              "      <th>3</th>\n",
              "      <td>4</td>\n",
              "      <td>4.0</td>\n",
              "      <td>4.0</td>\n",
              "      <td>3.0</td>\n",
              "    </tr>\n",
              "    <tr>\n",
              "      <th>4</th>\n",
              "      <td>5</td>\n",
              "      <td>4.0</td>\n",
              "      <td>1.0</td>\n",
              "      <td>3.0</td>\n",
              "    </tr>\n",
              "  </tbody>\n",
              "</table>\n",
              "</div>"
            ],
            "text/plain": [
              "   EmployeeID  EnvironmentSatisfaction  JobSatisfaction  WorkLifeBalance\n",
              "0           1                      3.0              4.0              2.0\n",
              "1           2                      3.0              2.0              4.0\n",
              "2           3                      2.0              2.0              1.0\n",
              "3           4                      4.0              4.0              3.0\n",
              "4           5                      4.0              1.0              3.0"
            ]
          },
          "execution_count": 32,
          "metadata": {},
          "output_type": "execute_result"
        }
      ],
      "source": [
        "data_employee.head()"
      ]
    },
    {
      "cell_type": "code",
      "execution_count": 48,
      "metadata": {},
      "outputs": [
        {
          "name": "stdout",
          "output_type": "stream",
          "text": [
            "EmployeeID [   1    2    3 ... 4408 4409 4410]\n",
            "EnvironmentSatisfaction [ 3.  2.  4.  1. nan]\n",
            "JobSatisfaction [ 4.  2.  1.  3. nan]\n",
            "WorkLifeBalance [ 2.  4.  1.  3. nan]\n",
            "Tamaño del DataFrame: (4410, 4)\n"
          ]
        }
      ],
      "source": [
        "#Se analiza la columna con sus valores\n",
        "fn.info_columns(data_employee)"
      ]
    },
    {
      "cell_type": "markdown",
      "metadata": {
        "id": "kenLOzWmjoLx"
      },
      "source": [
        "Se puede remplazar los datos nulos por:\n",
        "- EnvironmentSatisfaction: moda\n",
        "- JobSatisfaction: moda\n",
        "- WorkLifeBalance: moda"
      ]
    },
    {
      "cell_type": "code",
      "execution_count": 50,
      "metadata": {},
      "outputs": [
        {
          "data": {
            "text/plain": [
              "EmployeeID                  0\n",
              "EnvironmentSatisfaction    25\n",
              "JobSatisfaction            20\n",
              "WorkLifeBalance            38\n",
              "dtype: int64"
            ]
          },
          "execution_count": 50,
          "metadata": {},
          "output_type": "execute_result"
        }
      ],
      "source": [
        "#Se evalua que la cantidad de datos nulos no sean una cantidad de datos significativa\n",
        "data_employee.isnull().sum()"
      ]
    },
    {
      "cell_type": "code",
      "execution_count": 52,
      "metadata": {},
      "outputs": [
        {
          "name": "stdout",
          "output_type": "stream",
          "text": [
            "EmployeeID                 0\n",
            "EnvironmentSatisfaction    0\n",
            "JobSatisfaction            0\n",
            "WorkLifeBalance            0\n",
            "dtype: int64 (4410, 4)\n"
          ]
        }
      ],
      "source": [
        "data_employee = fn.impute_columns(df = data_employee, columns = ['EnvironmentSatisfaction', 'JobSatisfaction', 'WorkLifeBalance'], strategy = 'most_frequent')\n",
        "print(data_employee.isnull().sum(),data_employee.shape)"
      ]
    },
    {
      "cell_type": "code",
      "execution_count": 53,
      "metadata": {},
      "outputs": [
        {
          "name": "stdout",
          "output_type": "stream",
          "text": [
            "<class 'pandas.core.frame.DataFrame'>\n",
            "RangeIndex: 4410 entries, 0 to 4409\n",
            "Data columns (total 4 columns):\n",
            " #   Column                   Non-Null Count  Dtype  \n",
            "---  ------                   --------------  -----  \n",
            " 0   EmployeeID               4410 non-null   int64  \n",
            " 1   EnvironmentSatisfaction  4410 non-null   float64\n",
            " 2   JobSatisfaction          4410 non-null   float64\n",
            " 3   WorkLifeBalance          4410 non-null   float64\n",
            "dtypes: float64(3), int64(1)\n",
            "memory usage: 137.9 KB\n"
          ]
        }
      ],
      "source": [
        "#Se analiza el tipo de variable para cada columna\n",
        "data_employee.info()"
      ]
    },
    {
      "cell_type": "markdown",
      "metadata": {},
      "source": [
        "Hay que realizar cambios a las siguientes columnas ya que estan son objects, por el hecho de que son clasificaciones y no enteros o flotantes segun si tipologia expresada en el data_dictionary\n",
        "- EnvironmentSatisfaction: object\n",
        "- JobSatisfaction: object\n",
        "- WorkLifeBalance: object"
      ]
    },
    {
      "cell_type": "code",
      "execution_count": 54,
      "metadata": {},
      "outputs": [],
      "source": [
        "columns_object = ['EnvironmentSatisfaction', 'JobSatisfaction', 'WorkLifeBalance']\n",
        "data_employee[columns_object] = data_employee[columns_object].astype(object)"
      ]
    },
    {
      "cell_type": "markdown",
      "metadata": {
        "id": "7SC7kEhDUE4g"
      },
      "source": [
        "# Manager Data"
      ]
    },
    {
      "cell_type": "code",
      "execution_count": null,
      "metadata": {
        "colab": {
          "base_uri": "https://localhost:8080/",
          "height": 206
        },
        "id": "P6rsis7SS5bo",
        "outputId": "3ad645ec-d551-4606-8948-74aa33c465a9"
      },
      "outputs": [
        {
          "data": {
            "text/html": [
              "\n",
              "  <div id=\"df-bee611da-a47c-4136-b32a-aa3208c33683\" class=\"colab-df-container\">\n",
              "    <div>\n",
              "<style scoped>\n",
              "    .dataframe tbody tr th:only-of-type {\n",
              "        vertical-align: middle;\n",
              "    }\n",
              "\n",
              "    .dataframe tbody tr th {\n",
              "        vertical-align: top;\n",
              "    }\n",
              "\n",
              "    .dataframe thead th {\n",
              "        text-align: right;\n",
              "    }\n",
              "</style>\n",
              "<table border=\"1\" class=\"dataframe\">\n",
              "  <thead>\n",
              "    <tr style=\"text-align: right;\">\n",
              "      <th></th>\n",
              "      <th>EmployeeID</th>\n",
              "      <th>JobInvolvement</th>\n",
              "      <th>PerformanceRating</th>\n",
              "    </tr>\n",
              "  </thead>\n",
              "  <tbody>\n",
              "    <tr>\n",
              "      <th>0</th>\n",
              "      <td>1</td>\n",
              "      <td>3</td>\n",
              "      <td>3</td>\n",
              "    </tr>\n",
              "    <tr>\n",
              "      <th>1</th>\n",
              "      <td>2</td>\n",
              "      <td>2</td>\n",
              "      <td>4</td>\n",
              "    </tr>\n",
              "    <tr>\n",
              "      <th>2</th>\n",
              "      <td>3</td>\n",
              "      <td>3</td>\n",
              "      <td>3</td>\n",
              "    </tr>\n",
              "    <tr>\n",
              "      <th>3</th>\n",
              "      <td>4</td>\n",
              "      <td>2</td>\n",
              "      <td>3</td>\n",
              "    </tr>\n",
              "    <tr>\n",
              "      <th>4</th>\n",
              "      <td>5</td>\n",
              "      <td>3</td>\n",
              "      <td>3</td>\n",
              "    </tr>\n",
              "  </tbody>\n",
              "</table>\n",
              "</div>\n",
              "    <div class=\"colab-df-buttons\">\n",
              "\n",
              "  <div class=\"colab-df-container\">\n",
              "    <button class=\"colab-df-convert\" onclick=\"convertToInteractive('df-bee611da-a47c-4136-b32a-aa3208c33683')\"\n",
              "            title=\"Convert this dataframe to an interactive table.\"\n",
              "            style=\"display:none;\">\n",
              "\n",
              "  <svg xmlns=\"http://www.w3.org/2000/svg\" height=\"24px\" viewBox=\"0 -960 960 960\">\n",
              "    <path d=\"M120-120v-720h720v720H120Zm60-500h600v-160H180v160Zm220 220h160v-160H400v160Zm0 220h160v-160H400v160ZM180-400h160v-160H180v160Zm440 0h160v-160H620v160ZM180-180h160v-160H180v160Zm440 0h160v-160H620v160Z\"/>\n",
              "  </svg>\n",
              "    </button>\n",
              "\n",
              "  <style>\n",
              "    .colab-df-container {\n",
              "      display:flex;\n",
              "      gap: 12px;\n",
              "    }\n",
              "\n",
              "    .colab-df-convert {\n",
              "      background-color: #E8F0FE;\n",
              "      border: none;\n",
              "      border-radius: 50%;\n",
              "      cursor: pointer;\n",
              "      display: none;\n",
              "      fill: #1967D2;\n",
              "      height: 32px;\n",
              "      padding: 0 0 0 0;\n",
              "      width: 32px;\n",
              "    }\n",
              "\n",
              "    .colab-df-convert:hover {\n",
              "      background-color: #E2EBFA;\n",
              "      box-shadow: 0px 1px 2px rgba(60, 64, 67, 0.3), 0px 1px 3px 1px rgba(60, 64, 67, 0.15);\n",
              "      fill: #174EA6;\n",
              "    }\n",
              "\n",
              "    .colab-df-buttons div {\n",
              "      margin-bottom: 4px;\n",
              "    }\n",
              "\n",
              "    [theme=dark] .colab-df-convert {\n",
              "      background-color: #3B4455;\n",
              "      fill: #D2E3FC;\n",
              "    }\n",
              "\n",
              "    [theme=dark] .colab-df-convert:hover {\n",
              "      background-color: #434B5C;\n",
              "      box-shadow: 0px 1px 3px 1px rgba(0, 0, 0, 0.15);\n",
              "      filter: drop-shadow(0px 1px 2px rgba(0, 0, 0, 0.3));\n",
              "      fill: #FFFFFF;\n",
              "    }\n",
              "  </style>\n",
              "\n",
              "    <script>\n",
              "      const buttonEl =\n",
              "        document.querySelector('#df-bee611da-a47c-4136-b32a-aa3208c33683 button.colab-df-convert');\n",
              "      buttonEl.style.display =\n",
              "        google.colab.kernel.accessAllowed ? 'block' : 'none';\n",
              "\n",
              "      async function convertToInteractive(key) {\n",
              "        const element = document.querySelector('#df-bee611da-a47c-4136-b32a-aa3208c33683');\n",
              "        const dataTable =\n",
              "          await google.colab.kernel.invokeFunction('convertToInteractive',\n",
              "                                                    [key], {});\n",
              "        if (!dataTable) return;\n",
              "\n",
              "        const docLinkHtml = 'Like what you see? Visit the ' +\n",
              "          '<a target=\"_blank\" href=https://colab.research.google.com/notebooks/data_table.ipynb>data table notebook</a>'\n",
              "          + ' to learn more about interactive tables.';\n",
              "        element.innerHTML = '';\n",
              "        dataTable['output_type'] = 'display_data';\n",
              "        await google.colab.output.renderOutput(dataTable, element);\n",
              "        const docLink = document.createElement('div');\n",
              "        docLink.innerHTML = docLinkHtml;\n",
              "        element.appendChild(docLink);\n",
              "      }\n",
              "    </script>\n",
              "  </div>\n",
              "\n",
              "\n",
              "<div id=\"df-d8ec2cec-61eb-4dcf-bcf5-62f056c95109\">\n",
              "  <button class=\"colab-df-quickchart\" onclick=\"quickchart('df-d8ec2cec-61eb-4dcf-bcf5-62f056c95109')\"\n",
              "            title=\"Suggest charts.\"\n",
              "            style=\"display:none;\">\n",
              "\n",
              "<svg xmlns=\"http://www.w3.org/2000/svg\" height=\"24px\"viewBox=\"0 0 24 24\"\n",
              "     width=\"24px\">\n",
              "    <g>\n",
              "        <path d=\"M19 3H5c-1.1 0-2 .9-2 2v14c0 1.1.9 2 2 2h14c1.1 0 2-.9 2-2V5c0-1.1-.9-2-2-2zM9 17H7v-7h2v7zm4 0h-2V7h2v10zm4 0h-2v-4h2v4z\"/>\n",
              "    </g>\n",
              "</svg>\n",
              "  </button>\n",
              "\n",
              "<style>\n",
              "  .colab-df-quickchart {\n",
              "    background-color: #E8F0FE;\n",
              "    border: none;\n",
              "    border-radius: 50%;\n",
              "    cursor: pointer;\n",
              "    display: none;\n",
              "    fill: #1967D2;\n",
              "    height: 32px;\n",
              "    padding: 0 0 0 0;\n",
              "    width: 32px;\n",
              "  }\n",
              "\n",
              "  .colab-df-quickchart:hover {\n",
              "    background-color: #E2EBFA;\n",
              "    box-shadow: 0px 1px 2px rgba(60, 64, 67, 0.3), 0px 1px 3px 1px rgba(60, 64, 67, 0.15);\n",
              "    fill: #174EA6;\n",
              "  }\n",
              "\n",
              "  [theme=dark] .colab-df-quickchart {\n",
              "    background-color: #3B4455;\n",
              "    fill: #D2E3FC;\n",
              "  }\n",
              "\n",
              "  [theme=dark] .colab-df-quickchart:hover {\n",
              "    background-color: #434B5C;\n",
              "    box-shadow: 0px 1px 3px 1px rgba(0, 0, 0, 0.15);\n",
              "    filter: drop-shadow(0px 1px 2px rgba(0, 0, 0, 0.3));\n",
              "    fill: #FFFFFF;\n",
              "  }\n",
              "</style>\n",
              "\n",
              "  <script>\n",
              "    async function quickchart(key) {\n",
              "      const charts = await google.colab.kernel.invokeFunction(\n",
              "          'suggestCharts', [key], {});\n",
              "    }\n",
              "    (() => {\n",
              "      let quickchartButtonEl =\n",
              "        document.querySelector('#df-d8ec2cec-61eb-4dcf-bcf5-62f056c95109 button');\n",
              "      quickchartButtonEl.style.display =\n",
              "        google.colab.kernel.accessAllowed ? 'block' : 'none';\n",
              "    })();\n",
              "  </script>\n",
              "</div>\n",
              "    </div>\n",
              "  </div>\n"
            ],
            "text/plain": [
              "   EmployeeID  JobInvolvement  PerformanceRating\n",
              "0           1               3                  3\n",
              "1           2               2                  4\n",
              "2           3               3                  3\n",
              "3           4               2                  3\n",
              "4           5               3                  3"
            ]
          },
          "execution_count": 6,
          "metadata": {},
          "output_type": "execute_result"
        }
      ],
      "source": [
        "data_manager_survey.head()"
      ]
    },
    {
      "cell_type": "code",
      "execution_count": 10,
      "metadata": {},
      "outputs": [
        {
          "name": "stdout",
          "output_type": "stream",
          "text": [
            "EmployeeID [   1    2    3 ... 4408 4409 4410]\n",
            "JobInvolvement [3 2 1 4]\n",
            "PerformanceRating [3 4]\n",
            "Tamaño del DataFrame: (4410, 3)\n"
          ]
        }
      ],
      "source": [
        "fn.info_columns(data_manager_survey)"
      ]
    },
    {
      "cell_type": "markdown",
      "metadata": {
        "id": "t14VmzOyUHSe"
      },
      "source": [
        "# Retirement Data"
      ]
    },
    {
      "cell_type": "code",
      "execution_count": null,
      "metadata": {
        "colab": {
          "base_uri": "https://localhost:8080/",
          "height": 206
        },
        "id": "2WXq7V4YS5QJ",
        "outputId": "a525d192-0a52-4456-9027-b5e9a0cda45b"
      },
      "outputs": [
        {
          "data": {
            "text/html": [
              "\n",
              "  <div id=\"df-4356eb38-4b47-4374-b9c7-dd48a9798d67\" class=\"colab-df-container\">\n",
              "    <div>\n",
              "<style scoped>\n",
              "    .dataframe tbody tr th:only-of-type {\n",
              "        vertical-align: middle;\n",
              "    }\n",
              "\n",
              "    .dataframe tbody tr th {\n",
              "        vertical-align: top;\n",
              "    }\n",
              "\n",
              "    .dataframe thead th {\n",
              "        text-align: right;\n",
              "    }\n",
              "</style>\n",
              "<table border=\"1\" class=\"dataframe\">\n",
              "  <thead>\n",
              "    <tr style=\"text-align: right;\">\n",
              "      <th></th>\n",
              "      <th>EmployeeID</th>\n",
              "      <th>Attrition</th>\n",
              "      <th>retirementDate</th>\n",
              "      <th>retirementType</th>\n",
              "      <th>resignationReason</th>\n",
              "    </tr>\n",
              "  </thead>\n",
              "  <tbody>\n",
              "    <tr>\n",
              "      <th>0</th>\n",
              "      <td>2</td>\n",
              "      <td>Yes</td>\n",
              "      <td>15/10/2016</td>\n",
              "      <td>Resignation</td>\n",
              "      <td>Others</td>\n",
              "    </tr>\n",
              "    <tr>\n",
              "      <th>1</th>\n",
              "      <td>7</td>\n",
              "      <td>Yes</td>\n",
              "      <td>20/07/2016</td>\n",
              "      <td>Resignation</td>\n",
              "      <td>Stress</td>\n",
              "    </tr>\n",
              "    <tr>\n",
              "      <th>2</th>\n",
              "      <td>14</td>\n",
              "      <td>Yes</td>\n",
              "      <td>08/11/2016</td>\n",
              "      <td>Resignation</td>\n",
              "      <td>Others</td>\n",
              "    </tr>\n",
              "    <tr>\n",
              "      <th>3</th>\n",
              "      <td>29</td>\n",
              "      <td>Yes</td>\n",
              "      <td>15/10/2016</td>\n",
              "      <td>Resignation</td>\n",
              "      <td>Others</td>\n",
              "    </tr>\n",
              "    <tr>\n",
              "      <th>4</th>\n",
              "      <td>31</td>\n",
              "      <td>Yes</td>\n",
              "      <td>08/02/2016</td>\n",
              "      <td>Resignation</td>\n",
              "      <td>Salary</td>\n",
              "    </tr>\n",
              "  </tbody>\n",
              "</table>\n",
              "</div>\n",
              "    <div class=\"colab-df-buttons\">\n",
              "\n",
              "  <div class=\"colab-df-container\">\n",
              "    <button class=\"colab-df-convert\" onclick=\"convertToInteractive('df-4356eb38-4b47-4374-b9c7-dd48a9798d67')\"\n",
              "            title=\"Convert this dataframe to an interactive table.\"\n",
              "            style=\"display:none;\">\n",
              "\n",
              "  <svg xmlns=\"http://www.w3.org/2000/svg\" height=\"24px\" viewBox=\"0 -960 960 960\">\n",
              "    <path d=\"M120-120v-720h720v720H120Zm60-500h600v-160H180v160Zm220 220h160v-160H400v160Zm0 220h160v-160H400v160ZM180-400h160v-160H180v160Zm440 0h160v-160H620v160ZM180-180h160v-160H180v160Zm440 0h160v-160H620v160Z\"/>\n",
              "  </svg>\n",
              "    </button>\n",
              "\n",
              "  <style>\n",
              "    .colab-df-container {\n",
              "      display:flex;\n",
              "      gap: 12px;\n",
              "    }\n",
              "\n",
              "    .colab-df-convert {\n",
              "      background-color: #E8F0FE;\n",
              "      border: none;\n",
              "      border-radius: 50%;\n",
              "      cursor: pointer;\n",
              "      display: none;\n",
              "      fill: #1967D2;\n",
              "      height: 32px;\n",
              "      padding: 0 0 0 0;\n",
              "      width: 32px;\n",
              "    }\n",
              "\n",
              "    .colab-df-convert:hover {\n",
              "      background-color: #E2EBFA;\n",
              "      box-shadow: 0px 1px 2px rgba(60, 64, 67, 0.3), 0px 1px 3px 1px rgba(60, 64, 67, 0.15);\n",
              "      fill: #174EA6;\n",
              "    }\n",
              "\n",
              "    .colab-df-buttons div {\n",
              "      margin-bottom: 4px;\n",
              "    }\n",
              "\n",
              "    [theme=dark] .colab-df-convert {\n",
              "      background-color: #3B4455;\n",
              "      fill: #D2E3FC;\n",
              "    }\n",
              "\n",
              "    [theme=dark] .colab-df-convert:hover {\n",
              "      background-color: #434B5C;\n",
              "      box-shadow: 0px 1px 3px 1px rgba(0, 0, 0, 0.15);\n",
              "      filter: drop-shadow(0px 1px 2px rgba(0, 0, 0, 0.3));\n",
              "      fill: #FFFFFF;\n",
              "    }\n",
              "  </style>\n",
              "\n",
              "    <script>\n",
              "      const buttonEl =\n",
              "        document.querySelector('#df-4356eb38-4b47-4374-b9c7-dd48a9798d67 button.colab-df-convert');\n",
              "      buttonEl.style.display =\n",
              "        google.colab.kernel.accessAllowed ? 'block' : 'none';\n",
              "\n",
              "      async function convertToInteractive(key) {\n",
              "        const element = document.querySelector('#df-4356eb38-4b47-4374-b9c7-dd48a9798d67');\n",
              "        const dataTable =\n",
              "          await google.colab.kernel.invokeFunction('convertToInteractive',\n",
              "                                                    [key], {});\n",
              "        if (!dataTable) return;\n",
              "\n",
              "        const docLinkHtml = 'Like what you see? Visit the ' +\n",
              "          '<a target=\"_blank\" href=https://colab.research.google.com/notebooks/data_table.ipynb>data table notebook</a>'\n",
              "          + ' to learn more about interactive tables.';\n",
              "        element.innerHTML = '';\n",
              "        dataTable['output_type'] = 'display_data';\n",
              "        await google.colab.output.renderOutput(dataTable, element);\n",
              "        const docLink = document.createElement('div');\n",
              "        docLink.innerHTML = docLinkHtml;\n",
              "        element.appendChild(docLink);\n",
              "      }\n",
              "    </script>\n",
              "  </div>\n",
              "\n",
              "\n",
              "<div id=\"df-af54a91c-fd11-4466-bd72-9284b9ce129e\">\n",
              "  <button class=\"colab-df-quickchart\" onclick=\"quickchart('df-af54a91c-fd11-4466-bd72-9284b9ce129e')\"\n",
              "            title=\"Suggest charts.\"\n",
              "            style=\"display:none;\">\n",
              "\n",
              "<svg xmlns=\"http://www.w3.org/2000/svg\" height=\"24px\"viewBox=\"0 0 24 24\"\n",
              "     width=\"24px\">\n",
              "    <g>\n",
              "        <path d=\"M19 3H5c-1.1 0-2 .9-2 2v14c0 1.1.9 2 2 2h14c1.1 0 2-.9 2-2V5c0-1.1-.9-2-2-2zM9 17H7v-7h2v7zm4 0h-2V7h2v10zm4 0h-2v-4h2v4z\"/>\n",
              "    </g>\n",
              "</svg>\n",
              "  </button>\n",
              "\n",
              "<style>\n",
              "  .colab-df-quickchart {\n",
              "    background-color: #E8F0FE;\n",
              "    border: none;\n",
              "    border-radius: 50%;\n",
              "    cursor: pointer;\n",
              "    display: none;\n",
              "    fill: #1967D2;\n",
              "    height: 32px;\n",
              "    padding: 0 0 0 0;\n",
              "    width: 32px;\n",
              "  }\n",
              "\n",
              "  .colab-df-quickchart:hover {\n",
              "    background-color: #E2EBFA;\n",
              "    box-shadow: 0px 1px 2px rgba(60, 64, 67, 0.3), 0px 1px 3px 1px rgba(60, 64, 67, 0.15);\n",
              "    fill: #174EA6;\n",
              "  }\n",
              "\n",
              "  [theme=dark] .colab-df-quickchart {\n",
              "    background-color: #3B4455;\n",
              "    fill: #D2E3FC;\n",
              "  }\n",
              "\n",
              "  [theme=dark] .colab-df-quickchart:hover {\n",
              "    background-color: #434B5C;\n",
              "    box-shadow: 0px 1px 3px 1px rgba(0, 0, 0, 0.15);\n",
              "    filter: drop-shadow(0px 1px 2px rgba(0, 0, 0, 0.3));\n",
              "    fill: #FFFFFF;\n",
              "  }\n",
              "</style>\n",
              "\n",
              "  <script>\n",
              "    async function quickchart(key) {\n",
              "      const charts = await google.colab.kernel.invokeFunction(\n",
              "          'suggestCharts', [key], {});\n",
              "    }\n",
              "    (() => {\n",
              "      let quickchartButtonEl =\n",
              "        document.querySelector('#df-af54a91c-fd11-4466-bd72-9284b9ce129e button');\n",
              "      quickchartButtonEl.style.display =\n",
              "        google.colab.kernel.accessAllowed ? 'block' : 'none';\n",
              "    })();\n",
              "  </script>\n",
              "</div>\n",
              "    </div>\n",
              "  </div>\n"
            ],
            "text/plain": [
              "   EmployeeID Attrition retirementDate retirementType resignationReason\n",
              "0           2       Yes     15/10/2016    Resignation            Others\n",
              "1           7       Yes     20/07/2016    Resignation            Stress\n",
              "2          14       Yes     08/11/2016    Resignation            Others\n",
              "3          29       Yes     15/10/2016    Resignation            Others\n",
              "4          31       Yes     08/02/2016    Resignation            Salary"
            ]
          },
          "execution_count": 7,
          "metadata": {},
          "output_type": "execute_result"
        }
      ],
      "source": [
        "data_retirement.head()"
      ]
    },
    {
      "cell_type": "code",
      "execution_count": 11,
      "metadata": {},
      "outputs": [
        {
          "name": "stdout",
          "output_type": "stream",
          "text": [
            "EmployeeID [   2    7   14   29   31   36   39   60   66   70   79  100  106  109\n",
            "  111  113  121  125  128  148  157  158  164  165  178  179  182  183\n",
            "  186  196  200  206  212  222  223  225  238  247  256  257  268  271\n",
            "  283  290  305  309  311  316  328  332  334  338  341  350  351  357\n",
            "  379  388  399  403  405  406  409  410  412  426  431  432  436  438\n",
            "  443  449  452  454  463  468  474  475  487  491  492  495  504  505\n",
            "  519  520  522  523  532  534  535  539  540  541  543  544  556  571\n",
            "  572  574  579  581  585  592  600  603  607  614  635  654  656  658\n",
            "  671  675  682  683  689  690  695  696  709  718  723  724  728  740\n",
            "  749  750  755  759  764  774  775  776  779  782  799  800  801  803\n",
            "  811  820  826  828  849  853  854  855  879  896  905  910  914  929\n",
            "  944  947  948  956  965  966  979  980  989  992  998 1000 1005 1014\n",
            " 1016 1022 1024 1033 1034 1040 1041 1055 1056 1069 1075 1076 1081 1082\n",
            " 1096 1097 1108 1112 1118 1122 1133 1138 1139 1181 1185 1187 1195 1204\n",
            " 1213 1215 1227 1234 1237 1239 1246 1247 1249 1255 1258 1263 1264 1282\n",
            " 1302 1313 1315 1320 1324 1335 1337 1339 1340 1345 1349 1353 1384 1390\n",
            " 1395 1405 1417 1418 1423 1427 1429 1430 1442 1447 1449 1452 1463 1472\n",
            " 1477 1484 1499 1501 1506 1509 1530 1536 1540 1549 1570 1576 1579 1581\n",
            " 1583 1591 1595 1598 1618 1627 1628 1634 1635 1648 1649 1652 1653 1656\n",
            " 1666 1670 1676 1682 1692 1693 1695 1708 1717 1726 1727 1738 1741 1753\n",
            " 1760 1775 1779 1781 1786 1798 1802 1804 1808 1811 1820 1821 1827 1849\n",
            " 1858 1869 1873 1875 1876 1879 1880 1882 1896 1901 1902 1906 1908 1913\n",
            " 1919 1922 1924 1933 1938 1944 1945 1957 1961 1962 1965 1974 1975 1989\n",
            " 1990 1992 1993 2002 2004 2005 2009 2010 2011 2013 2014 2026 2041 2042\n",
            " 2044 2049 2051 2055 2062 2070 2073 2077 2084 2105 2124 2126 2128 2141\n",
            " 2145 2152 2153 2159 2160 2165 2166 2179 2188 2193 2194 2198 2210 2219\n",
            " 2220 2225 2229 2234 2244 2245 2246 2249 2252 2269 2270 2271 2273 2281\n",
            " 2290 2296 2298 2319 2323 2324 2325 2349 2366 2375 2380 2384 2399 2414\n",
            " 2417 2418 2426 2435 2436 2449 2450 2459 2462 2468 2470 2475 2484 2486\n",
            " 2492 2494 2503 2504 2510 2511 2525 2526 2539 2545 2546 2551 2552 2566\n",
            " 2567 2578 2582 2588 2592 2603 2608 2609 2651 2655 2657 2665 2674 2683\n",
            " 2685 2697 2704 2707 2709 2716 2717 2719 2725 2728 2733 2734 2752 2772\n",
            " 2783 2785 2790 2794 2805 2807 2809 2810 2815 2819 2823 2854 2860 2865\n",
            " 2875 2887 2888 2893 2897 2899 2900 2912 2917 2919 2922 2933 2942 2947\n",
            " 2954 2969 2971 2976 2979 3000 3006 3010 3019 3040 3046 3049 3051 3053\n",
            " 3061 3065 3068 3088 3097 3098 3104 3105 3118 3119 3122 3123 3126 3136\n",
            " 3140 3146 3152 3162 3163 3165 3178 3187 3196 3197 3208 3211 3223 3230\n",
            " 3245 3249 3251 3256 3268 3272 3274 3278 3281 3290 3291 3297 3319 3328\n",
            " 3339 3343 3345 3346 3349 3350 3352 3366 3371 3372 3376 3378 3383 3389\n",
            " 3392 3394 3403 3408 3414 3415 3427 3431 3432 3435 3444 3445 3459 3460\n",
            " 3462 3463 3472 3474 3475 3479 3480 3481 3483 3484 3496 3511 3512 3514\n",
            " 3519 3521 3525 3532 3540 3543 3547 3554 3575 3594 3596 3598 3611 3615\n",
            " 3622 3623 3629 3630 3635 3636 3649 3658 3663 3664 3668 3680 3689 3690\n",
            " 3695 3699 3704 3714 3715 3716 3719 3722 3739 3740 3741 3743 3751 3760\n",
            " 3766 3768 3789 3793 3794 3795 3819 3836 3845 3850 3854 3869 3884 3887\n",
            " 3888 3896 3905 3906 3919 3920 3929 3932 3938 3940 3945 3954 3956 3962\n",
            " 3964 3973 3974 3980 3981 3995 3996 4009 4015 4016 4021 4022 4036 4037\n",
            " 4048 4052 4058 4062 4073 4078 4079 4121 4125 4127 4135 4144 4153 4155\n",
            " 4167 4174 4177 4179 4186 4187 4189 4195 4198 4203 4204 4222 4242 4253\n",
            " 4255 4260 4264 4275 4277 4279 4280 4285 4289 4293 4324 4330 4335 4345\n",
            " 4357 4358 4363 4367 4369 4370 4382 4387 4389 4392 4403]\n",
            "Attrition ['Yes']\n",
            "retirementDate ['15/10/2016' '20/07/2016' '08/11/2016' '08/02/2016' '18/06/2016'\n",
            " '29/04/2016' '15/12/2016' '18/01/2016' '23/08/2016' '17/02/2016'\n",
            " '23/02/2016' '07/04/2016' '08/10/2016' '12/08/2016' '14/10/2016'\n",
            " '26/07/2016' '02/05/2016' '29/07/2016' '10/01/2016' '29/02/2016'\n",
            " '25/03/2016' '30/06/2016' '16/11/2016' '13/02/2016' '05/07/2016'\n",
            " '22/02/2016' '03/01/2016' '05/03/2016' '04/09/2016' '25/01/2016'\n",
            " '01/06/2016' '22/06/2016' '28/10/2016' '23/06/2016' '30/05/2016'\n",
            " '14/07/2016' '17/08/2016' '28/01/2016' '19/01/2016' '06/04/2016'\n",
            " '06/03/2016' '08/12/2016' '01/09/2016' '11/09/2016' '09/06/2016'\n",
            " '30/09/2016' '17/01/2016' '26/08/2016' '13/03/2016' '19/06/2016'\n",
            " '18/05/2016' '09/03/2016' '24/08/2016' '11/06/2016' '19/02/2016'\n",
            " '22/04/2016' '11/08/2016' '02/09/2016' '01/04/2016' '26/05/2016'\n",
            " '21/07/2016' '26/11/2016' '02/06/2016' '26/06/2016' '25/05/2016'\n",
            " '12/12/2016' '22/10/2016' '06/11/2016' '10/09/2016' '01/05/2016'\n",
            " '14/11/2016' '13/12/2016' '21/09/2016' '27/11/2016' '18/10/2016'\n",
            " '10/05/2016' '10/02/2016' '01/07/2016' '26/02/2016' '03/11/2016'\n",
            " '02/12/2016' '08/01/2016' '04/01/2016' '18/04/2016' '24/01/2016'\n",
            " '31/07/2016' '27/05/2016' '27/04/2016' '19/09/2016' '29/01/2016'\n",
            " '16/09/2016' '12/03/2016' '21/04/2016' '20/05/2016' '18/02/2016'\n",
            " '23/07/2016' '18/03/2016' '25/06/2016' '10/08/2016' '26/03/2016'\n",
            " '21/03/2016' '31/01/2016' '11/10/2016' '05/05/2016' '04/08/2016'\n",
            " '27/10/2016' '31/08/2016' '13/11/2016' '01/10/2016' '29/03/2016'\n",
            " '22/01/2016' '06/12/2016' '24/02/2016' '13/07/2016' '22/07/2016'\n",
            " '28/07/2016' '24/03/2016' '08/04/2016' '20/06/2016' '16/03/2016'\n",
            " '25/11/2016' '23/05/2016' '02/07/2016' '18/09/2016' '14/01/2016'\n",
            " '04/04/2016' '01/02/2016' '05/09/2016' '27/07/2016' '08/09/2016'\n",
            " '07/03/2016' '24/07/2016' '17/11/2016' '15/02/2016' '06/06/2016'\n",
            " '31/03/2016' '14/05/2016' '17/05/2016' '15/01/2016' '19/07/2016'\n",
            " '25/07/2016' '07/05/2016' '22/08/2016' '09/09/2016' '03/03/2016'\n",
            " '28/03/2016' '06/01/2016' '28/05/2016' '03/09/2016' '08/06/2016'\n",
            " '25/08/2016' '16/02/2016' '04/05/2016' '05/10/2016' '21/05/2016'\n",
            " '05/01/2016' '14/12/2016' '23/03/2016' '18/11/2016' '17/03/2016'\n",
            " '11/01/2016' '22/05/2016' '03/05/2016' '30/01/2016' '07/02/2016'\n",
            " '04/12/2016' '20/10/2016' '20/03/2016' '09/05/2016' '25/09/2016'\n",
            " '15/05/2016' '28/08/2016' '10/07/2016' '09/04/2016' '28/11/2016'\n",
            " '02/03/2016' '31/10/2016' '15/07/2016' '03/10/2016' '04/02/2016'\n",
            " '12/02/2016' '26/09/2016' '19/08/2016' '07/01/2016' '11/07/2016'\n",
            " '09/12/2016' '02/04/2016' '29/05/2016' '07/11/2016' '16/10/2016'\n",
            " '03/07/2016' '01/03/2016' '14/06/2016' '13/06/2016' '25/10/2016'\n",
            " '11/11/2016' '27/08/2016' '15/11/2016' '19/05/2016' '10/11/2016'\n",
            " '16/04/2016' '11/02/2016' '22/11/2016' '03/12/2016' '13/10/2016'\n",
            " '30/03/2016' '15/04/2016' '24/04/2016' '07/12/2016' '12/11/2016'\n",
            " '18/08/2016' '16/06/2016' '16/05/2016' '09/10/2016' '28/06/2016'\n",
            " '27/06/2016' '13/01/2016' '24/10/2016' '13/04/2016' '16/08/2016'\n",
            " '24/06/2016' '23/09/2016' '03/06/2016' '06/08/2016' '20/09/2016'\n",
            " '01/12/2016' '08/07/2016' '28/04/2016' '11/05/2016' '29/09/2016'\n",
            " '03/04/2016' '15/09/2016' '24/05/2016' '07/10/2016' '27/09/2016'\n",
            " '11/03/2016' '27/01/2016' '09/11/2016' '04/06/2016' '20/11/2016'\n",
            " '13/05/2016' '23/11/2016' '12/09/2016' '02/02/2016' '16/07/2016'\n",
            " '23/01/2016' '21/10/2016' '08/05/2016' '29/11/2016' '19/03/2016'\n",
            " '17/06/2016' '12/04/2016' '20/02/2016' '02/11/2016' '13/08/2016'\n",
            " '30/11/2016' '30/10/2016' '17/04/2016' '25/04/2016' '05/08/2016'\n",
            " '04/03/2016' '02/01/2016' '08/08/2016' '10/10/2016' '05/11/2016'\n",
            " '06/09/2016' '29/08/2016' '15/03/2016' '26/01/2016' '09/02/2016'\n",
            " '22/03/2016' '07/06/2016' '20/08/2016' '16/01/2016' '06/07/2016'\n",
            " '30/08/2016' '04/07/2016' '05/02/2016' '19/10/2016' '21/06/2016'\n",
            " '30/07/2016' '21/11/2016' '14/04/2016' '11/12/2016' '16/12/2016'\n",
            " '06/02/2016' '05/12/2016' '17/07/2016' '10/12/2016' '11/04/2016'\n",
            " '28/02/2016' '13/09/2016' '19/04/2016' '14/02/2016' '17/10/2016'\n",
            " '04/10/2016' '12/05/2016' '01/11/2016' '29/06/2016' '21/01/2016'\n",
            " '14/08/2016' '21/08/2016' '17/09/2016' '19/11/2016' '28/09/2016'\n",
            " '07/08/2016' '07/09/2016' '02/10/2016']\n",
            "retirementType ['Resignation' 'Fired']\n",
            "resignationReason ['Others' 'Stress' 'Salary' nan]\n",
            "Tamaño del DataFrame: (711, 5)\n"
          ]
        }
      ],
      "source": [
        "fn.info_columns(data_retirement)"
      ]
    }
  ],
  "metadata": {
    "colab": {
      "provenance": []
    },
    "kernelspec": {
      "display_name": "Python 3",
      "name": "python3"
    },
    "language_info": {
      "codemirror_mode": {
        "name": "ipython",
        "version": 3
      },
      "file_extension": ".py",
      "mimetype": "text/x-python",
      "name": "python",
      "nbconvert_exporter": "python",
      "pygments_lexer": "ipython3",
      "version": "3.10.7"
    }
  },
  "nbformat": 4,
  "nbformat_minor": 0
}
