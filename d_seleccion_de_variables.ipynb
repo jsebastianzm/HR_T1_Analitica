{
 "cells": [
  {
   "cell_type": "code",
   "execution_count": 1,
   "metadata": {},
   "outputs": [],
   "source": [
    "import warnings\n",
    "warnings.filterwarnings(\"ignore\")\n",
    "\n",
    "import pandas as pd\n",
    "import numpy as np\n",
    "import a_funciones as fn \n",
    "from sklearn.model_selection import train_test_split\n",
    "from sklearn.compose import ColumnTransformer\n",
    "from sklearn.preprocessing import StandardScaler, LabelEncoder\n",
    "\n",
    "from sklearn.linear_model import LogisticRegression, Lasso\n",
    "from sklearn import tree ###para ajustar arboles de decisión\n",
    "from sklearn.ensemble import RandomForestRegressor ##Ensamble con bagging\n",
    "from sklearn.ensemble import GradientBoostingRegressor ###Ensamble boosting\n"
   ]
  },
  {
   "cell_type": "code",
   "execution_count": 2,
   "metadata": {},
   "outputs": [],
   "source": [
    "#Se vuelve a llamar la base de datos para la seleccion de variables\n",
    "data = pd.read_csv(\"https://raw.githubusercontent.com/jsebastianzm/HR_T1_Analitica/main/data/data_preprocesamiento.csv\")"
   ]
  },
  {
   "cell_type": "code",
   "execution_count": 3,
   "metadata": {},
   "outputs": [],
   "source": [
    "#Es necesario volver a asignar las variables como variables object ya que al crearse el dataframe y volver\n",
    "# a leerse con la libreria pandas, las variables vuelven a cambiar de tipo.\n",
    "columns_category = ['BusinessTravel', 'Department', 'Education', 'EducationField', 'EmployeeID', 'Gender', \n",
    "'JobLevel', 'JobRole', 'MaritalStatus', 'StockOptionLevel', 'EnvironmentSatisfaction', 'JobSatisfaction', \n",
    "'WorkLifeBalance', 'JobInvolvement', 'PerformanceRating', 'Attrition']\n",
    "data[columns_category] = data[columns_category].astype(object)\n",
    "data.drop(['EmployeeID'], axis = 1, inplace = True)"
   ]
  },
  {
   "cell_type": "code",
   "execution_count": 4,
   "metadata": {},
   "outputs": [],
   "source": [
    "#Se asignan las variables object a variables dummies\n",
    "dummies_variables = [\"BusinessTravel\", \"Department\", \"Education\", \"EducationField\", \"Gender\", \"JobLevel\", \n",
    "                     \"Gender\", \"JobLevel\", \"JobRole\", \"MaritalStatus\", \"StockOptionLevel\", \"EnvironmentSatisfaction\", \n",
    "                     \"JobSatisfaction\", \"WorkLifeBalance\", \"JobInvolvement\", \"PerformanceRating\"]\n",
    "data_dummies = pd.get_dummies(data, columns=dummies_variables)"
   ]
  },
  {
   "cell_type": "code",
   "execution_count": 5,
   "metadata": {},
   "outputs": [
    {
     "name": "stdout",
     "output_type": "stream",
     "text": [
      "<class 'pandas.core.frame.DataFrame'>\n",
      "RangeIndex: 4410 entries, 0 to 4409\n",
      "Data columns (total 75 columns):\n",
      " #   Column                             Non-Null Count  Dtype  \n",
      "---  ------                             --------------  -----  \n",
      " 0   Age                                4410 non-null   int64  \n",
      " 1   DistanceFromHome                   4410 non-null   float64\n",
      " 2   MonthlyIncome                      4410 non-null   float64\n",
      " 3   NumCompaniesWorked                 4410 non-null   int64  \n",
      " 4   PercentSalaryHike                  4410 non-null   int64  \n",
      " 5   TotalWorkingYears                  4410 non-null   int64  \n",
      " 6   TrainingTimesLastYear              4410 non-null   int64  \n",
      " 7   YearsAtCompany                     4410 non-null   int64  \n",
      " 8   YearsSinceLastPromotion            4410 non-null   int64  \n",
      " 9   YearsWithCurrManager               4410 non-null   int64  \n",
      " 10  BusinessTravel_Non-Travel          4410 non-null   uint8  \n",
      " 11  BusinessTravel_Travel_Frequently   4410 non-null   uint8  \n",
      " 12  BusinessTravel_Travel_Rarely       4410 non-null   uint8  \n",
      " 13  Department_Human Resources         4410 non-null   uint8  \n",
      " 14  Department_Research & Development  4410 non-null   uint8  \n",
      " 15  Department_Sales                   4410 non-null   uint8  \n",
      " 16  Education_1                        4410 non-null   uint8  \n",
      " 17  Education_2                        4410 non-null   uint8  \n",
      " 18  Education_3                        4410 non-null   uint8  \n",
      " 19  Education_4                        4410 non-null   uint8  \n",
      " 20  Education_5                        4410 non-null   uint8  \n",
      " 21  EducationField_Human Resources     4410 non-null   uint8  \n",
      " 22  EducationField_Life Sciences       4410 non-null   uint8  \n",
      " 23  EducationField_Marketing           4410 non-null   uint8  \n",
      " 24  EducationField_Medical             4410 non-null   uint8  \n",
      " 25  EducationField_Other               4410 non-null   uint8  \n",
      " 26  EducationField_Technical Degree    4410 non-null   uint8  \n",
      " 27  Gender_Female                      4410 non-null   uint8  \n",
      " 28  Gender_Male                        4410 non-null   uint8  \n",
      " 29  JobLevel_1                         4410 non-null   uint8  \n",
      " 30  JobLevel_2                         4410 non-null   uint8  \n",
      " 31  JobLevel_3                         4410 non-null   uint8  \n",
      " 32  JobLevel_4                         4410 non-null   uint8  \n",
      " 33  JobLevel_5                         4410 non-null   uint8  \n",
      " 34  Gender_Female                      4410 non-null   uint8  \n",
      " 35  Gender_Male                        4410 non-null   uint8  \n",
      " 36  JobLevel_1                         4410 non-null   uint8  \n",
      " 37  JobLevel_2                         4410 non-null   uint8  \n",
      " 38  JobLevel_3                         4410 non-null   uint8  \n",
      " 39  JobLevel_4                         4410 non-null   uint8  \n",
      " 40  JobLevel_5                         4410 non-null   uint8  \n",
      " 41  JobRole_Healthcare Representative  4410 non-null   uint8  \n",
      " 42  JobRole_Human Resources            4410 non-null   uint8  \n",
      " 43  JobRole_Laboratory Technician      4410 non-null   uint8  \n",
      " 44  JobRole_Manager                    4410 non-null   uint8  \n",
      " 45  JobRole_Manufacturing Director     4410 non-null   uint8  \n",
      " 46  JobRole_Research Director          4410 non-null   uint8  \n",
      " 47  JobRole_Research Scientist         4410 non-null   uint8  \n",
      " 48  JobRole_Sales Executive            4410 non-null   uint8  \n",
      " 49  JobRole_Sales Representative       4410 non-null   uint8  \n",
      " 50  MaritalStatus_Divorced             4410 non-null   uint8  \n",
      " 51  MaritalStatus_Married              4410 non-null   uint8  \n",
      " 52  MaritalStatus_Single               4410 non-null   uint8  \n",
      " 53  StockOptionLevel_0                 4410 non-null   uint8  \n",
      " 54  StockOptionLevel_1                 4410 non-null   uint8  \n",
      " 55  StockOptionLevel_2                 4410 non-null   uint8  \n",
      " 56  StockOptionLevel_3                 4410 non-null   uint8  \n",
      " 57  EnvironmentSatisfaction_1.0        4410 non-null   uint8  \n",
      " 58  EnvironmentSatisfaction_2.0        4410 non-null   uint8  \n",
      " 59  EnvironmentSatisfaction_3.0        4410 non-null   uint8  \n",
      " 60  EnvironmentSatisfaction_4.0        4410 non-null   uint8  \n",
      " 61  JobSatisfaction_1.0                4410 non-null   uint8  \n",
      " 62  JobSatisfaction_2.0                4410 non-null   uint8  \n",
      " 63  JobSatisfaction_3.0                4410 non-null   uint8  \n",
      " 64  JobSatisfaction_4.0                4410 non-null   uint8  \n",
      " 65  WorkLifeBalance_1.0                4410 non-null   uint8  \n",
      " 66  WorkLifeBalance_2.0                4410 non-null   uint8  \n",
      " 67  WorkLifeBalance_3.0                4410 non-null   uint8  \n",
      " 68  WorkLifeBalance_4.0                4410 non-null   uint8  \n",
      " 69  JobInvolvement_1                   4410 non-null   uint8  \n",
      " 70  JobInvolvement_2                   4410 non-null   uint8  \n",
      " 71  JobInvolvement_3                   4410 non-null   uint8  \n",
      " 72  JobInvolvement_4                   4410 non-null   uint8  \n",
      " 73  PerformanceRating_3                4410 non-null   uint8  \n",
      " 74  PerformanceRating_4                4410 non-null   uint8  \n",
      "dtypes: float64(2), int64(8), uint8(65)\n",
      "memory usage: 624.6 KB\n"
     ]
    }
   ],
   "source": [
    "#Se separan las bases de datos en la variable a predecir y las variables independientes\n",
    "y = data_dummies[\"Attrition\"]\n",
    "x = data_dummies.loc[:, ~data_dummies.columns.isin(['Attrition'])]\n",
    "x.info()"
   ]
  },
  {
   "cell_type": "code",
   "execution_count": 6,
   "metadata": {},
   "outputs": [
    {
     "data": {
      "text/html": [
       "<div>\n",
       "<style scoped>\n",
       "    .dataframe tbody tr th:only-of-type {\n",
       "        vertical-align: middle;\n",
       "    }\n",
       "\n",
       "    .dataframe tbody tr th {\n",
       "        vertical-align: top;\n",
       "    }\n",
       "\n",
       "    .dataframe thead th {\n",
       "        text-align: right;\n",
       "    }\n",
       "</style>\n",
       "<table border=\"1\" class=\"dataframe\">\n",
       "  <thead>\n",
       "    <tr style=\"text-align: right;\">\n",
       "      <th></th>\n",
       "      <th>Attrition</th>\n",
       "    </tr>\n",
       "  </thead>\n",
       "  <tbody>\n",
       "    <tr>\n",
       "      <th>0</th>\n",
       "      <td>0</td>\n",
       "    </tr>\n",
       "    <tr>\n",
       "      <th>1</th>\n",
       "      <td>1</td>\n",
       "    </tr>\n",
       "    <tr>\n",
       "      <th>2</th>\n",
       "      <td>0</td>\n",
       "    </tr>\n",
       "    <tr>\n",
       "      <th>3</th>\n",
       "      <td>0</td>\n",
       "    </tr>\n",
       "    <tr>\n",
       "      <th>4</th>\n",
       "      <td>0</td>\n",
       "    </tr>\n",
       "  </tbody>\n",
       "</table>\n",
       "</div>"
      ],
      "text/plain": [
       "   Attrition\n",
       "0          0\n",
       "1          1\n",
       "2          0\n",
       "3          0\n",
       "4          0"
      ]
     },
     "execution_count": 6,
     "metadata": {},
     "output_type": "execute_result"
    }
   ],
   "source": [
    "#Se aplica labelencoder a la variables Y\n",
    "encoder = LabelEncoder()\n",
    "\n",
    "# Ajustar y transformar las categorías\n",
    "y = encoder.fit_transform(y)\n",
    "y = pd.DataFrame(y, columns = ['Attrition'])\n",
    "y.head()\n",
    "\n"
   ]
  },
  {
   "cell_type": "code",
   "execution_count": 7,
   "metadata": {},
   "outputs": [],
   "source": [
    "scaler=StandardScaler()\n",
    "scaler.fit(x)\n",
    "X2=scaler.transform(x)\n",
    "X=pd.DataFrame(X2,columns=x.columns)\n"
   ]
  },
  {
   "cell_type": "code",
   "execution_count": 8,
   "metadata": {},
   "outputs": [],
   "source": [
    "m_lreg = LogisticRegression()\n",
    "m_rtree=tree.DecisionTreeRegressor()\n",
    "m_rf= RandomForestRegressor()\n",
    "m_gbt=GradientBoostingRegressor()\n",
    "\n",
    "modelos=list([m_lreg,m_rtree, m_rf, m_gbt])\n",
    "\n",
    "\n"
   ]
  },
  {
   "cell_type": "code",
   "execution_count": 9,
   "metadata": {},
   "outputs": [
    {
     "data": {
      "text/plain": [
       "(19,)"
      ]
     },
     "execution_count": 9,
     "metadata": {},
     "output_type": "execute_result"
    }
   ],
   "source": [
    "#\n",
    "var_names_models=fn.sel_variables(modelos,X,y,threshold=\"1.7*mean\")\n",
    "var_names_models.shape\n"
   ]
  },
  {
   "cell_type": "code",
   "execution_count": 21,
   "metadata": {},
   "outputs": [
    {
     "data": {
      "text/plain": [
       "(10,)"
      ]
     },
     "execution_count": 21,
     "metadata": {},
     "output_type": "execute_result"
    }
   ],
   "source": [
    "#Se aplica seleccion de variables con el metodo Lasso\n",
    "var_names_lasso=fn.sel_variablesLasso(modelos,X,y,alpha=0.03,max_features=15)\n",
    "var_names_lasso.shape"
   ]
  },
  {
   "cell_type": "code",
   "execution_count": 11,
   "metadata": {},
   "outputs": [
    {
     "name": "stdout",
     "output_type": "stream",
     "text": [
      "(4410, 19) (4410, 75)\n"
     ]
    }
   ],
   "source": [
    "X_mod=X[var_names_models] ### matriz con variables seleccionadas\n",
    "print(X_mod.shape, X.shape)"
   ]
  },
  {
   "cell_type": "code",
   "execution_count": 12,
   "metadata": {},
   "outputs": [
    {
     "name": "stdout",
     "output_type": "stream",
     "text": [
      "(4410, 10) (4410, 75)\n"
     ]
    }
   ],
   "source": [
    "X_Lasso=X[var_names_lasso] ### matriz con variables seleccionadas\n",
    "print(X_Lasso.shape, X.shape)"
   ]
  },
  {
   "cell_type": "code",
   "execution_count": 14,
   "metadata": {},
   "outputs": [],
   "source": [
    "#Medicion de los modelos para la clasificacion\n",
    "F1_df=fn.medir_modelos(modelos,\"f1\",X,y,10) ## base con todas las variables \n",
    "F1_mod=fn.medir_modelos(modelos,\"f1\",X_mod,y,10) ### base con variables seleccionadas\n",
    "F1_Lasso=fn.medir_modelos(modelos,\"f1\",X_Lasso,y,10) ### base con variables seleccionadas"
   ]
  },
  {
   "cell_type": "markdown",
   "metadata": {},
   "source": [
    "## Toca agregar y completar el boxplot siguiente"
   ]
  },
  {
   "cell_type": "code",
   "execution_count": null,
   "metadata": {},
   "outputs": [],
   "source": [
    "# =pd.concat([rmse_df,rmse_varsel],axis=1)\n",
    "# rmse.columns=['rl', 'dt', 'rf', 'gb',\n",
    "#        'rl_Sel', 'dt_sel', 'rf_sel', 'gb_Sel']\n",
    "\n",
    "# rmse_df.plot(kind='box') #### gráfico para modelos todas las varibles\n",
    "# rmse_varsel.plot(kind='box') ### gráfico para modelo variables seleccionadas\n",
    "# rmse.plot(kind='box') ### gráfico para modelos sel y todas las variables\n",
    "\n",
    "# rmse.mean() ### medias de mape"
   ]
  },
  {
   "cell_type": "code",
   "execution_count": null,
   "metadata": {},
   "outputs": [],
   "source": [
    "# # Separación en conjuntos de entrenamiento y validación con 80% de muestras para entrenamiento\n",
    "# x_train, x_test, y_train, y_test = train_test_split(x, y, test_size=0.2, random_state=1)"
   ]
  },
  {
   "cell_type": "code",
   "execution_count": null,
   "metadata": {},
   "outputs": [],
   "source": [
    "# #Estandarización de variables númericas\n",
    "# numeric_columns = data_dummies.loc[:, data_dummies.columns.isin(['Age', 'DistanceFromHome', 'EmployeeID', \n",
    "#                                 'MonthlyIncome', 'NumCompaniesWorked', 'PercentSalaryHike', 'TotalWorkingYears',\n",
    "#                                 'TrainingTimesLastYear', 'YearsAtCompany', 'YearsSinceLastPromotion', 'YearsWithCurrManager'])]\n",
    "# pipeline=ColumnTransformer([( \"std_numericas\",StandardScaler() , numeric_columns)], remainder='passthrough')\n",
    "\n",
    "# x_train = pipeline.fit_transform(x_train)\n",
    "# x_test = pipeline.transform(x_test)"
   ]
  }
 ],
 "metadata": {
  "kernelspec": {
   "display_name": "Python 3",
   "language": "python",
   "name": "python3"
  },
  "language_info": {
   "codemirror_mode": {
    "name": "ipython",
    "version": 3
   },
   "file_extension": ".py",
   "mimetype": "text/x-python",
   "name": "python",
   "nbconvert_exporter": "python",
   "pygments_lexer": "ipython3",
   "version": "3.10.7"
  },
  "orig_nbformat": 4
 },
 "nbformat": 4,
 "nbformat_minor": 2
}
