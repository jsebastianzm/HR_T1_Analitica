{
 "cells": [
  {
   "cell_type": "code",
   "execution_count": 2,
   "metadata": {},
   "outputs": [],
   "source": [
    "import warnings\n",
    "warnings.filterwarnings(\"ignore\")\n",
    "\n",
    "import pandas as pd\n",
    "import a_funciones as fn \n",
    "import joblib\n",
    "\n",
    "from sklearn.preprocessing import StandardScaler, LabelEncoder\n",
    "from sklearn.ensemble import GradientBoostingClassifier\n",
    "from sklearn.ensemble import RandomForestClassifier\n",
    "from sklearn.linear_model import LogisticRegression\n",
    "from sklearn import tree ###para ajustar arboles de decisión\n",
    "from sklearn.model_selection import GridSearchCV, cross_validate\n"
   ]
  },
  {
   "cell_type": "code",
   "execution_count": 3,
   "metadata": {},
   "outputs": [],
   "source": [
    "#Se vuelve a llamar la base de datos para la seleccion de variables\n",
    "data = pd.read_csv(\"https://raw.githubusercontent.com/jsebastianzm/HR_T1_Analitica/main/data/data_preprocesamiento.csv\")"
   ]
  },
  {
   "cell_type": "code",
   "execution_count": 4,
   "metadata": {},
   "outputs": [],
   "source": [
    "#Es necesario volver a asignar las variables como variables object ya que al crearse el dataframe y volver\n",
    "# a leerse con la libreria pandas, las variables vuelven a cambiar de tipo.\n",
    "columns_category = ['BusinessTravel', 'Department', 'Education', 'EducationField', 'EmployeeID', 'Gender', \n",
    "'JobLevel', 'JobRole', 'MaritalStatus', 'StockOptionLevel', 'EnvironmentSatisfaction', 'JobSatisfaction', \n",
    "'WorkLifeBalance', 'JobInvolvement', 'PerformanceRating', 'Attrition']\n",
    "data[columns_category] = data[columns_category].astype(object)\n",
    "data.drop(['EmployeeID'], axis = 1, inplace = True)"
   ]
  },
  {
   "cell_type": "code",
   "execution_count": 5,
   "metadata": {},
   "outputs": [],
   "source": [
    "#Se asignan las variables object a variables dummies\n",
    "dummies_variables = [\"BusinessTravel\", \"Department\", \"Education\", \"EducationField\", \"Gender\", \"JobLevel\", \n",
    "                     \"Gender\", \"JobLevel\", \"JobRole\", \"MaritalStatus\", \"StockOptionLevel\", \"EnvironmentSatisfaction\", \n",
    "                     \"JobSatisfaction\", \"WorkLifeBalance\", \"JobInvolvement\", \"PerformanceRating\"]\n",
    "data_dummies = pd.get_dummies(data, columns=dummies_variables)"
   ]
  },
  {
   "cell_type": "code",
   "execution_count": 6,
   "metadata": {},
   "outputs": [
    {
     "name": "stdout",
     "output_type": "stream",
     "text": [
      "<class 'pandas.core.frame.DataFrame'>\n",
      "RangeIndex: 4410 entries, 0 to 4409\n",
      "Data columns (total 75 columns):\n",
      " #   Column                             Non-Null Count  Dtype  \n",
      "---  ------                             --------------  -----  \n",
      " 0   Age                                4410 non-null   int64  \n",
      " 1   DistanceFromHome                   4410 non-null   float64\n",
      " 2   MonthlyIncome                      4410 non-null   float64\n",
      " 3   NumCompaniesWorked                 4410 non-null   int64  \n",
      " 4   PercentSalaryHike                  4410 non-null   int64  \n",
      " 5   TotalWorkingYears                  4410 non-null   int64  \n",
      " 6   TrainingTimesLastYear              4410 non-null   int64  \n",
      " 7   YearsAtCompany                     4410 non-null   int64  \n",
      " 8   YearsSinceLastPromotion            4410 non-null   int64  \n",
      " 9   YearsWithCurrManager               4410 non-null   int64  \n",
      " 10  BusinessTravel_Non-Travel          4410 non-null   uint8  \n",
      " 11  BusinessTravel_Travel_Frequently   4410 non-null   uint8  \n",
      " 12  BusinessTravel_Travel_Rarely       4410 non-null   uint8  \n",
      " 13  Department_Human Resources         4410 non-null   uint8  \n",
      " 14  Department_Research & Development  4410 non-null   uint8  \n",
      " 15  Department_Sales                   4410 non-null   uint8  \n",
      " 16  Education_1                        4410 non-null   uint8  \n",
      " 17  Education_2                        4410 non-null   uint8  \n",
      " 18  Education_3                        4410 non-null   uint8  \n",
      " 19  Education_4                        4410 non-null   uint8  \n",
      " 20  Education_5                        4410 non-null   uint8  \n",
      " 21  EducationField_Human Resources     4410 non-null   uint8  \n",
      " 22  EducationField_Life Sciences       4410 non-null   uint8  \n",
      " 23  EducationField_Marketing           4410 non-null   uint8  \n",
      " 24  EducationField_Medical             4410 non-null   uint8  \n",
      " 25  EducationField_Other               4410 non-null   uint8  \n",
      " 26  EducationField_Technical Degree    4410 non-null   uint8  \n",
      " 27  Gender_Female                      4410 non-null   uint8  \n",
      " 28  Gender_Male                        4410 non-null   uint8  \n",
      " 29  JobLevel_1                         4410 non-null   uint8  \n",
      " 30  JobLevel_2                         4410 non-null   uint8  \n",
      " 31  JobLevel_3                         4410 non-null   uint8  \n",
      " 32  JobLevel_4                         4410 non-null   uint8  \n",
      " 33  JobLevel_5                         4410 non-null   uint8  \n",
      " 34  Gender_Female                      4410 non-null   uint8  \n",
      " 35  Gender_Male                        4410 non-null   uint8  \n",
      " 36  JobLevel_1                         4410 non-null   uint8  \n",
      " 37  JobLevel_2                         4410 non-null   uint8  \n",
      " 38  JobLevel_3                         4410 non-null   uint8  \n",
      " 39  JobLevel_4                         4410 non-null   uint8  \n",
      " 40  JobLevel_5                         4410 non-null   uint8  \n",
      " 41  JobRole_Healthcare Representative  4410 non-null   uint8  \n",
      " 42  JobRole_Human Resources            4410 non-null   uint8  \n",
      " 43  JobRole_Laboratory Technician      4410 non-null   uint8  \n",
      " 44  JobRole_Manager                    4410 non-null   uint8  \n",
      " 45  JobRole_Manufacturing Director     4410 non-null   uint8  \n",
      " 46  JobRole_Research Director          4410 non-null   uint8  \n",
      " 47  JobRole_Research Scientist         4410 non-null   uint8  \n",
      " 48  JobRole_Sales Executive            4410 non-null   uint8  \n",
      " 49  JobRole_Sales Representative       4410 non-null   uint8  \n",
      " 50  MaritalStatus_Divorced             4410 non-null   uint8  \n",
      " 51  MaritalStatus_Married              4410 non-null   uint8  \n",
      " 52  MaritalStatus_Single               4410 non-null   uint8  \n",
      " 53  StockOptionLevel_0                 4410 non-null   uint8  \n",
      " 54  StockOptionLevel_1                 4410 non-null   uint8  \n",
      " 55  StockOptionLevel_2                 4410 non-null   uint8  \n",
      " 56  StockOptionLevel_3                 4410 non-null   uint8  \n",
      " 57  EnvironmentSatisfaction_1.0        4410 non-null   uint8  \n",
      " 58  EnvironmentSatisfaction_2.0        4410 non-null   uint8  \n",
      " 59  EnvironmentSatisfaction_3.0        4410 non-null   uint8  \n",
      " 60  EnvironmentSatisfaction_4.0        4410 non-null   uint8  \n",
      " 61  JobSatisfaction_1.0                4410 non-null   uint8  \n",
      " 62  JobSatisfaction_2.0                4410 non-null   uint8  \n",
      " 63  JobSatisfaction_3.0                4410 non-null   uint8  \n",
      " 64  JobSatisfaction_4.0                4410 non-null   uint8  \n",
      " 65  WorkLifeBalance_1.0                4410 non-null   uint8  \n",
      " 66  WorkLifeBalance_2.0                4410 non-null   uint8  \n",
      " 67  WorkLifeBalance_3.0                4410 non-null   uint8  \n",
      " 68  WorkLifeBalance_4.0                4410 non-null   uint8  \n",
      " 69  JobInvolvement_1                   4410 non-null   uint8  \n",
      " 70  JobInvolvement_2                   4410 non-null   uint8  \n",
      " 71  JobInvolvement_3                   4410 non-null   uint8  \n",
      " 72  JobInvolvement_4                   4410 non-null   uint8  \n",
      " 73  PerformanceRating_3                4410 non-null   uint8  \n",
      " 74  PerformanceRating_4                4410 non-null   uint8  \n",
      "dtypes: float64(2), int64(8), uint8(65)\n",
      "memory usage: 624.6 KB\n"
     ]
    }
   ],
   "source": [
    "#Se separan las bases de datos en la variable a predecir y las variables independientes\n",
    "y = data_dummies[\"Attrition\"]\n",
    "x = data_dummies.loc[:, ~data_dummies.columns.isin(['Attrition'])]\n",
    "x.info()"
   ]
  },
  {
   "cell_type": "code",
   "execution_count": 7,
   "metadata": {},
   "outputs": [
    {
     "data": {
      "text/html": [
       "<div>\n",
       "<style scoped>\n",
       "    .dataframe tbody tr th:only-of-type {\n",
       "        vertical-align: middle;\n",
       "    }\n",
       "\n",
       "    .dataframe tbody tr th {\n",
       "        vertical-align: top;\n",
       "    }\n",
       "\n",
       "    .dataframe thead th {\n",
       "        text-align: right;\n",
       "    }\n",
       "</style>\n",
       "<table border=\"1\" class=\"dataframe\">\n",
       "  <thead>\n",
       "    <tr style=\"text-align: right;\">\n",
       "      <th></th>\n",
       "      <th>Attrition</th>\n",
       "    </tr>\n",
       "  </thead>\n",
       "  <tbody>\n",
       "    <tr>\n",
       "      <th>0</th>\n",
       "      <td>0</td>\n",
       "    </tr>\n",
       "    <tr>\n",
       "      <th>1</th>\n",
       "      <td>1</td>\n",
       "    </tr>\n",
       "    <tr>\n",
       "      <th>2</th>\n",
       "      <td>0</td>\n",
       "    </tr>\n",
       "    <tr>\n",
       "      <th>3</th>\n",
       "      <td>0</td>\n",
       "    </tr>\n",
       "    <tr>\n",
       "      <th>4</th>\n",
       "      <td>0</td>\n",
       "    </tr>\n",
       "  </tbody>\n",
       "</table>\n",
       "</div>"
      ],
      "text/plain": [
       "   Attrition\n",
       "0          0\n",
       "1          1\n",
       "2          0\n",
       "3          0\n",
       "4          0"
      ]
     },
     "execution_count": 7,
     "metadata": {},
     "output_type": "execute_result"
    }
   ],
   "source": [
    "#Se aplica labelencoder a la variables Y\n",
    "encoder = LabelEncoder()\n",
    "\n",
    "# Ajustar y transformar las categorías\n",
    "y = encoder.fit_transform(y)\n",
    "y = pd.DataFrame(y, columns = ['Attrition'])\n",
    "y.head()\n",
    "\n"
   ]
  },
  {
   "cell_type": "code",
   "execution_count": 8,
   "metadata": {},
   "outputs": [],
   "source": [
    "scaler=StandardScaler()\n",
    "scaler.fit(x)\n",
    "X2=scaler.transform(x)\n",
    "X=pd.DataFrame(X2,columns=x.columns)\n"
   ]
  },
  {
   "cell_type": "code",
   "execution_count": 9,
   "metadata": {},
   "outputs": [],
   "source": [
    "m_lreg = LogisticRegression()\n",
    "m_rtree= tree.DecisionTreeClassifier()\n",
    "m_rf= RandomForestClassifier()\n",
    "m_gbt=GradientBoostingClassifier()\n",
    "\n",
    "modelos=list([m_lreg,m_rtree, m_rf, m_gbt])\n",
    "# modelos=list([m_lreg,m_rtree])\n",
    "\n"
   ]
  },
  {
   "cell_type": "code",
   "execution_count": 10,
   "metadata": {},
   "outputs": [
    {
     "data": {
      "text/plain": [
       "(18,)"
      ]
     },
     "execution_count": 10,
     "metadata": {},
     "output_type": "execute_result"
    }
   ],
   "source": [
    "#\n",
    "var_names_models=fn.sel_variables(modelos,X,y,threshold=\"1.7*mean\")\n",
    "var_names_models.shape\n"
   ]
  },
  {
   "cell_type": "code",
   "execution_count": 11,
   "metadata": {},
   "outputs": [
    {
     "data": {
      "text/plain": [
       "(10,)"
      ]
     },
     "execution_count": 11,
     "metadata": {},
     "output_type": "execute_result"
    }
   ],
   "source": [
    "#Se aplica seleccion de variables con el metodo Lasso\n",
    "var_names_lasso=fn.sel_variablesLasso(modelos,X,y,alpha=0.03,max_features=15)\n",
    "var_names_lasso.shape"
   ]
  },
  {
   "cell_type": "code",
   "execution_count": 12,
   "metadata": {},
   "outputs": [
    {
     "name": "stdout",
     "output_type": "stream",
     "text": [
      "(4410, 18) (4410, 75)\n"
     ]
    }
   ],
   "source": [
    "X_mod=X[var_names_models] ### matriz con variables seleccionadas\n",
    "print(X_mod.shape, X.shape)"
   ]
  },
  {
   "cell_type": "code",
   "execution_count": 13,
   "metadata": {},
   "outputs": [
    {
     "name": "stdout",
     "output_type": "stream",
     "text": [
      "(4410, 10) (4410, 75)\n"
     ]
    }
   ],
   "source": [
    "X_Lasso=X[var_names_lasso] ### matriz con variables seleccionadas\n",
    "print(X_Lasso.shape, X.shape)"
   ]
  },
  {
   "cell_type": "code",
   "execution_count": 14,
   "metadata": {},
   "outputs": [],
   "source": [
    "# X_mod.head()"
   ]
  },
  {
   "cell_type": "code",
   "execution_count": 15,
   "metadata": {},
   "outputs": [],
   "source": [
    "#Medicion de los modelos para la clasificacion\n",
    "F1_df=fn.medir_modelos(modelos,\"f1\",X,y,10) ## base con todas las variables \n",
    "F1_mod=fn.medir_modelos(modelos,\"f1\",X_mod,y,10) ### base con variables seleccionadas\n",
    "F1_Lasso=fn.medir_modelos(modelos,\"f1\",X_Lasso,y,10) ### base con variables seleccionadas"
   ]
  },
  {
   "cell_type": "code",
   "execution_count": 16,
   "metadata": {},
   "outputs": [
    {
     "data": {
      "text/html": [
       "<div>\n",
       "<style scoped>\n",
       "    .dataframe tbody tr th:only-of-type {\n",
       "        vertical-align: middle;\n",
       "    }\n",
       "\n",
       "    .dataframe tbody tr th {\n",
       "        vertical-align: top;\n",
       "    }\n",
       "\n",
       "    .dataframe thead th {\n",
       "        text-align: right;\n",
       "    }\n",
       "</style>\n",
       "<table border=\"1\" class=\"dataframe\">\n",
       "  <thead>\n",
       "    <tr style=\"text-align: right;\">\n",
       "      <th></th>\n",
       "      <th>reg_logistic</th>\n",
       "      <th>decision_tree</th>\n",
       "      <th>random_forest</th>\n",
       "      <th>gradient_boosting</th>\n",
       "    </tr>\n",
       "  </thead>\n",
       "  <tbody>\n",
       "    <tr>\n",
       "      <th>0</th>\n",
       "      <td>0.238095</td>\n",
       "      <td>0.934307</td>\n",
       "      <td>0.926471</td>\n",
       "      <td>0.446602</td>\n",
       "    </tr>\n",
       "    <tr>\n",
       "      <th>1</th>\n",
       "      <td>0.252874</td>\n",
       "      <td>0.964539</td>\n",
       "      <td>0.964539</td>\n",
       "      <td>0.524272</td>\n",
       "    </tr>\n",
       "    <tr>\n",
       "      <th>2</th>\n",
       "      <td>0.204545</td>\n",
       "      <td>0.957746</td>\n",
       "      <td>0.957746</td>\n",
       "      <td>0.369565</td>\n",
       "    </tr>\n",
       "    <tr>\n",
       "      <th>3</th>\n",
       "      <td>0.222222</td>\n",
       "      <td>0.958333</td>\n",
       "      <td>0.958333</td>\n",
       "      <td>0.375000</td>\n",
       "    </tr>\n",
       "    <tr>\n",
       "      <th>4</th>\n",
       "      <td>0.216867</td>\n",
       "      <td>0.948905</td>\n",
       "      <td>0.948905</td>\n",
       "      <td>0.514851</td>\n",
       "    </tr>\n",
       "    <tr>\n",
       "      <th>5</th>\n",
       "      <td>0.333333</td>\n",
       "      <td>0.950355</td>\n",
       "      <td>0.950355</td>\n",
       "      <td>0.475248</td>\n",
       "    </tr>\n",
       "    <tr>\n",
       "      <th>6</th>\n",
       "      <td>0.172840</td>\n",
       "      <td>0.959459</td>\n",
       "      <td>0.959459</td>\n",
       "      <td>0.307692</td>\n",
       "    </tr>\n",
       "    <tr>\n",
       "      <th>7</th>\n",
       "      <td>0.195122</td>\n",
       "      <td>0.948905</td>\n",
       "      <td>0.948905</td>\n",
       "      <td>0.408163</td>\n",
       "    </tr>\n",
       "    <tr>\n",
       "      <th>8</th>\n",
       "      <td>0.326087</td>\n",
       "      <td>0.935252</td>\n",
       "      <td>0.935252</td>\n",
       "      <td>0.538462</td>\n",
       "    </tr>\n",
       "    <tr>\n",
       "      <th>9</th>\n",
       "      <td>0.144578</td>\n",
       "      <td>0.965986</td>\n",
       "      <td>0.965986</td>\n",
       "      <td>0.361702</td>\n",
       "    </tr>\n",
       "  </tbody>\n",
       "</table>\n",
       "</div>"
      ],
      "text/plain": [
       "   reg_logistic  decision_tree  random_forest  gradient_boosting\n",
       "0      0.238095       0.934307       0.926471           0.446602\n",
       "1      0.252874       0.964539       0.964539           0.524272\n",
       "2      0.204545       0.957746       0.957746           0.369565\n",
       "3      0.222222       0.958333       0.958333           0.375000\n",
       "4      0.216867       0.948905       0.948905           0.514851\n",
       "5      0.333333       0.950355       0.950355           0.475248\n",
       "6      0.172840       0.959459       0.959459           0.307692\n",
       "7      0.195122       0.948905       0.948905           0.408163\n",
       "8      0.326087       0.935252       0.935252           0.538462\n",
       "9      0.144578       0.965986       0.965986           0.361702"
      ]
     },
     "execution_count": 16,
     "metadata": {},
     "output_type": "execute_result"
    }
   ],
   "source": [
    "F1_Lasso"
   ]
  },
  {
   "cell_type": "code",
   "execution_count": null,
   "metadata": {},
   "outputs": [],
   "source": []
  },
  {
   "cell_type": "markdown",
   "metadata": {},
   "source": [
    "## Toca agregar y completar el boxplot siguiente"
   ]
  },
  {
   "cell_type": "code",
   "execution_count": 17,
   "metadata": {},
   "outputs": [
    {
     "data": {
      "text/plain": [
       "<Axes: >"
      ]
     },
     "execution_count": 17,
     "metadata": {},
     "output_type": "execute_result"
    },
    {
     "data": {
      "image/png": "[encoded data removed]",
      "text/plain": [
       "<Figure size 640x480 with 1 Axes>"
      ]
     },
     "metadata": {},
     "output_type": "display_data"
    },
    {
     "data": {
      "image/png": "[encoded data removed]",
      "text/plain": [
       "<Figure size 640x480 with 1 Axes>"
      ]
     },
     "metadata": {},
     "output_type": "display_data"
    },
    {
     "data": {
      "image/png": "[encoded data removed]",
      "text/plain": [
       "<Figure size 640x480 with 1 Axes>"
      ]
     },
     "metadata": {},
     "output_type": "display_data"
    },
    {
     "data": {
      "image/png": "[encoded data removed]",
      "text/plain": [
       "<Figure size 640x480 with 1 Axes>"
      ]
     },
     "metadata": {},
     "output_type": "display_data"
    },
    {
     "data": {
      "image/png": "[encoded data removed]",
      "text/plain": [
       "<Figure size 640x480 with 1 Axes>"
      ]
     },
     "metadata": {},
     "output_type": "display_data"
    },
    {
     "data": {
      "image/png": "[encoded data removed]",
      "text/plain": [
       "<Figure size 640x480 with 1 Axes>"
      ]
     },
     "metadata": {},
     "output_type": "display_data"
    }
   ],
   "source": [
    "F1_score1 =pd.concat([F1_df,F1_mod],axis=1)\n",
    "F1_score1.columns=['lreg', 'rtree', 'rf', 'gbt',\n",
    "    'lreg_mod', 'rtree_mod', 'rf_mod', 'gbt_mod']\n",
    "\n",
    "F1_score2 =pd.concat([F1_df,F1_Lasso],axis=1)\n",
    "F1_score2.columns=['lreg', 'rtree', 'rf', 'gbt',\n",
    "    'lreg_Lasso', 'rtree_Lasso', 'rf_Lasso', 'gbt_Lasso']\n",
    "\n",
    "F1_score3 =pd.concat([F1_Lasso,F1_mod],axis=1)\n",
    "F1_score3.columns=['lreg_Lasso', 'rtree_Lasso', 'rf_Lasso', 'gb_Lassot',\n",
    "    'lreg_mod', 'rtree_mod', 'rf_mod', 'gbt_mod']\n",
    "\n",
    "F1_df.plot(kind='box') #### gráfico para modelos todas las varibles\n",
    "F1_mod.plot(kind='box') ### gráfico para modelo variables seleccionadas\n",
    "F1_Lasso.plot(kind='box') ### gráfico para modelos sel y todas las variables\n",
    "F1_score1.plot(kind='box')\n",
    "F1_score2.plot(kind='box')\n",
    "F1_score3.plot(kind='box')"
   ]
  },
  {
   "cell_type": "code",
   "execution_count": 18,
   "metadata": {},
   "outputs": [
    {
     "data": {
      "text/plain": [
       "reg_logistic         0.283155\n",
       "decision_tree        0.994345\n",
       "random_forest        0.999291\n",
       "gradient_boosting    0.515828\n",
       "dtype: float64"
      ]
     },
     "execution_count": 18,
     "metadata": {},
     "output_type": "execute_result"
    }
   ],
   "source": [
    "F1_df.mean()"
   ]
  },
  {
   "cell_type": "code",
   "execution_count": 19,
   "metadata": {},
   "outputs": [
    {
     "data": {
      "text/plain": [
       "reg_logistic         0.267014\n",
       "decision_tree        0.995724\n",
       "random_forest        0.997163\n",
       "gradient_boosting    0.527498\n",
       "dtype: float64"
      ]
     },
     "execution_count": 19,
     "metadata": {},
     "output_type": "execute_result"
    }
   ],
   "source": [
    "F1_mod.mean()"
   ]
  },
  {
   "cell_type": "code",
   "execution_count": 20,
   "metadata": {},
   "outputs": [
    {
     "data": {
      "text/plain": [
       "reg_logistic         0.230656\n",
       "decision_tree        0.952379\n",
       "random_forest        0.951595\n",
       "gradient_boosting    0.432156\n",
       "dtype: float64"
      ]
     },
     "execution_count": 20,
     "metadata": {},
     "output_type": "execute_result"
    }
   ],
   "source": [
    "F1_Lasso.mean()"
   ]
  },
  {
   "cell_type": "code",
   "execution_count": 39,
   "metadata": {},
   "outputs": [],
   "source": [
    "param_grid = {'max_depth': [3,5,7,8,9],# Maxima profundidad\n",
    "              'max_features': [0.7,0.8,0.9,1],# Maximo de caracteristicas a usar\n",
    "              'max_leaf_nodes': [14,15,16,17,18],#Maximo de nodos\n",
    "              'min_samples_leaf': [3,4,5,7,10,12],#Minimo de muestras para los nodos hoja\n",
    "              'criterion': ['gini', 'entropy'],#Medir la cantidad de división.\n",
    "              'splitter': ['best']}#Estrategia para dividir cada nodo"
   ]
  },
  {
   "cell_type": "code",
   "execution_count": 40,
   "metadata": {},
   "outputs": [
    {
     "data": {
      "text/html": [
       "<style>#sk-container-id-3 {color: black;background-color: white;}#sk-container-id-3 pre{padding: 0;}#sk-container-id-3 div.sk-toggleable {background-color: white;}#sk-container-id-3 label.sk-toggleable__label {cursor: pointer;display: block;width: 100%;margin-bottom: 0;padding: 0.3em;box-sizing: border-box;text-align: center;}#sk-container-id-3 label.sk-toggleable__label-arrow:before {content: \"▸\";float: left;margin-right: 0.25em;color: #696969;}#sk-container-id-3 label.sk-toggleable__label-arrow:hover:before {color: black;}#sk-container-id-3 div.sk-estimator:hover label.sk-toggleable__label-arrow:before {color: black;}#sk-container-id-3 div.sk-toggleable__content {max-height: 0;max-width: 0;overflow: hidden;text-align: left;background-color: #f0f8ff;}#sk-container-id-3 div.sk-toggleable__content pre {margin: 0.2em;color: black;border-radius: 0.25em;background-color: #f0f8ff;}#sk-container-id-3 input.sk-toggleable__control:checked~div.sk-toggleable__content {max-height: 200px;max-width: 100%;overflow: auto;}#sk-container-id-3 input.sk-toggleable__control:checked~label.sk-toggleable__label-arrow:before {content: \"▾\";}#sk-container-id-3 div.sk-estimator input.sk-toggleable__control:checked~label.sk-toggleable__label {background-color: #d4ebff;}#sk-container-id-3 div.sk-label input.sk-toggleable__control:checked~label.sk-toggleable__label {background-color: #d4ebff;}#sk-container-id-3 input.sk-hidden--visually {border: 0;clip: rect(1px 1px 1px 1px);clip: rect(1px, 1px, 1px, 1px);height: 1px;margin: -1px;overflow: hidden;padding: 0;position: absolute;width: 1px;}#sk-container-id-3 div.sk-estimator {font-family: monospace;background-color: #f0f8ff;border: 1px dotted black;border-radius: 0.25em;box-sizing: border-box;margin-bottom: 0.5em;}#sk-container-id-3 div.sk-estimator:hover {background-color: #d4ebff;}#sk-container-id-3 div.sk-parallel-item::after {content: \"\";width: 100%;border-bottom: 1px solid gray;flex-grow: 1;}#sk-container-id-3 div.sk-label:hover label.sk-toggleable__label {background-color: #d4ebff;}#sk-container-id-3 div.sk-serial::before {content: \"\";position: absolute;border-left: 1px solid gray;box-sizing: border-box;top: 0;bottom: 0;left: 50%;z-index: 0;}#sk-container-id-3 div.sk-serial {display: flex;flex-direction: column;align-items: center;background-color: white;padding-right: 0.2em;padding-left: 0.2em;position: relative;}#sk-container-id-3 div.sk-item {position: relative;z-index: 1;}#sk-container-id-3 div.sk-parallel {display: flex;align-items: stretch;justify-content: center;background-color: white;position: relative;}#sk-container-id-3 div.sk-item::before, #sk-container-id-3 div.sk-parallel-item::before {content: \"\";position: absolute;border-left: 1px solid gray;box-sizing: border-box;top: 0;bottom: 0;left: 50%;z-index: -1;}#sk-container-id-3 div.sk-parallel-item {display: flex;flex-direction: column;z-index: 1;position: relative;background-color: white;}#sk-container-id-3 div.sk-parallel-item:first-child::after {align-self: flex-end;width: 50%;}#sk-container-id-3 div.sk-parallel-item:last-child::after {align-self: flex-start;width: 50%;}#sk-container-id-3 div.sk-parallel-item:only-child::after {width: 0;}#sk-container-id-3 div.sk-dashed-wrapped {border: 1px dashed gray;margin: 0 0.4em 0.5em 0.4em;box-sizing: border-box;padding-bottom: 0.4em;background-color: white;}#sk-container-id-3 div.sk-label label {font-family: monospace;font-weight: bold;display: inline-block;line-height: 1.2em;}#sk-container-id-3 div.sk-label-container {text-align: center;}#sk-container-id-3 div.sk-container {/* jupyter's `normalize.less` sets `[hidden] { display: none; }` but bootstrap.min.css set `[hidden] { display: none !important; }` so we also need the `!important` here to be able to override the default hidden behavior on the sphinx rendered scikit-learn.org. See: https://github.com/scikit-learn/scikit-learn/issues/21755 */display: inline-block !important;position: relative;}#sk-container-id-3 div.sk-text-repr-fallback {display: none;}</style><div id=\"sk-container-id-3\" class=\"sk-top-container\"><div class=\"sk-text-repr-fallback\"><pre>GridSearchCV(cv=5, estimator=DecisionTreeClassifier(), n_jobs=-1,\n",
       "             param_grid={&#x27;criterion&#x27;: [&#x27;gini&#x27;, &#x27;entropy&#x27;],\n",
       "                         &#x27;max_depth&#x27;: [3, 5, 7, 8, 9],\n",
       "                         &#x27;max_features&#x27;: [0.7, 0.8, 0.9, 1],\n",
       "                         &#x27;max_leaf_nodes&#x27;: [14, 15, 16, 17, 18],\n",
       "                         &#x27;min_samples_leaf&#x27;: [3, 4, 5, 7, 10, 12],\n",
       "                         &#x27;splitter&#x27;: [&#x27;best&#x27;]},\n",
       "             scoring=&#x27;accuracy&#x27;)</pre><b>In a Jupyter environment, please rerun this cell to show the HTML representation or trust the notebook. <br />On GitHub, the HTML representation is unable to render, please try loading this page with nbviewer.org.</b></div><div class=\"sk-container\" hidden><div class=\"sk-item sk-dashed-wrapped\"><div class=\"sk-label-container\"><div class=\"sk-label sk-toggleable\"><input class=\"sk-toggleable__control sk-hidden--visually\" id=\"sk-estimator-id-7\" type=\"checkbox\" ><label for=\"sk-estimator-id-7\" class=\"sk-toggleable__label sk-toggleable__label-arrow\">GridSearchCV</label><div class=\"sk-toggleable__content\"><pre>GridSearchCV(cv=5, estimator=DecisionTreeClassifier(), n_jobs=-1,\n",
       "             param_grid={&#x27;criterion&#x27;: [&#x27;gini&#x27;, &#x27;entropy&#x27;],\n",
       "                         &#x27;max_depth&#x27;: [3, 5, 7, 8, 9],\n",
       "                         &#x27;max_features&#x27;: [0.7, 0.8, 0.9, 1],\n",
       "                         &#x27;max_leaf_nodes&#x27;: [14, 15, 16, 17, 18],\n",
       "                         &#x27;min_samples_leaf&#x27;: [3, 4, 5, 7, 10, 12],\n",
       "                         &#x27;splitter&#x27;: [&#x27;best&#x27;]},\n",
       "             scoring=&#x27;accuracy&#x27;)</pre></div></div></div><div class=\"sk-parallel\"><div class=\"sk-parallel-item\"><div class=\"sk-item\"><div class=\"sk-label-container\"><div class=\"sk-label sk-toggleable\"><input class=\"sk-toggleable__control sk-hidden--visually\" id=\"sk-estimator-id-8\" type=\"checkbox\" ><label for=\"sk-estimator-id-8\" class=\"sk-toggleable__label sk-toggleable__label-arrow\">estimator: DecisionTreeClassifier</label><div class=\"sk-toggleable__content\"><pre>DecisionTreeClassifier()</pre></div></div></div><div class=\"sk-serial\"><div class=\"sk-item\"><div class=\"sk-estimator sk-toggleable\"><input class=\"sk-toggleable__control sk-hidden--visually\" id=\"sk-estimator-id-9\" type=\"checkbox\" ><label for=\"sk-estimator-id-9\" class=\"sk-toggleable__label sk-toggleable__label-arrow\">DecisionTreeClassifier</label><div class=\"sk-toggleable__content\"><pre>DecisionTreeClassifier()</pre></div></div></div></div></div></div></div></div></div></div>"
      ],
      "text/plain": [
       "GridSearchCV(cv=5, estimator=DecisionTreeClassifier(), n_jobs=-1,\n",
       "             param_grid={'criterion': ['gini', 'entropy'],\n",
       "                         'max_depth': [3, 5, 7, 8, 9],\n",
       "                         'max_features': [0.7, 0.8, 0.9, 1],\n",
       "                         'max_leaf_nodes': [14, 15, 16, 17, 18],\n",
       "                         'min_samples_leaf': [3, 4, 5, 7, 10, 12],\n",
       "                         'splitter': ['best']},\n",
       "             scoring='accuracy')"
      ]
     },
     "execution_count": 40,
     "metadata": {},
     "output_type": "execute_result"
    }
   ],
   "source": [
    "grid_search = GridSearchCV(m_rtree, param_grid, scoring='accuracy', cv=5, n_jobs=-1)\n",
    "grid_search.fit(X_mod, y)"
   ]
  },
  {
   "cell_type": "code",
   "execution_count": 41,
   "metadata": {},
   "outputs": [],
   "source": [
    "resultados = grid_search.cv_results_"
   ]
  },
  {
   "cell_type": "code",
   "execution_count": 42,
   "metadata": {},
   "outputs": [
    {
     "data": {
      "text/plain": [
       "{'criterion': 'gini',\n",
       " 'max_depth': 8,\n",
       " 'max_features': 0.8,\n",
       " 'max_leaf_nodes': 18,\n",
       " 'min_samples_leaf': 5,\n",
       " 'splitter': 'best'}"
      ]
     },
     "execution_count": 42,
     "metadata": {},
     "output_type": "execute_result"
    }
   ],
   "source": [
    "grid_search.best_params_"
   ]
  },
  {
   "cell_type": "code",
   "execution_count": 43,
   "metadata": {},
   "outputs": [
    {
     "data": {
      "text/html": [
       "<div>\n",
       "<style scoped>\n",
       "    .dataframe tbody tr th:only-of-type {\n",
       "        vertical-align: middle;\n",
       "    }\n",
       "\n",
       "    .dataframe tbody tr th {\n",
       "        vertical-align: top;\n",
       "    }\n",
       "\n",
       "    .dataframe thead th {\n",
       "        text-align: right;\n",
       "    }\n",
       "</style>\n",
       "<table border=\"1\" class=\"dataframe\">\n",
       "  <thead>\n",
       "    <tr style=\"text-align: right;\">\n",
       "      <th></th>\n",
       "      <th>params</th>\n",
       "      <th>mean_test_score</th>\n",
       "    </tr>\n",
       "  </thead>\n",
       "  <tbody>\n",
       "    <tr>\n",
       "      <th>416</th>\n",
       "      <td>{'criterion': 'gini', 'max_depth': 8, 'max_features': 0.8, 'max_leaf_nodes': 18, 'min_samples_le...</td>\n",
       "      <td>0.866893</td>\n",
       "    </tr>\n",
       "    <tr>\n",
       "      <th>507</th>\n",
       "      <td>{'criterion': 'gini', 'max_depth': 9, 'max_features': 0.7, 'max_leaf_nodes': 18, 'min_samples_le...</td>\n",
       "      <td>0.866667</td>\n",
       "    </tr>\n",
       "    <tr>\n",
       "      <th>538</th>\n",
       "      <td>{'criterion': 'gini', 'max_depth': 9, 'max_features': 0.8, 'max_leaf_nodes': 18, 'min_samples_le...</td>\n",
       "      <td>0.865986</td>\n",
       "    </tr>\n",
       "    <tr>\n",
       "      <th>557</th>\n",
       "      <td>{'criterion': 'gini', 'max_depth': 9, 'max_features': 0.9, 'max_leaf_nodes': 16, 'min_samples_le...</td>\n",
       "      <td>0.865986</td>\n",
       "    </tr>\n",
       "    <tr>\n",
       "      <th>327</th>\n",
       "      <td>{'criterion': 'gini', 'max_depth': 7, 'max_features': 0.9, 'max_leaf_nodes': 18, 'min_samples_le...</td>\n",
       "      <td>0.865533</td>\n",
       "    </tr>\n",
       "  </tbody>\n",
       "</table>\n",
       "</div>"
      ],
      "text/plain": [
       "                                                                                                  params  \\\n",
       "416  {'criterion': 'gini', 'max_depth': 8, 'max_features': 0.8, 'max_leaf_nodes': 18, 'min_samples_le...   \n",
       "507  {'criterion': 'gini', 'max_depth': 9, 'max_features': 0.7, 'max_leaf_nodes': 18, 'min_samples_le...   \n",
       "538  {'criterion': 'gini', 'max_depth': 9, 'max_features': 0.8, 'max_leaf_nodes': 18, 'min_samples_le...   \n",
       "557  {'criterion': 'gini', 'max_depth': 9, 'max_features': 0.9, 'max_leaf_nodes': 16, 'min_samples_le...   \n",
       "327  {'criterion': 'gini', 'max_depth': 7, 'max_features': 0.9, 'max_leaf_nodes': 18, 'min_samples_le...   \n",
       "\n",
       "     mean_test_score  \n",
       "416         0.866893  \n",
       "507         0.866667  \n",
       "538         0.865986  \n",
       "557         0.865986  \n",
       "327         0.865533  "
      ]
     },
     "execution_count": 43,
     "metadata": {},
     "output_type": "execute_result"
    }
   ],
   "source": [
    "pd.set_option('display.max_colwidth', 100)\n",
    "pd_resultados = pd.DataFrame(resultados)\n",
    "pd_resultados[[\"params\",\"mean_test_score\"]].sort_values(by=\"mean_test_score\", ascending=False).head()"
   ]
  },
  {
   "cell_type": "code",
   "execution_count": 26,
   "metadata": {},
   "outputs": [],
   "source": [
    "# joblib.dump(grid_search, \"decision_tree.pkl\") ## Modelo escogido\n",
    "# joblib.dump(columns_category, \"list_cat.pkl\") ### para realizar imputacion\n",
    "# joblib.dump(dummies_variables, \"list_dummies.pkl\")  ### para convertir a dummies\n",
    "# joblib.dump(f1_mod, \"var_names.pkl\")  ### para variables con que se entrena modelo\n",
    "# joblib.dump(scaler, \"scaler.pkl\") ##"
   ]
  },
  {
   "cell_type": "code",
   "execution_count": 27,
   "metadata": {},
   "outputs": [],
   "source": [
    "# rf_final = joblib.load(\"rf_final.pkl\")\n",
    "# m_lreg = joblib.load(\"m_lreg.pkl\")\n",
    "# list_cat=joblib.load(\"list_cat.pkl\")\n",
    "# list_dummies=joblib.load(\"list_dummies.pkl\")\n",
    "# var_names=joblib.load(\"var_names.pkl\")\n",
    "# scaler=joblib.load(\"scaler.pkl\") \n"
   ]
  },
  {
   "cell_type": "code",
   "execution_count": 28,
   "metadata": {},
   "outputs": [],
   "source": [
    "#####Evaluar métrica de entrenamiento y evaluación para mirar sobre ajuste ####\n",
    "\n",
    "# eval=cross_validate(rf_final,X2,y,cv=5,scoring=\"neg_root_mean_squared_error\",return_train_score=True)"
   ]
  },
  {
   "cell_type": "code",
   "execution_count": 29,
   "metadata": {},
   "outputs": [],
   "source": [
    "# # Separación en conjuntos de entrenamiento y validación con 80% de muestras para entrenamiento\n",
    "# x_train, x_test, y_train, y_test = train_test_split(x, y, test_size=0.2, random_state=1)"
   ]
  },
  {
   "cell_type": "code",
   "execution_count": 30,
   "metadata": {},
   "outputs": [],
   "source": [
    "# #Estandarización de variables númericas\n",
    "# numeric_columns = data_dummies.loc[:, data_dummies.columns.isin(['Age', 'DistanceFromHome', 'EmployeeID', \n",
    "#                                 'MonthlyIncome', 'NumCompaniesWorked', 'PercentSalaryHike', 'TotalWorkingYears',\n",
    "#                                 'TrainingTimesLastYear', 'YearsAtCompany', 'YearsSinceLastPromotion', 'YearsWithCurrManager'])]\n",
    "# pipeline=ColumnTransformer([( \"std_numericas\",StandardScaler() , numeric_columns)], remainder='passthrough')\n",
    "\n",
    "# x_train = pipeline.fit_transform(x_train)\n",
    "# x_test = pipeline.transform(x_test)"
   ]
  }
 ],
 "metadata": {
  "kernelspec": {
   "display_name": "Python 3",
   "language": "python",
   "name": "python3"
  },
  "language_info": {
   "codemirror_mode": {
    "name": "ipython",
    "version": 3
   },
   "file_extension": ".py",
   "mimetype": "text/x-python",
   "name": "python",
   "nbconvert_exporter": "python",
   "pygments_lexer": "ipython3",
   "version": "3.10.7"
  },
  "orig_nbformat": 4
 },
 "nbformat": 4,
 "nbformat_minor": 2
}
