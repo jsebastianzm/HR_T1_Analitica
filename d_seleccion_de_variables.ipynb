{
 "cells": [
  {
   "cell_type": "code",
   "execution_count": 272,
   "metadata": {},
   "outputs": [],
   "source": [
    "import warnings\n",
    "warnings.filterwarnings(\"ignore\")\n",
    "\n",
    "import pandas as pd\n",
    "import a_funciones as fn \n",
    "import joblib\n",
    "import matplotlib as plt\n",
    "\n",
    "from sklearn import metrics\n",
    "from sklearn.model_selection import train_test_split\n",
    "from sklearn.preprocessing import StandardScaler, LabelEncoder\n",
    "from sklearn.ensemble import GradientBoostingClassifier\n",
    "from sklearn.ensemble import RandomForestClassifier\n",
    "from sklearn.linear_model import LogisticRegression\n",
    "from sklearn import tree ###para ajustar arboles de decisión\n",
    "from sklearn.model_selection import GridSearchCV, cross_validate\n",
    "from sklearn.metrics import f1_score, accuracy_score, confusion_matrix, ConfusionMatrixDisplay, roc_curve, auc, f1_score, classification_report"
   ]
  },
  {
   "cell_type": "code",
   "execution_count": 273,
   "metadata": {},
   "outputs": [],
   "source": [
    "#Se vuelve a llamar la base de datos para la seleccion de variables\n",
    "data = pd.read_csv(\"https://raw.githubusercontent.com/jsebastianzm/HR_T1_Analitica/main/data/data_preprocesamiento.csv\")"
   ]
  },
  {
   "cell_type": "code",
   "execution_count": 274,
   "metadata": {},
   "outputs": [
    {
     "name": "stdout",
     "output_type": "stream",
     "text": [
      "<class 'pandas.core.frame.DataFrame'>\n",
      "RangeIndex: 4410 entries, 0 to 4409\n",
      "Data columns (total 26 columns):\n",
      " #   Column                   Non-Null Count  Dtype  \n",
      "---  ------                   --------------  -----  \n",
      " 0   Age                      4410 non-null   int64  \n",
      " 1   BusinessTravel           4410 non-null   object \n",
      " 2   Department               4410 non-null   object \n",
      " 3   DistanceFromHome         4410 non-null   float64\n",
      " 4   Education                4410 non-null   int64  \n",
      " 5   EducationField           4410 non-null   object \n",
      " 6   EmployeeID               4410 non-null   int64  \n",
      " 7   Gender                   4410 non-null   object \n",
      " 8   JobLevel                 4410 non-null   int64  \n",
      " 9   JobRole                  4410 non-null   object \n",
      " 10  MaritalStatus            4410 non-null   object \n",
      " 11  MonthlyIncome            4410 non-null   float64\n",
      " 12  NumCompaniesWorked       4410 non-null   int64  \n",
      " 13  PercentSalaryHike        4410 non-null   int64  \n",
      " 14  StockOptionLevel         4410 non-null   int64  \n",
      " 15  TotalWorkingYears        4410 non-null   int64  \n",
      " 16  TrainingTimesLastYear    4410 non-null   int64  \n",
      " 17  YearsAtCompany           4410 non-null   int64  \n",
      " 18  YearsSinceLastPromotion  4410 non-null   int64  \n",
      " 19  YearsWithCurrManager     4410 non-null   int64  \n",
      " 20  EnvironmentSatisfaction  4410 non-null   float64\n",
      " 21  JobSatisfaction          4410 non-null   float64\n",
      " 22  WorkLifeBalance          4410 non-null   float64\n",
      " 23  JobInvolvement           4410 non-null   int64  \n",
      " 24  PerformanceRating        4410 non-null   int64  \n",
      " 25  Attrition                4410 non-null   object \n",
      "dtypes: float64(5), int64(14), object(7)\n",
      "memory usage: 895.9+ KB\n"
     ]
    }
   ],
   "source": [
    "data.info()"
   ]
  },
  {
   "cell_type": "code",
   "execution_count": 275,
   "metadata": {},
   "outputs": [],
   "source": [
    "#Es necesario volver a asignar las variables como variables object ya que al crearse el dataframe y volver\n",
    "# a leerse con la libreria pandas, las variables vuelven a cambiar de tipo.\n",
    "columns_category = ['EmployeeID']\n",
    "data[columns_category] = data[columns_category].astype(object)\n",
    "data.drop(['EmployeeID'], axis = 1, inplace = True)"
   ]
  },
  {
   "cell_type": "code",
   "execution_count": 276,
   "metadata": {},
   "outputs": [
    {
     "name": "stdout",
     "output_type": "stream",
     "text": [
      "<class 'pandas.core.frame.DataFrame'>\n",
      "RangeIndex: 4410 entries, 0 to 4409\n",
      "Data columns (total 25 columns):\n",
      " #   Column                   Non-Null Count  Dtype  \n",
      "---  ------                   --------------  -----  \n",
      " 0   Age                      4410 non-null   int64  \n",
      " 1   BusinessTravel           4410 non-null   object \n",
      " 2   Department               4410 non-null   object \n",
      " 3   DistanceFromHome         4410 non-null   float64\n",
      " 4   Education                4410 non-null   int64  \n",
      " 5   EducationField           4410 non-null   object \n",
      " 6   Gender                   4410 non-null   object \n",
      " 7   JobLevel                 4410 non-null   int64  \n",
      " 8   JobRole                  4410 non-null   object \n",
      " 9   MaritalStatus            4410 non-null   object \n",
      " 10  MonthlyIncome            4410 non-null   float64\n",
      " 11  NumCompaniesWorked       4410 non-null   int64  \n",
      " 12  PercentSalaryHike        4410 non-null   int64  \n",
      " 13  StockOptionLevel         4410 non-null   int64  \n",
      " 14  TotalWorkingYears        4410 non-null   int64  \n",
      " 15  TrainingTimesLastYear    4410 non-null   int64  \n",
      " 16  YearsAtCompany           4410 non-null   int64  \n",
      " 17  YearsSinceLastPromotion  4410 non-null   int64  \n",
      " 18  YearsWithCurrManager     4410 non-null   int64  \n",
      " 19  EnvironmentSatisfaction  4410 non-null   float64\n",
      " 20  JobSatisfaction          4410 non-null   float64\n",
      " 21  WorkLifeBalance          4410 non-null   float64\n",
      " 22  JobInvolvement           4410 non-null   int64  \n",
      " 23  PerformanceRating        4410 non-null   int64  \n",
      " 24  Attrition                4410 non-null   object \n",
      "dtypes: float64(5), int64(13), object(7)\n",
      "memory usage: 861.5+ KB\n"
     ]
    }
   ],
   "source": [
    "data.info()"
   ]
  },
  {
   "cell_type": "code",
   "execution_count": 277,
   "metadata": {},
   "outputs": [
    {
     "name": "stdout",
     "output_type": "stream",
     "text": [
      "<class 'pandas.core.frame.DataFrame'>\n",
      "RangeIndex: 4410 entries, 0 to 4409\n",
      "Data columns (total 24 columns):\n",
      " #   Column                   Non-Null Count  Dtype  \n",
      "---  ------                   --------------  -----  \n",
      " 0   Age                      4410 non-null   int64  \n",
      " 1   BusinessTravel           4410 non-null   object \n",
      " 2   Department               4410 non-null   object \n",
      " 3   DistanceFromHome         4410 non-null   float64\n",
      " 4   Education                4410 non-null   int64  \n",
      " 5   EducationField           4410 non-null   object \n",
      " 6   Gender                   4410 non-null   object \n",
      " 7   JobLevel                 4410 non-null   int64  \n",
      " 8   JobRole                  4410 non-null   object \n",
      " 9   MaritalStatus            4410 non-null   object \n",
      " 10  MonthlyIncome            4410 non-null   float64\n",
      " 11  NumCompaniesWorked       4410 non-null   int64  \n",
      " 12  PercentSalaryHike        4410 non-null   int64  \n",
      " 13  StockOptionLevel         4410 non-null   int64  \n",
      " 14  TotalWorkingYears        4410 non-null   int64  \n",
      " 15  TrainingTimesLastYear    4410 non-null   int64  \n",
      " 16  YearsAtCompany           4410 non-null   int64  \n",
      " 17  YearsSinceLastPromotion  4410 non-null   int64  \n",
      " 18  YearsWithCurrManager     4410 non-null   int64  \n",
      " 19  EnvironmentSatisfaction  4410 non-null   float64\n",
      " 20  JobSatisfaction          4410 non-null   float64\n",
      " 21  WorkLifeBalance          4410 non-null   float64\n",
      " 22  JobInvolvement           4410 non-null   int64  \n",
      " 23  PerformanceRating        4410 non-null   int64  \n",
      "dtypes: float64(5), int64(13), object(6)\n",
      "memory usage: 827.0+ KB\n"
     ]
    }
   ],
   "source": [
    "#Se separan las bases de datos en la variable a predecir y las variables independientes\n",
    "y = data[\"Attrition\"]\n",
    "x = data.loc[:, ~data.columns.isin(['Attrition'])]\n",
    "x.info()"
   ]
  },
  {
   "cell_type": "code",
   "execution_count": 278,
   "metadata": {},
   "outputs": [],
   "source": [
    "#Se asignan las variables object a variables dummies\n",
    "# #COLUMNAS NUMERICAS DUMMIES\n",
    "data_dummies = x.select_dtypes(include=['object'])\n",
    "data_dummies.columns\n",
    "x = pd.get_dummies(x, columns=data_dummies.columns)"
   ]
  },
  {
   "cell_type": "code",
   "execution_count": 279,
   "metadata": {},
   "outputs": [
    {
     "data": {
      "text/html": [
       "<div>\n",
       "<style scoped>\n",
       "    .dataframe tbody tr th:only-of-type {\n",
       "        vertical-align: middle;\n",
       "    }\n",
       "\n",
       "    .dataframe tbody tr th {\n",
       "        vertical-align: top;\n",
       "    }\n",
       "\n",
       "    .dataframe thead th {\n",
       "        text-align: right;\n",
       "    }\n",
       "</style>\n",
       "<table border=\"1\" class=\"dataframe\">\n",
       "  <thead>\n",
       "    <tr style=\"text-align: right;\">\n",
       "      <th></th>\n",
       "      <th>Attrition</th>\n",
       "    </tr>\n",
       "  </thead>\n",
       "  <tbody>\n",
       "    <tr>\n",
       "      <th>0</th>\n",
       "      <td>0</td>\n",
       "    </tr>\n",
       "    <tr>\n",
       "      <th>1</th>\n",
       "      <td>1</td>\n",
       "    </tr>\n",
       "    <tr>\n",
       "      <th>2</th>\n",
       "      <td>0</td>\n",
       "    </tr>\n",
       "    <tr>\n",
       "      <th>3</th>\n",
       "      <td>0</td>\n",
       "    </tr>\n",
       "    <tr>\n",
       "      <th>4</th>\n",
       "      <td>0</td>\n",
       "    </tr>\n",
       "  </tbody>\n",
       "</table>\n",
       "</div>"
      ],
      "text/plain": [
       "   Attrition\n",
       "0          0\n",
       "1          1\n",
       "2          0\n",
       "3          0\n",
       "4          0"
      ]
     },
     "execution_count": 279,
     "metadata": {},
     "output_type": "execute_result"
    }
   ],
   "source": [
    "#Se aplica labelencoder a la variables Y\n",
    "encoder = LabelEncoder()\n",
    "\n",
    "# Ajustar y transformar las categorías\n",
    "y = encoder.fit_transform(y)\n",
    "y = pd.DataFrame(y, columns = ['Attrition'])\n",
    "y.head()\n",
    "\n"
   ]
  },
  {
   "cell_type": "code",
   "execution_count": 280,
   "metadata": {},
   "outputs": [],
   "source": [
    "scaler=StandardScaler()\n",
    "scaler.fit(x)\n",
    "X2=scaler.transform(x)\n",
    "X=pd.DataFrame(X2,columns=x.columns)\n"
   ]
  },
  {
   "cell_type": "code",
   "execution_count": 281,
   "metadata": {},
   "outputs": [],
   "source": [
    "m_lreg = LogisticRegression()\n",
    "m_rtree= tree.DecisionTreeClassifier()\n",
    "m_rf= RandomForestClassifier()\n",
    "m_gbt=GradientBoostingClassifier()\n",
    "\n",
    "modelos=list([m_lreg,m_rtree, m_rf, m_gbt])\n",
    "# modelos=list([m_lreg,m_rtree])\n",
    "\n"
   ]
  },
  {
   "cell_type": "code",
   "execution_count": 282,
   "metadata": {},
   "outputs": [
    {
     "data": {
      "text/plain": [
       "(14,)"
      ]
     },
     "execution_count": 282,
     "metadata": {},
     "output_type": "execute_result"
    }
   ],
   "source": [
    "#\n",
    "var_names_models=fn.sel_variables(modelos,X,y,threshold=\"1.7*mean\")\n",
    "var_names_models.shape\n"
   ]
  },
  {
   "cell_type": "code",
   "execution_count": 283,
   "metadata": {},
   "outputs": [
    {
     "data": {
      "text/plain": [
       "(8,)"
      ]
     },
     "execution_count": 283,
     "metadata": {},
     "output_type": "execute_result"
    }
   ],
   "source": [
    "#Se aplica seleccion de variables con el metodo Lasso\n",
    "var_names_lasso=fn.sel_variablesLasso(modelos,X,y,alpha=0.03,max_features=15)\n",
    "var_names_lasso.shape"
   ]
  },
  {
   "cell_type": "code",
   "execution_count": 284,
   "metadata": {},
   "outputs": [
    {
     "name": "stdout",
     "output_type": "stream",
     "text": [
      "(4410, 14) (4410, 44)\n"
     ]
    }
   ],
   "source": [
    "X_mod=X[var_names_models] ### matriz con variables seleccionadas\n",
    "print(X_mod.shape, X.shape)"
   ]
  },
  {
   "cell_type": "code",
   "execution_count": 285,
   "metadata": {},
   "outputs": [
    {
     "name": "stdout",
     "output_type": "stream",
     "text": [
      "(4410, 8) (4410, 44)\n"
     ]
    }
   ],
   "source": [
    "X_Lasso=X[var_names_lasso] ### matriz con variables seleccionadas\n",
    "print(X_Lasso.shape, X.shape)"
   ]
  },
  {
   "cell_type": "code",
   "execution_count": 286,
   "metadata": {},
   "outputs": [],
   "source": [
    "# X_mod.head()"
   ]
  },
  {
   "cell_type": "code",
   "execution_count": 287,
   "metadata": {},
   "outputs": [],
   "source": [
    "#Medicion de los modelos para la clasificacion\n",
    "F1_df=fn.medir_modelos(modelos,\"f1\",X,y,10) ## base con todas las variables \n",
    "F1_mod=fn.medir_modelos(modelos,\"f1\",X_mod,y,10) ### base con variables seleccionadas\n",
    "F1_Lasso=fn.medir_modelos(modelos,\"f1\",X_Lasso,y,10) ### base con variables seleccionadas"
   ]
  },
  {
   "cell_type": "markdown",
   "metadata": {},
   "source": [
    "## Toca agregar y completar el boxplot siguiente"
   ]
  },
  {
   "cell_type": "code",
   "execution_count": 288,
   "metadata": {},
   "outputs": [
    {
     "data": {
      "text/plain": [
       "<Axes: >"
      ]
     },
     "execution_count": 288,
     "metadata": {},
     "output_type": "execute_result"
    },
    {
     "data": {
      "image/png": "[encoded data removed]",
      "text/plain": [
       "<Figure size 640x480 with 1 Axes>"
      ]
     },
     "metadata": {},
     "output_type": "display_data"
    },
    {
     "data": {
      "image/png": "[encoded data removed]",
      "text/plain": [
       "<Figure size 640x480 with 1 Axes>"
      ]
     },
     "metadata": {},
     "output_type": "display_data"
    },
    {
     "data": {
      "image/png": "[encoded data removed]",
      "text/plain": [
       "<Figure size 640x480 with 1 Axes>"
      ]
     },
     "metadata": {},
     "output_type": "display_data"
    },
    {
     "data": {
      "image/png": "[encoded data removed]",
      "text/plain": [
       "<Figure size 640x480 with 1 Axes>"
      ]
     },
     "metadata": {},
     "output_type": "display_data"
    },
    {
     "data": {
      "image/png": "[encoded data removed]",
      "text/plain": [
       "<Figure size 640x480 with 1 Axes>"
      ]
     },
     "metadata": {},
     "output_type": "display_data"
    },
    {
     "data": {
      "image/png": "[encoded data removed]",
      "text/plain": [
       "<Figure size 640x480 with 1 Axes>"
      ]
     },
     "metadata": {},
     "output_type": "display_data"
    }
   ],
   "source": [
    "F1_score1 =pd.concat([F1_df,F1_mod],axis=1)\n",
    "F1_score1.columns=['lreg', 'rtree', 'rf', 'gbt',\n",
    "    'lreg_mod', 'rtree_mod', 'rf_mod', 'gbt_mod']\n",
    "\n",
    "F1_score2 =pd.concat([F1_df,F1_Lasso],axis=1)\n",
    "F1_score2.columns=['lreg', 'rtree', 'rf', 'gbt',\n",
    "    'lreg_Lasso', 'rtree_Lasso', 'rf_Lasso', 'gbt_Lasso']\n",
    "\n",
    "F1_score3 =pd.concat([F1_Lasso,F1_mod],axis=1)\n",
    "F1_score3.columns=['lreg_Lasso', 'rtree_Lasso', 'rf_Lasso', 'gb_Lassot',\n",
    "    'lreg_mod', 'rtree_mod', 'rf_mod', 'gbt_mod']\n",
    "\n",
    "F1_df.plot(kind='box') #### gráfico para modelos todas las varibles\n",
    "F1_mod.plot(kind='box') ### gráfico para modelo variables seleccionadas\n",
    "F1_Lasso.plot(kind='box') ### gráfico para modelos sel y todas las variables\n",
    "F1_score1.plot(kind='box')\n",
    "F1_score2.plot(kind='box')\n",
    "F1_score3.plot(kind='box')"
   ]
  },
  {
   "cell_type": "code",
   "execution_count": 289,
   "metadata": {},
   "outputs": [
    {
     "data": {
      "text/plain": [
       "reg_logistic         0.275998\n",
       "decision_tree        0.997173\n",
       "random_forest        0.999291\n",
       "gradient_boosting    0.519578\n",
       "dtype: float64"
      ]
     },
     "execution_count": 289,
     "metadata": {},
     "output_type": "execute_result"
    }
   ],
   "source": [
    "F1_df.mean()"
   ]
  },
  {
   "cell_type": "code",
   "execution_count": 290,
   "metadata": {},
   "outputs": [
    {
     "data": {
      "text/plain": [
       "reg_logistic         0.221565\n",
       "decision_tree        0.997163\n",
       "random_forest        0.997163\n",
       "gradient_boosting    0.506361\n",
       "dtype: float64"
      ]
     },
     "execution_count": 290,
     "metadata": {},
     "output_type": "execute_result"
    }
   ],
   "source": [
    "F1_mod.mean()"
   ]
  },
  {
   "cell_type": "code",
   "execution_count": 291,
   "metadata": {},
   "outputs": [
    {
     "data": {
      "text/plain": [
       "reg_logistic         0.192840\n",
       "decision_tree        0.985135\n",
       "random_forest        0.984416\n",
       "gradient_boosting    0.432226\n",
       "dtype: float64"
      ]
     },
     "execution_count": 291,
     "metadata": {},
     "output_type": "execute_result"
    }
   ],
   "source": [
    "F1_Lasso.mean()"
   ]
  },
  {
   "cell_type": "code",
   "execution_count": null,
   "metadata": {},
   "outputs": [],
   "source": []
  },
  {
   "cell_type": "code",
   "execution_count": 292,
   "metadata": {},
   "outputs": [],
   "source": [
    "param_grid = {'max_depth': [25,50,100],# Maxima profundidad\n",
    "              'max_features': [0.7,0.8,0.9,1],# Maximo de caracteristicas a usar\n",
    "              'max_leaf_nodes': [100,200,250,300,400],#Maximo de nodos\n",
    "              'min_samples_leaf': [3,4,5,7],#Minimo de muestras para los nodos hoja\n",
    "              'criterion': ['gini', 'entropy'],#Medir la cantidad de división.\n",
    "              'splitter': ['best']}#Estrategia para dividir cada nodo"
   ]
  },
  {
   "cell_type": "code",
   "execution_count": 293,
   "metadata": {},
   "outputs": [
    {
     "data": {
      "text/html": [
       "<style>#sk-container-id-43 {color: black;background-color: white;}#sk-container-id-43 pre{padding: 0;}#sk-container-id-43 div.sk-toggleable {background-color: white;}#sk-container-id-43 label.sk-toggleable__label {cursor: pointer;display: block;width: 100%;margin-bottom: 0;padding: 0.3em;box-sizing: border-box;text-align: center;}#sk-container-id-43 label.sk-toggleable__label-arrow:before {content: \"▸\";float: left;margin-right: 0.25em;color: #696969;}#sk-container-id-43 label.sk-toggleable__label-arrow:hover:before {color: black;}#sk-container-id-43 div.sk-estimator:hover label.sk-toggleable__label-arrow:before {color: black;}#sk-container-id-43 div.sk-toggleable__content {max-height: 0;max-width: 0;overflow: hidden;text-align: left;background-color: #f0f8ff;}#sk-container-id-43 div.sk-toggleable__content pre {margin: 0.2em;color: black;border-radius: 0.25em;background-color: #f0f8ff;}#sk-container-id-43 input.sk-toggleable__control:checked~div.sk-toggleable__content {max-height: 200px;max-width: 100%;overflow: auto;}#sk-container-id-43 input.sk-toggleable__control:checked~label.sk-toggleable__label-arrow:before {content: \"▾\";}#sk-container-id-43 div.sk-estimator input.sk-toggleable__control:checked~label.sk-toggleable__label {background-color: #d4ebff;}#sk-container-id-43 div.sk-label input.sk-toggleable__control:checked~label.sk-toggleable__label {background-color: #d4ebff;}#sk-container-id-43 input.sk-hidden--visually {border: 0;clip: rect(1px 1px 1px 1px);clip: rect(1px, 1px, 1px, 1px);height: 1px;margin: -1px;overflow: hidden;padding: 0;position: absolute;width: 1px;}#sk-container-id-43 div.sk-estimator {font-family: monospace;background-color: #f0f8ff;border: 1px dotted black;border-radius: 0.25em;box-sizing: border-box;margin-bottom: 0.5em;}#sk-container-id-43 div.sk-estimator:hover {background-color: #d4ebff;}#sk-container-id-43 div.sk-parallel-item::after {content: \"\";width: 100%;border-bottom: 1px solid gray;flex-grow: 1;}#sk-container-id-43 div.sk-label:hover label.sk-toggleable__label {background-color: #d4ebff;}#sk-container-id-43 div.sk-serial::before {content: \"\";position: absolute;border-left: 1px solid gray;box-sizing: border-box;top: 0;bottom: 0;left: 50%;z-index: 0;}#sk-container-id-43 div.sk-serial {display: flex;flex-direction: column;align-items: center;background-color: white;padding-right: 0.2em;padding-left: 0.2em;position: relative;}#sk-container-id-43 div.sk-item {position: relative;z-index: 1;}#sk-container-id-43 div.sk-parallel {display: flex;align-items: stretch;justify-content: center;background-color: white;position: relative;}#sk-container-id-43 div.sk-item::before, #sk-container-id-43 div.sk-parallel-item::before {content: \"\";position: absolute;border-left: 1px solid gray;box-sizing: border-box;top: 0;bottom: 0;left: 50%;z-index: -1;}#sk-container-id-43 div.sk-parallel-item {display: flex;flex-direction: column;z-index: 1;position: relative;background-color: white;}#sk-container-id-43 div.sk-parallel-item:first-child::after {align-self: flex-end;width: 50%;}#sk-container-id-43 div.sk-parallel-item:last-child::after {align-self: flex-start;width: 50%;}#sk-container-id-43 div.sk-parallel-item:only-child::after {width: 0;}#sk-container-id-43 div.sk-dashed-wrapped {border: 1px dashed gray;margin: 0 0.4em 0.5em 0.4em;box-sizing: border-box;padding-bottom: 0.4em;background-color: white;}#sk-container-id-43 div.sk-label label {font-family: monospace;font-weight: bold;display: inline-block;line-height: 1.2em;}#sk-container-id-43 div.sk-label-container {text-align: center;}#sk-container-id-43 div.sk-container {/* jupyter's `normalize.less` sets `[hidden] { display: none; }` but bootstrap.min.css set `[hidden] { display: none !important; }` so we also need the `!important` here to be able to override the default hidden behavior on the sphinx rendered scikit-learn.org. See: https://github.com/scikit-learn/scikit-learn/issues/21755 */display: inline-block !important;position: relative;}#sk-container-id-43 div.sk-text-repr-fallback {display: none;}</style><div id=\"sk-container-id-43\" class=\"sk-top-container\"><div class=\"sk-text-repr-fallback\"><pre>GridSearchCV(cv=5, estimator=DecisionTreeClassifier(), n_jobs=-1,\n",
       "             param_grid={&#x27;criterion&#x27;: [&#x27;gini&#x27;, &#x27;entropy&#x27;],\n",
       "                         &#x27;max_depth&#x27;: [25, 50, 100],\n",
       "                         &#x27;max_features&#x27;: [0.7, 0.8, 0.9, 1],\n",
       "                         &#x27;max_leaf_nodes&#x27;: [100, 200, 250, 300, 400],\n",
       "                         &#x27;min_samples_leaf&#x27;: [3, 4, 5, 7],\n",
       "                         &#x27;splitter&#x27;: [&#x27;best&#x27;]},\n",
       "             scoring=&#x27;accuracy&#x27;)</pre><b>In a Jupyter environment, please rerun this cell to show the HTML representation or trust the notebook. <br />On GitHub, the HTML representation is unable to render, please try loading this page with nbviewer.org.</b></div><div class=\"sk-container\" hidden><div class=\"sk-item sk-dashed-wrapped\"><div class=\"sk-label-container\"><div class=\"sk-label sk-toggleable\"><input class=\"sk-toggleable__control sk-hidden--visually\" id=\"sk-estimator-id-89\" type=\"checkbox\" ><label for=\"sk-estimator-id-89\" class=\"sk-toggleable__label sk-toggleable__label-arrow\">GridSearchCV</label><div class=\"sk-toggleable__content\"><pre>GridSearchCV(cv=5, estimator=DecisionTreeClassifier(), n_jobs=-1,\n",
       "             param_grid={&#x27;criterion&#x27;: [&#x27;gini&#x27;, &#x27;entropy&#x27;],\n",
       "                         &#x27;max_depth&#x27;: [25, 50, 100],\n",
       "                         &#x27;max_features&#x27;: [0.7, 0.8, 0.9, 1],\n",
       "                         &#x27;max_leaf_nodes&#x27;: [100, 200, 250, 300, 400],\n",
       "                         &#x27;min_samples_leaf&#x27;: [3, 4, 5, 7],\n",
       "                         &#x27;splitter&#x27;: [&#x27;best&#x27;]},\n",
       "             scoring=&#x27;accuracy&#x27;)</pre></div></div></div><div class=\"sk-parallel\"><div class=\"sk-parallel-item\"><div class=\"sk-item\"><div class=\"sk-label-container\"><div class=\"sk-label sk-toggleable\"><input class=\"sk-toggleable__control sk-hidden--visually\" id=\"sk-estimator-id-90\" type=\"checkbox\" ><label for=\"sk-estimator-id-90\" class=\"sk-toggleable__label sk-toggleable__label-arrow\">estimator: DecisionTreeClassifier</label><div class=\"sk-toggleable__content\"><pre>DecisionTreeClassifier()</pre></div></div></div><div class=\"sk-serial\"><div class=\"sk-item\"><div class=\"sk-estimator sk-toggleable\"><input class=\"sk-toggleable__control sk-hidden--visually\" id=\"sk-estimator-id-91\" type=\"checkbox\" ><label for=\"sk-estimator-id-91\" class=\"sk-toggleable__label sk-toggleable__label-arrow\">DecisionTreeClassifier</label><div class=\"sk-toggleable__content\"><pre>DecisionTreeClassifier()</pre></div></div></div></div></div></div></div></div></div></div>"
      ],
      "text/plain": [
       "GridSearchCV(cv=5, estimator=DecisionTreeClassifier(), n_jobs=-1,\n",
       "             param_grid={'criterion': ['gini', 'entropy'],\n",
       "                         'max_depth': [25, 50, 100],\n",
       "                         'max_features': [0.7, 0.8, 0.9, 1],\n",
       "                         'max_leaf_nodes': [100, 200, 250, 300, 400],\n",
       "                         'min_samples_leaf': [3, 4, 5, 7],\n",
       "                         'splitter': ['best']},\n",
       "             scoring='accuracy')"
      ]
     },
     "execution_count": 293,
     "metadata": {},
     "output_type": "execute_result"
    }
   ],
   "source": [
    "grid_search = GridSearchCV(m_rtree, param_grid, scoring='accuracy', cv=5, n_jobs=-1)\n",
    "grid_search.fit(X_mod, y)"
   ]
  },
  {
   "cell_type": "code",
   "execution_count": 294,
   "metadata": {},
   "outputs": [],
   "source": [
    "resultados = grid_search.cv_results_"
   ]
  },
  {
   "cell_type": "code",
   "execution_count": 295,
   "metadata": {},
   "outputs": [
    {
     "data": {
      "text/plain": [
       "{'criterion': 'entropy',\n",
       " 'max_depth': 100,\n",
       " 'max_features': 0.8,\n",
       " 'max_leaf_nodes': 250,\n",
       " 'min_samples_leaf': 3,\n",
       " 'splitter': 'best'}"
      ]
     },
     "execution_count": 295,
     "metadata": {},
     "output_type": "execute_result"
    }
   ],
   "source": [
    "grid_search.best_params_"
   ]
  },
  {
   "cell_type": "code",
   "execution_count": 296,
   "metadata": {},
   "outputs": [
    {
     "data": {
      "text/html": [
       "<div>\n",
       "<style scoped>\n",
       "    .dataframe tbody tr th:only-of-type {\n",
       "        vertical-align: middle;\n",
       "    }\n",
       "\n",
       "    .dataframe tbody tr th {\n",
       "        vertical-align: top;\n",
       "    }\n",
       "\n",
       "    .dataframe thead th {\n",
       "        text-align: right;\n",
       "    }\n",
       "</style>\n",
       "<table border=\"1\" class=\"dataframe\">\n",
       "  <thead>\n",
       "    <tr style=\"text-align: right;\">\n",
       "      <th></th>\n",
       "      <th>params</th>\n",
       "      <th>mean_test_score</th>\n",
       "    </tr>\n",
       "  </thead>\n",
       "  <tbody>\n",
       "    <tr>\n",
       "      <th>428</th>\n",
       "      <td>{'criterion': 'entropy', 'max_depth': 100, 'max_features': 0.8, 'max_leaf_nodes': 250, 'min_samp...</td>\n",
       "      <td>0.961678</td>\n",
       "    </tr>\n",
       "    <tr>\n",
       "      <th>268</th>\n",
       "      <td>{'criterion': 'entropy', 'max_depth': 25, 'max_features': 0.8, 'max_leaf_nodes': 250, 'min_sampl...</td>\n",
       "      <td>0.960091</td>\n",
       "    </tr>\n",
       "    <tr>\n",
       "      <th>248</th>\n",
       "      <td>{'criterion': 'entropy', 'max_depth': 25, 'max_features': 0.7, 'max_leaf_nodes': 250, 'min_sampl...</td>\n",
       "      <td>0.959410</td>\n",
       "    </tr>\n",
       "    <tr>\n",
       "      <th>448</th>\n",
       "      <td>{'criterion': 'entropy', 'max_depth': 100, 'max_features': 0.9, 'max_leaf_nodes': 250, 'min_samp...</td>\n",
       "      <td>0.958503</td>\n",
       "    </tr>\n",
       "    <tr>\n",
       "      <th>432</th>\n",
       "      <td>{'criterion': 'entropy', 'max_depth': 100, 'max_features': 0.8, 'max_leaf_nodes': 300, 'min_samp...</td>\n",
       "      <td>0.958277</td>\n",
       "    </tr>\n",
       "  </tbody>\n",
       "</table>\n",
       "</div>"
      ],
      "text/plain": [
       "                                                                                                  params  \\\n",
       "428  {'criterion': 'entropy', 'max_depth': 100, 'max_features': 0.8, 'max_leaf_nodes': 250, 'min_samp...   \n",
       "268  {'criterion': 'entropy', 'max_depth': 25, 'max_features': 0.8, 'max_leaf_nodes': 250, 'min_sampl...   \n",
       "248  {'criterion': 'entropy', 'max_depth': 25, 'max_features': 0.7, 'max_leaf_nodes': 250, 'min_sampl...   \n",
       "448  {'criterion': 'entropy', 'max_depth': 100, 'max_features': 0.9, 'max_leaf_nodes': 250, 'min_samp...   \n",
       "432  {'criterion': 'entropy', 'max_depth': 100, 'max_features': 0.8, 'max_leaf_nodes': 300, 'min_samp...   \n",
       "\n",
       "     mean_test_score  \n",
       "428         0.961678  \n",
       "268         0.960091  \n",
       "248         0.959410  \n",
       "448         0.958503  \n",
       "432         0.958277  "
      ]
     },
     "execution_count": 296,
     "metadata": {},
     "output_type": "execute_result"
    }
   ],
   "source": [
    "pd.set_option('display.max_colwidth', 100)\n",
    "pd_resultados = pd.DataFrame(resultados)\n",
    "pd_resultados[[\"params\",\"mean_test_score\"]].sort_values(by=\"mean_test_score\", ascending=False).head()"
   ]
  },
  {
   "cell_type": "code",
   "execution_count": 297,
   "metadata": {},
   "outputs": [],
   "source": [
    "decision_tree_final=grid_search.best_estimator_ ### Guardar el modelo con hyperparameter tunning"
   ]
  },
  {
   "cell_type": "code",
   "execution_count": 298,
   "metadata": {},
   "outputs": [],
   "source": [
    "# joblib.dump(decision_tree_final, \"decision_tree_final.pkl\") ## Modelo escogido\n",
    "# joblib.dump(columns_category, \"list_cat.pkl\") ### para realizar imputacion\n",
    "# joblib.dump(dummies_variables, \"list_dummies.pkl\")  ### para convertir a dummies\n",
    "# joblib.dump(X_mod, \"var_names.pkl\")  ### para variables con que se entrena modelo\n",
    "# joblib.dump(scaler, \"scaler.pkl\") ##"
   ]
  },
  {
   "cell_type": "code",
   "execution_count": 299,
   "metadata": {},
   "outputs": [],
   "source": [
    "# decision_tree_final = joblib.load(\"decision_tree_final.pkl\")\n",
    "# list_cat=joblib.load(\"list_cat.pkl\")\n",
    "# list_dummies=joblib.load(\"list_dummies.pkl\")\n",
    "# var_names=joblib.load(\"var_names.pkl\")\n",
    "# scaler=joblib.load(\"scaler.pkl\") "
   ]
  },
  {
   "cell_type": "code",
   "execution_count": 300,
   "metadata": {},
   "outputs": [],
   "source": [
    "# eval=cross_validate(decision_tree_final,X_mod,y,cv=5,scoring=\"f1\",return_train_score=True)"
   ]
  },
  {
   "cell_type": "code",
   "execution_count": 301,
   "metadata": {},
   "outputs": [],
   "source": [
    "# Separación en conjuntos de entrenamiento y validación con 80% de muestras para entrenamiento\n",
    "x_train, x_test, y_train, y_test = train_test_split(X_mod, y, test_size=0.2, random_state=1)"
   ]
  },
  {
   "cell_type": "code",
   "execution_count": 302,
   "metadata": {},
   "outputs": [
    {
     "data": {
      "text/html": [
       "<style>#sk-container-id-44 {color: black;background-color: white;}#sk-container-id-44 pre{padding: 0;}#sk-container-id-44 div.sk-toggleable {background-color: white;}#sk-container-id-44 label.sk-toggleable__label {cursor: pointer;display: block;width: 100%;margin-bottom: 0;padding: 0.3em;box-sizing: border-box;text-align: center;}#sk-container-id-44 label.sk-toggleable__label-arrow:before {content: \"▸\";float: left;margin-right: 0.25em;color: #696969;}#sk-container-id-44 label.sk-toggleable__label-arrow:hover:before {color: black;}#sk-container-id-44 div.sk-estimator:hover label.sk-toggleable__label-arrow:before {color: black;}#sk-container-id-44 div.sk-toggleable__content {max-height: 0;max-width: 0;overflow: hidden;text-align: left;background-color: #f0f8ff;}#sk-container-id-44 div.sk-toggleable__content pre {margin: 0.2em;color: black;border-radius: 0.25em;background-color: #f0f8ff;}#sk-container-id-44 input.sk-toggleable__control:checked~div.sk-toggleable__content {max-height: 200px;max-width: 100%;overflow: auto;}#sk-container-id-44 input.sk-toggleable__control:checked~label.sk-toggleable__label-arrow:before {content: \"▾\";}#sk-container-id-44 div.sk-estimator input.sk-toggleable__control:checked~label.sk-toggleable__label {background-color: #d4ebff;}#sk-container-id-44 div.sk-label input.sk-toggleable__control:checked~label.sk-toggleable__label {background-color: #d4ebff;}#sk-container-id-44 input.sk-hidden--visually {border: 0;clip: rect(1px 1px 1px 1px);clip: rect(1px, 1px, 1px, 1px);height: 1px;margin: -1px;overflow: hidden;padding: 0;position: absolute;width: 1px;}#sk-container-id-44 div.sk-estimator {font-family: monospace;background-color: #f0f8ff;border: 1px dotted black;border-radius: 0.25em;box-sizing: border-box;margin-bottom: 0.5em;}#sk-container-id-44 div.sk-estimator:hover {background-color: #d4ebff;}#sk-container-id-44 div.sk-parallel-item::after {content: \"\";width: 100%;border-bottom: 1px solid gray;flex-grow: 1;}#sk-container-id-44 div.sk-label:hover label.sk-toggleable__label {background-color: #d4ebff;}#sk-container-id-44 div.sk-serial::before {content: \"\";position: absolute;border-left: 1px solid gray;box-sizing: border-box;top: 0;bottom: 0;left: 50%;z-index: 0;}#sk-container-id-44 div.sk-serial {display: flex;flex-direction: column;align-items: center;background-color: white;padding-right: 0.2em;padding-left: 0.2em;position: relative;}#sk-container-id-44 div.sk-item {position: relative;z-index: 1;}#sk-container-id-44 div.sk-parallel {display: flex;align-items: stretch;justify-content: center;background-color: white;position: relative;}#sk-container-id-44 div.sk-item::before, #sk-container-id-44 div.sk-parallel-item::before {content: \"\";position: absolute;border-left: 1px solid gray;box-sizing: border-box;top: 0;bottom: 0;left: 50%;z-index: -1;}#sk-container-id-44 div.sk-parallel-item {display: flex;flex-direction: column;z-index: 1;position: relative;background-color: white;}#sk-container-id-44 div.sk-parallel-item:first-child::after {align-self: flex-end;width: 50%;}#sk-container-id-44 div.sk-parallel-item:last-child::after {align-self: flex-start;width: 50%;}#sk-container-id-44 div.sk-parallel-item:only-child::after {width: 0;}#sk-container-id-44 div.sk-dashed-wrapped {border: 1px dashed gray;margin: 0 0.4em 0.5em 0.4em;box-sizing: border-box;padding-bottom: 0.4em;background-color: white;}#sk-container-id-44 div.sk-label label {font-family: monospace;font-weight: bold;display: inline-block;line-height: 1.2em;}#sk-container-id-44 div.sk-label-container {text-align: center;}#sk-container-id-44 div.sk-container {/* jupyter's `normalize.less` sets `[hidden] { display: none; }` but bootstrap.min.css set `[hidden] { display: none !important; }` so we also need the `!important` here to be able to override the default hidden behavior on the sphinx rendered scikit-learn.org. See: https://github.com/scikit-learn/scikit-learn/issues/21755 */display: inline-block !important;position: relative;}#sk-container-id-44 div.sk-text-repr-fallback {display: none;}</style><div id=\"sk-container-id-44\" class=\"sk-top-container\"><div class=\"sk-text-repr-fallback\"><pre>DecisionTreeClassifier(criterion=&#x27;entropy&#x27;, max_depth=100, max_features=0.8,\n",
       "                       max_leaf_nodes=250, min_samples_leaf=3)</pre><b>In a Jupyter environment, please rerun this cell to show the HTML representation or trust the notebook. <br />On GitHub, the HTML representation is unable to render, please try loading this page with nbviewer.org.</b></div><div class=\"sk-container\" hidden><div class=\"sk-item\"><div class=\"sk-estimator sk-toggleable\"><input class=\"sk-toggleable__control sk-hidden--visually\" id=\"sk-estimator-id-92\" type=\"checkbox\" checked><label for=\"sk-estimator-id-92\" class=\"sk-toggleable__label sk-toggleable__label-arrow\">DecisionTreeClassifier</label><div class=\"sk-toggleable__content\"><pre>DecisionTreeClassifier(criterion=&#x27;entropy&#x27;, max_depth=100, max_features=0.8,\n",
       "                       max_leaf_nodes=250, min_samples_leaf=3)</pre></div></div></div></div></div>"
      ],
      "text/plain": [
       "DecisionTreeClassifier(criterion='entropy', max_depth=100, max_features=0.8,\n",
       "                       max_leaf_nodes=250, min_samples_leaf=3)"
      ]
     },
     "execution_count": 302,
     "metadata": {},
     "output_type": "execute_result"
    }
   ],
   "source": [
    "decision_tree_final.fit(x_train, y_train)"
   ]
  },
  {
   "cell_type": "code",
   "execution_count": 303,
   "metadata": {},
   "outputs": [
    {
     "name": "stdout",
     "output_type": "stream",
     "text": [
      "Train - Accuracy : 0.979875283446712\n",
      "Train - classification report:\n",
      "               precision    recall  f1-score   support\n",
      "\n",
      "           0       0.99      0.99      0.99      2979\n",
      "           1       0.95      0.92      0.93       549\n",
      "\n",
      "    accuracy                           0.98      3528\n",
      "   macro avg       0.97      0.96      0.96      3528\n",
      "weighted avg       0.98      0.98      0.98      3528\n",
      "\n",
      "Test - Accuracy : 0.9172335600907029\n",
      "Test - classification report :               precision    recall  f1-score   support\n",
      "\n",
      "           0       0.94      0.96      0.95       720\n",
      "           1       0.80      0.73      0.76       162\n",
      "\n",
      "    accuracy                           0.92       882\n",
      "   macro avg       0.87      0.84      0.86       882\n",
      "weighted avg       0.91      0.92      0.92       882\n",
      "\n"
     ]
    }
   ],
   "source": [
    "print (\"Train - Accuracy :\", metrics.accuracy_score(y_train, decision_tree_final.predict(x_train)))\n",
    "print (\"Train - classification report:\\n\", metrics.classification_report(y_train, decision_tree_final.predict(x_train)))\n",
    "print (\"Test - Accuracy :\", metrics.accuracy_score(y_test, decision_tree_final.predict(x_test)))\n",
    "print (\"Test - classification report :\", metrics.classification_report(y_test, decision_tree_final.predict(x_test)))"
   ]
  },
  {
   "cell_type": "code",
   "execution_count": 304,
   "metadata": {},
   "outputs": [
    {
     "data": {
      "text/plain": [
       "<sklearn.metrics._plot.confusion_matrix.ConfusionMatrixDisplay at 0x145ad2a67d0>"
      ]
     },
     "execution_count": 304,
     "metadata": {},
     "output_type": "execute_result"
    },
    {
     "data": {
      "image/png": "[encoded data removed]",
      "text/plain": [
       "<Figure size 640x480 with 2 Axes>"
      ]
     },
     "metadata": {},
     "output_type": "display_data"
    }
   ],
   "source": [
    "# Matriz de confusion\n",
    "cm1= confusion_matrix(y_test, decision_tree_final.predict(x_test))\n",
    "# Visualización de la matriz de confusion\n",
    "cm1_display = ConfusionMatrixDisplay(confusion_matrix = cm1)\n",
    "cm1_display.plot()"
   ]
  },
  {
   "cell_type": "code",
   "execution_count": 305,
   "metadata": {},
   "outputs": [],
   "source": [
    "##### Mirar importancia de variables para tomar acciones ###\n",
    "columnas=pd.DataFrame(X_mod.columns).rename(columns={0:'columnas'})\n",
    "importancia=pd.DataFrame(decision_tree_final.feature_importances_).rename(columns={0:'importancia'})\n",
    "cf=pd.concat([columnas,importancia], axis=1).sort_values('importancia',ascending=False).head(7)"
   ]
  },
  {
   "cell_type": "code",
   "execution_count": 306,
   "metadata": {},
   "outputs": [
    {
     "data": {
      "text/html": [
       "<div>\n",
       "<style scoped>\n",
       "    .dataframe tbody tr th:only-of-type {\n",
       "        vertical-align: middle;\n",
       "    }\n",
       "\n",
       "    .dataframe tbody tr th {\n",
       "        vertical-align: top;\n",
       "    }\n",
       "\n",
       "    .dataframe thead th {\n",
       "        text-align: right;\n",
       "    }\n",
       "</style>\n",
       "<table border=\"1\" class=\"dataframe\">\n",
       "  <thead>\n",
       "    <tr style=\"text-align: right;\">\n",
       "      <th></th>\n",
       "      <th>columnas</th>\n",
       "      <th>importancia</th>\n",
       "    </tr>\n",
       "  </thead>\n",
       "  <tbody>\n",
       "    <tr>\n",
       "      <th>7</th>\n",
       "      <td>MonthlyIncome</td>\n",
       "      <td>0.178949</td>\n",
       "    </tr>\n",
       "    <tr>\n",
       "      <th>10</th>\n",
       "      <td>TotalWorkingYears</td>\n",
       "      <td>0.154435</td>\n",
       "    </tr>\n",
       "    <tr>\n",
       "      <th>3</th>\n",
       "      <td>DistanceFromHome</td>\n",
       "      <td>0.100813</td>\n",
       "    </tr>\n",
       "    <tr>\n",
       "      <th>0</th>\n",
       "      <td>Age</td>\n",
       "      <td>0.089633</td>\n",
       "    </tr>\n",
       "    <tr>\n",
       "      <th>5</th>\n",
       "      <td>JobSatisfaction</td>\n",
       "      <td>0.084865</td>\n",
       "    </tr>\n",
       "    <tr>\n",
       "      <th>11</th>\n",
       "      <td>YearsAtCompany</td>\n",
       "      <td>0.072120</td>\n",
       "    </tr>\n",
       "    <tr>\n",
       "      <th>4</th>\n",
       "      <td>EnvironmentSatisfaction</td>\n",
       "      <td>0.062174</td>\n",
       "    </tr>\n",
       "  </tbody>\n",
       "</table>\n",
       "</div>"
      ],
      "text/plain": [
       "                   columnas  importancia\n",
       "7             MonthlyIncome     0.178949\n",
       "10        TotalWorkingYears     0.154435\n",
       "3          DistanceFromHome     0.100813\n",
       "0                       Age     0.089633\n",
       "5           JobSatisfaction     0.084865\n",
       "11           YearsAtCompany     0.072120\n",
       "4   EnvironmentSatisfaction     0.062174"
      ]
     },
     "execution_count": 306,
     "metadata": {},
     "output_type": "execute_result"
    }
   ],
   "source": [
    "cf"
   ]
  },
  {
   "cell_type": "code",
   "execution_count": null,
   "metadata": {},
   "outputs": [],
   "source": []
  }
 ],
 "metadata": {
  "kernelspec": {
   "display_name": "Python 3",
   "language": "python",
   "name": "python3"
  },
  "language_info": {
   "codemirror_mode": {
    "name": "ipython",
    "version": 3
   },
   "file_extension": ".py",
   "mimetype": "text/x-python",
   "name": "python",
   "nbconvert_exporter": "python",
   "pygments_lexer": "ipython3",
   "version": "3.10.7"
  },
  "orig_nbformat": 4
 },
 "nbformat": 4,
 "nbformat_minor": 2
}
