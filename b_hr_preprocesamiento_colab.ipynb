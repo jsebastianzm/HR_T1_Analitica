{
  "cells": [
    {
      "cell_type": "markdown",
      "metadata": {
        "id": "aTo_MZGurc7q"
      },
      "source": [
        "# Librerias\n"
      ]
    },
    {
      "cell_type": "code",
      "execution_count": 1,
      "metadata": {},
      "outputs": [],
      "source": [
        "import warnings\n",
        "warnings.filterwarnings(\"ignore\")\n",
        "import pandas as pd\n",
        "import a_funciones as fn"
      ]
    },
    {
      "cell_type": "code",
      "execution_count": 2,
      "metadata": {},
      "outputs": [],
      "source": [
        "# \"\"\"Ruta directorio qué tiene paquetes\"\"\"\n",
        "# sys.path\n",
        "# sys.path.append('C:\\codigos\\HR_T1_Analitica')"
      ]
    },
    {
      "cell_type": "markdown",
      "metadata": {
        "id": "daNlW8eWrgX-"
      },
      "source": [
        "# Bases de datos"
      ]
    },
    {
      "cell_type": "code",
      "execution_count": 3,
      "metadata": {
        "id": "LGYyfCpPSjGE"
      },
      "outputs": [],
      "source": [
        "#Se asigna a una variable la ruta de los dataframe\n",
        "employee = 'data/employee_survey_data.csv'\n",
        "general = 'data/general_data.csv'\n",
        "manager_survey = 'data/manager_survey_data.csv'\n",
        "retirement = 'data/retirement_info.csv'\n",
        "mean_time = 'data/data_mean.csv'\n",
        "\n",
        "#Se procesa los dataframe con pandas y se almacenan\n",
        "data_employee = pd.read_csv(employee)\n",
        "data_general = pd.read_csv(general ,sep=\";\")\n",
        "data_manager_survey = pd.read_csv(manager_survey)\n",
        "data_retirement = pd.read_csv(retirement ,sep=\";\")\n",
        "data_mean_time = pd.read_csv(mean_time)"
      ]
    },
    {
      "cell_type": "markdown",
      "metadata": {},
      "source": [
        "* Age: Edad del empleado en años.\n",
        "* Attrition: Indica si el empleado dejó la compañía o no. Los valores posibles son \"Yes\" y \"No\".\n",
        "* BusinessTravel: Frecuencia de los viajes de negocios del empleado. Los valores posibles son \"Travel_Rarely\", \"Travel_Frequently\" y \"Non-Travel\".\n",
        "* Department: Departamento donde trabaja el empleado. Los valores posibles son \"Sales\", \"Research & Development\" y \"Human Resources\".\n",
        "* DistanceFromHome: Distancia del hogar del empleado al lugar de trabajo.\n",
        "* Education: Nivel educativo del empleado. Los valores posibles van de 1 (menos educación) a 5 (más educación).\n",
        "* EducationField: Campo de estudio del empleado. Los valores posibles son \"Life Sciences\", \"Other\", \"Medical\", \"Marketing\", \"Technical Degree\" y \"Human Resources\".\n",
        "* EmployeeCount: Constante con valor 1 que indica el número de empleados en cada registro.\n",
        "* EmployeeID: Identificación única del empleado.\n",
        "* Gender: Género del empleado. Los valores posibles son \"Male\" y \"Female\".\n",
        "* JobLevel: Nivel laboral del empleado. Los valores posibles van de 1 (puesto más bajo) a 5 (puesto más alto).\n",
        "* JobRole: Rol laboral del empleado. Los valores posibles son \"Sales Executive\", \"Research Scientist\", \"Laboratory Technician\", \"Manufacturing Director\", \"Healthcare Representative\", \"Manager\", \"Sales Representative\", \"Research Director\", \"Human Resources\" y \"Manager\".\n",
        "* MaritalStatus: Estado civil del empleado. Los valores posibles son \"Single\", \"Married\" y \"Divorced\".\n",
        "* MonthlyIncome: Ingreso mensual del empleado en dólares estadounidenses.\n",
        "* NumCompaniesWorked: Número de compañías en las que el empleado ha trabajado antes de unirse a la actual.\n",
        "* Over18: Constante con valor \"Yes\" que indica si el empleado es mayor de 18 años.\n",
        "* PercentSalaryHike: Porcentaje de aumento en el salario del empleado en el último año.\n",
        "* StandardHours: Constante con valor 80 que indica el número estándar de horas trabajadas por semana.\n",
        "* StockOptionLevel: Nivel de opciones de compra de acciones otorgadas al empleado. Los valores posibles van de 0 (ninguna opción otorgada) a 3 (máximo nivel de opciones otorgadas).\n",
        "* TotalWorkingYears: Total de años de experiencia laboral del empleado.\n",
        "* TrainingTimesLastYear: Número de veces que el empleado asistió a programas de capacitación en el último año.\n",
        "* YearsAtCompany: Años que el empleado ha trabajado en la compañía actual.\n",
        "* YearsSinceLastPromotion: Años desde la última promoción del empleado.\n",
        "* YearsWithCurrManager: Años que el empleado ha estado bajo la supervisión del gerente actual."
      ]
    },
    {
      "cell_type": "markdown",
      "metadata": {
        "id": "GT5RtXbHT9kX"
      },
      "source": [
        "<h1> General Data </h1>\n"
      ]
    },
    {
      "cell_type": "code",
      "execution_count": 4,
      "metadata": {},
      "outputs": [
        {
          "name": "stdout",
          "output_type": "stream",
          "text": [
            "Age [51 31 32 38 46 28 29 25 45 36 55 47 37 21 35 26 50 53 42 44 49 18 41 39\n",
            " 58 33 43 52 27 30 54 40 23 48 57 34 24 22 56 60 19 20 59]\n",
            "BusinessTravel ['Travel_Rarely' 'Travel_Frequently' 'Non-Travel']\n",
            "Department ['Sales' 'Research & Development' 'Human Resources']\n",
            "DistanceFromHome [ 6 10 17  2  8 11 18  1  7 28 14  3  4 16  9  5 20 29 15 13 24 19 22 25\n",
            " 21 26 27 12 23]\n",
            "Education [2 1 4 5 3]\n",
            "EducationField ['Life Sciences' 'Other' 'Medical' 'Marketing' 'Technical Degree'\n",
            " 'Human Resources']\n",
            "EmployeeCount [1]\n",
            "EmployeeID [   1    2    3 ... 4408 4409 4410]\n",
            "Gender ['Female' 'Male']\n",
            "JobLevel [1 4 3 2 5]\n",
            "JobRole ['Healthcare Representative' 'Research Scientist' 'Sales Executive'\n",
            " 'Human Resources' 'Research Director' 'Laboratory Technician'\n",
            " 'Manufacturing Director' 'Sales Representative' 'Manager']\n",
            "MaritalStatus ['Married' 'Single' 'Divorced']\n",
            "MonthlyIncome [131160  41890 193280 ...  37020  23980  54680]\n",
            "NumCompaniesWorked [ 1.  0.  3.  4.  2.  7.  9.  5.  6.  8. nan]\n",
            "Over18 ['Y']\n",
            "PercentSalaryHike [11 23 15 12 13 20 22 21 17 14 16 18 19 24 25]\n",
            "StandardHours [8]\n",
            "StockOptionLevel [0 1 3 2]\n",
            "TotalWorkingYears [ 1.  6.  5. 13.  9. 28. 10. 21. 16. 37.  7.  3. 15.  8. nan 12. 17. 19.\n",
            " 22.  2.  4. 23.  0. 11. 24. 25. 20. 14. 26. 18. 30. 36. 31. 33. 32. 34.\n",
            " 40. 29. 35. 27. 38.]\n",
            "TrainingTimesLastYear [6 3 2 5 4 0 1]\n",
            "YearsAtCompany [ 1  5  8  6  7  0  9 20 15 36 10  3 17  2  4 11 22 18 13 24 21 16 25 29\n",
            " 27 14 31 32 34 26 12 19 33 30 23 37 40]\n",
            "YearsSinceLastPromotion [ 0  1  7  4 10  9  6 11  3  5  2  8 13 12 15 14]\n",
            "YearsWithCurrManager [ 0  4  3  5  7  8 10 11 13  9  1  2  6 12 17 16 15 14]\n",
            "Tamaño del DataFrame: (4410, 23)\n"
          ]
        }
      ],
      "source": [
        "#Se analizan las columnas con sus variables\n",
        "fn.info_columns(data_general)"
      ]
    },
    {
      "cell_type": "markdown",
      "metadata": {
        "id": "tjgG7nxmh2iA"
      },
      "source": [
        "- Se puede eliminar las columnas: - EmployeeCount, ya que tiene solo 1 valor.\n",
        "                                    - Over18, ya que todos son mayores de 18.\n",
        "                                    - StandardHour, ya que las horas estandares son  8 para todos.\n",
        "\n",
        "- Se deben tratar los datos nulos: - NumCompaniesWorked, se puede remplazar los\n",
        "                                    nan por la moda.\n",
        "                                    - TotalWorkingYears, Tambien se puede cambiar\n",
        "                                    por la moda.\n"
      ]
    },
    {
      "cell_type": "code",
      "execution_count": 5,
      "metadata": {
        "id": "-BcnNxs5rotn"
      },
      "outputs": [
        {
          "name": "stdout",
          "output_type": "stream",
          "text": [
            "Age                        0\n",
            "BusinessTravel             0\n",
            "Department                 0\n",
            "DistanceFromHome           0\n",
            "Education                  0\n",
            "EducationField             0\n",
            "EmployeeID                 0\n",
            "Gender                     0\n",
            "JobLevel                   0\n",
            "JobRole                    0\n",
            "MaritalStatus              0\n",
            "MonthlyIncome              0\n",
            "NumCompaniesWorked         0\n",
            "PercentSalaryHike          0\n",
            "StockOptionLevel           0\n",
            "TotalWorkingYears          0\n",
            "TrainingTimesLastYear      0\n",
            "YearsAtCompany             0\n",
            "YearsSinceLastPromotion    0\n",
            "YearsWithCurrManager       0\n",
            "dtype: int64 (4410, 20)\n"
          ]
        }
      ],
      "source": [
        "#Se realiza la amputacion columnas que no son necesarias y rellenado de datos nulos\n",
        "data_general = data_general.drop(columns=['EmployeeCount','Over18', 'StandardHours'])\n",
        "data_general = fn.impute_columns(df = data_general, columns = ['NumCompaniesWorked', 'TotalWorkingYears'], strategy = 'most_frequent')\n",
        "print(data_general.isnull().sum(),data_general.shape)"
      ]
    },
    {
      "cell_type": "code",
      "execution_count": 6,
      "metadata": {
        "colab": {
          "base_uri": "https://localhost:8080/"
        },
        "id": "j980mbr7zlrm",
        "outputId": "a9ccedba-24c2-4dc2-bc32-3059b0ee15f4"
      },
      "outputs": [
        {
          "name": "stdout",
          "output_type": "stream",
          "text": [
            "<class 'pandas.core.frame.DataFrame'>\n",
            "RangeIndex: 4410 entries, 0 to 4409\n",
            "Data columns (total 20 columns):\n",
            " #   Column                   Non-Null Count  Dtype  \n",
            "---  ------                   --------------  -----  \n",
            " 0   Age                      4410 non-null   int64  \n",
            " 1   BusinessTravel           4410 non-null   object \n",
            " 2   Department               4410 non-null   object \n",
            " 3   DistanceFromHome         4410 non-null   int64  \n",
            " 4   Education                4410 non-null   int64  \n",
            " 5   EducationField           4410 non-null   object \n",
            " 6   EmployeeID               4410 non-null   int64  \n",
            " 7   Gender                   4410 non-null   object \n",
            " 8   JobLevel                 4410 non-null   int64  \n",
            " 9   JobRole                  4410 non-null   object \n",
            " 10  MaritalStatus            4410 non-null   object \n",
            " 11  MonthlyIncome            4410 non-null   int64  \n",
            " 12  NumCompaniesWorked       4410 non-null   float64\n",
            " 13  PercentSalaryHike        4410 non-null   int64  \n",
            " 14  StockOptionLevel         4410 non-null   int64  \n",
            " 15  TotalWorkingYears        4410 non-null   float64\n",
            " 16  TrainingTimesLastYear    4410 non-null   int64  \n",
            " 17  YearsAtCompany           4410 non-null   int64  \n",
            " 18  YearsSinceLastPromotion  4410 non-null   int64  \n",
            " 19  YearsWithCurrManager     4410 non-null   int64  \n",
            "dtypes: float64(2), int64(12), object(6)\n",
            "memory usage: 689.2+ KB\n"
          ]
        }
      ],
      "source": [
        "#Se analiza el tipo de dato de cada columna\n",
        "data_general.info()"
      ]
    },
    {
      "cell_type": "markdown",
      "metadata": {},
      "source": [
        "Se debe cambiar el tipo de las siguientes variables:\n",
        "\n",
        "  - DistanceFromHome: float64\n",
        "  - Education: Category\n",
        "  - EmployeeID: object\n",
        "  - Joblevel: object\n",
        "  - MonthlyIncome: float64\n",
        "  - NumCompaniesWorked: int64\n",
        "  - StockOptionLevel: object\n",
        "  - TotalWorkingYears: int64\n"
      ]
    },
    {
      "cell_type": "code",
      "execution_count": 7,
      "metadata": {},
      "outputs": [
        {
          "name": "stdout",
          "output_type": "stream",
          "text": [
            "<class 'pandas.core.frame.DataFrame'>\n",
            "RangeIndex: 4410 entries, 0 to 4409\n",
            "Data columns (total 20 columns):\n",
            " #   Column                   Non-Null Count  Dtype  \n",
            "---  ------                   --------------  -----  \n",
            " 0   Age                      4410 non-null   int64  \n",
            " 1   BusinessTravel           4410 non-null   object \n",
            " 2   Department               4410 non-null   object \n",
            " 3   DistanceFromHome         4410 non-null   float64\n",
            " 4   Education                4410 non-null   object \n",
            " 5   EducationField           4410 non-null   object \n",
            " 6   EmployeeID               4410 non-null   object \n",
            " 7   Gender                   4410 non-null   object \n",
            " 8   JobLevel                 4410 non-null   object \n",
            " 9   JobRole                  4410 non-null   object \n",
            " 10  MaritalStatus            4410 non-null   object \n",
            " 11  MonthlyIncome            4410 non-null   float64\n",
            " 12  NumCompaniesWorked       4410 non-null   int32  \n",
            " 13  PercentSalaryHike        4410 non-null   int64  \n",
            " 14  StockOptionLevel         4410 non-null   object \n",
            " 15  TotalWorkingYears        4410 non-null   int32  \n",
            " 16  TrainingTimesLastYear    4410 non-null   int64  \n",
            " 17  YearsAtCompany           4410 non-null   int64  \n",
            " 18  YearsSinceLastPromotion  4410 non-null   int64  \n",
            " 19  YearsWithCurrManager     4410 non-null   int64  \n",
            "dtypes: float64(2), int32(2), int64(6), object(10)\n",
            "memory usage: 654.7+ KB\n"
          ]
        }
      ],
      "source": [
        "#Se asigna el tipo de datos correcto para cada columna\n",
        "columns_object = ['EmployeeID','JobLevel', 'StockOptionLevel', 'Education']\n",
        "columns_int = ['NumCompaniesWorked','TotalWorkingYears']\n",
        "columns_float = ['DistanceFromHome','MonthlyIncome']\n",
        "data_general[columns_object] = data_general[columns_object].astype(object)\n",
        "data_general[columns_int] = data_general[columns_int].astype(int)\n",
        "data_general[columns_float] = data_general[columns_float].astype(float)\n",
        "data_general.info()"
      ]
    },
    {
      "cell_type": "markdown",
      "metadata": {},
      "source": [
        "Se tiene dudas si PercentSalaryHike se debe expresar como: \"object o int\""
      ]
    },
    {
      "cell_type": "markdown",
      "metadata": {
        "id": "FuNN1qhcT4_v"
      },
      "source": [
        "# Employee Data\n"
      ]
    },
    {
      "cell_type": "code",
      "execution_count": 8,
      "metadata": {},
      "outputs": [
        {
          "name": "stdout",
          "output_type": "stream",
          "text": [
            "EmployeeID [   1    2    3 ... 4408 4409 4410]\n",
            "EnvironmentSatisfaction [ 3.  2.  4.  1. nan]\n",
            "JobSatisfaction [ 4.  2.  1.  3. nan]\n",
            "WorkLifeBalance [ 2.  4.  1.  3. nan]\n",
            "Tamaño del DataFrame: (4410, 4)\n"
          ]
        }
      ],
      "source": [
        "#Se analiza la columna con sus valores\n",
        "fn.info_columns(data_employee)"
      ]
    },
    {
      "cell_type": "markdown",
      "metadata": {
        "id": "kenLOzWmjoLx"
      },
      "source": [
        "Se puede remplazar los datos nulos por:\n",
        "- EnvironmentSatisfaction: moda\n",
        "- JobSatisfaction: moda\n",
        "- WorkLifeBalance: moda"
      ]
    },
    {
      "cell_type": "code",
      "execution_count": 9,
      "metadata": {},
      "outputs": [
        {
          "data": {
            "text/plain": [
              "EmployeeID                  0\n",
              "EnvironmentSatisfaction    25\n",
              "JobSatisfaction            20\n",
              "WorkLifeBalance            38\n",
              "dtype: int64"
            ]
          },
          "execution_count": 9,
          "metadata": {},
          "output_type": "execute_result"
        }
      ],
      "source": [
        "#Se evalua que la cantidad de datos nulos no sean una cantidad de datos significativa\n",
        "data_employee.isnull().sum()"
      ]
    },
    {
      "cell_type": "code",
      "execution_count": 10,
      "metadata": {},
      "outputs": [
        {
          "name": "stdout",
          "output_type": "stream",
          "text": [
            "EmployeeID                 0\n",
            "EnvironmentSatisfaction    0\n",
            "JobSatisfaction            0\n",
            "WorkLifeBalance            0\n",
            "dtype: int64 (4410, 4)\n"
          ]
        }
      ],
      "source": [
        "#Se aplica imputación de datos\n",
        "data_employee = fn.impute_columns(df = data_employee, columns = ['EnvironmentSatisfaction', 'JobSatisfaction', 'WorkLifeBalance'], strategy = 'most_frequent')\n",
        "print(data_employee.isnull().sum(),data_employee.shape)"
      ]
    },
    {
      "cell_type": "code",
      "execution_count": 11,
      "metadata": {},
      "outputs": [
        {
          "name": "stdout",
          "output_type": "stream",
          "text": [
            "<class 'pandas.core.frame.DataFrame'>\n",
            "RangeIndex: 4410 entries, 0 to 4409\n",
            "Data columns (total 4 columns):\n",
            " #   Column                   Non-Null Count  Dtype  \n",
            "---  ------                   --------------  -----  \n",
            " 0   EmployeeID               4410 non-null   int64  \n",
            " 1   EnvironmentSatisfaction  4410 non-null   float64\n",
            " 2   JobSatisfaction          4410 non-null   float64\n",
            " 3   WorkLifeBalance          4410 non-null   float64\n",
            "dtypes: float64(3), int64(1)\n",
            "memory usage: 137.9 KB\n"
          ]
        }
      ],
      "source": [
        "#Se analiza el tipo de variable para cada columna\n",
        "data_employee.info()"
      ]
    },
    {
      "cell_type": "markdown",
      "metadata": {},
      "source": [
        "Hay que realizar cambios a las siguientes columnas ya que estan son objects, por el hecho de que son clasificaciones y no enteros o flotantes segun si tipologia expresada en el data_dictionary\n",
        "- EnvironmentSatisfaction: categoty\n",
        "- JobSatisfaction: category\n",
        "- WorkLifeBalance: category"
      ]
    },
    {
      "cell_type": "code",
      "execution_count": 12,
      "metadata": {},
      "outputs": [
        {
          "name": "stdout",
          "output_type": "stream",
          "text": [
            "<class 'pandas.core.frame.DataFrame'>\n",
            "RangeIndex: 4410 entries, 0 to 4409\n",
            "Data columns (total 4 columns):\n",
            " #   Column                   Non-Null Count  Dtype \n",
            "---  ------                   --------------  ----- \n",
            " 0   EmployeeID               4410 non-null   object\n",
            " 1   EnvironmentSatisfaction  4410 non-null   object\n",
            " 2   JobSatisfaction          4410 non-null   object\n",
            " 3   WorkLifeBalance          4410 non-null   object\n",
            "dtypes: object(4)\n",
            "memory usage: 137.9+ KB\n"
          ]
        }
      ],
      "source": [
        "#Transformación de variables\n",
        "columns_object = ['EnvironmentSatisfaction', 'JobSatisfaction', 'WorkLifeBalance', \"EmployeeID\"]\n",
        "data_employee[columns_object] = data_employee[columns_object].astype(object)\n",
        "#Se confirma el cambio de categoria\n",
        "data_employee.info()"
      ]
    },
    {
      "cell_type": "markdown",
      "metadata": {},
      "source": [
        "Probando categorical de pandas"
      ]
    },
    {
      "cell_type": "markdown",
      "metadata": {
        "id": "7SC7kEhDUE4g"
      },
      "source": [
        "# Manager Data"
      ]
    },
    {
      "cell_type": "code",
      "execution_count": 13,
      "metadata": {},
      "outputs": [
        {
          "name": "stdout",
          "output_type": "stream",
          "text": [
            "EmployeeID [   1    2    3 ... 4408 4409 4410]\n",
            "JobInvolvement [3 2 1 4]\n",
            "PerformanceRating [3 4]\n",
            "Tamaño del DataFrame: (4410, 3)\n"
          ]
        }
      ],
      "source": [
        "fn.info_columns(data_manager_survey)"
      ]
    },
    {
      "cell_type": "code",
      "execution_count": 14,
      "metadata": {},
      "outputs": [
        {
          "data": {
            "text/plain": [
              "EmployeeID           0\n",
              "JobInvolvement       0\n",
              "PerformanceRating    0\n",
              "dtype: int64"
            ]
          },
          "execution_count": 14,
          "metadata": {},
          "output_type": "execute_result"
        }
      ],
      "source": [
        "data_manager_survey.isnull().sum()"
      ]
    },
    {
      "cell_type": "code",
      "execution_count": 15,
      "metadata": {},
      "outputs": [
        {
          "name": "stdout",
          "output_type": "stream",
          "text": [
            "<class 'pandas.core.frame.DataFrame'>\n",
            "RangeIndex: 4410 entries, 0 to 4409\n",
            "Data columns (total 3 columns):\n",
            " #   Column             Non-Null Count  Dtype\n",
            "---  ------             --------------  -----\n",
            " 0   EmployeeID         4410 non-null   int64\n",
            " 1   JobInvolvement     4410 non-null   int64\n",
            " 2   PerformanceRating  4410 non-null   int64\n",
            "dtypes: int64(3)\n",
            "memory usage: 103.5 KB\n"
          ]
        }
      ],
      "source": [
        "data_manager_survey.info()"
      ]
    },
    {
      "cell_type": "code",
      "execution_count": 16,
      "metadata": {},
      "outputs": [
        {
          "name": "stdout",
          "output_type": "stream",
          "text": [
            "<class 'pandas.core.frame.DataFrame'>\n",
            "RangeIndex: 4410 entries, 0 to 4409\n",
            "Data columns (total 3 columns):\n",
            " #   Column             Non-Null Count  Dtype \n",
            "---  ------             --------------  ----- \n",
            " 0   EmployeeID         4410 non-null   object\n",
            " 1   JobInvolvement     4410 non-null   object\n",
            " 2   PerformanceRating  4410 non-null   object\n",
            "dtypes: object(3)\n",
            "memory usage: 103.5+ KB\n"
          ]
        }
      ],
      "source": [
        "#Transformación de variables\n",
        "columns_object = ['JobInvolvement', 'PerformanceRating', \"EmployeeID\"]\n",
        "data_manager_survey[columns_object] = data_manager_survey[columns_object].astype(object)\n",
        "#Se confirma el cambio\n",
        "data_manager_survey.info()"
      ]
    },
    {
      "cell_type": "markdown",
      "metadata": {},
      "source": [
        "<h1>DATA RETIREMENT</h1>"
      ]
    },
    {
      "cell_type": "code",
      "execution_count": 17,
      "metadata": {},
      "outputs": [
        {
          "name": "stdout",
          "output_type": "stream",
          "text": [
            "EmployeeID [   2    7   14   29   31   36   39   60   66   70   79  100  106  109\n",
            "  111  113  121  125  128  148  157  158  164  165  178  179  182  183\n",
            "  186  196  200  206  212  222  223  225  238  247  256  257  268  271\n",
            "  283  290  305  309  311  316  328  332  334  338  341  350  351  357\n",
            "  379  388  399  403  405  406  409  410  412  426  431  432  436  438\n",
            "  443  449  452  454  463  468  474  475  487  491  492  495  504  505\n",
            "  519  520  522  523  532  534  535  539  540  541  543  544  556  571\n",
            "  572  574  579  581  585  592  600  603  607  614  635  654  656  658\n",
            "  671  675  682  683  689  690  695  696  709  718  723  724  728  740\n",
            "  749  750  755  759  764  774  775  776  779  782  799  800  801  803\n",
            "  811  820  826  828  849  853  854  855  879  896  905  910  914  929\n",
            "  944  947  948  956  965  966  979  980  989  992  998 1000 1005 1014\n",
            " 1016 1022 1024 1033 1034 1040 1041 1055 1056 1069 1075 1076 1081 1082\n",
            " 1096 1097 1108 1112 1118 1122 1133 1138 1139 1181 1185 1187 1195 1204\n",
            " 1213 1215 1227 1234 1237 1239 1246 1247 1249 1255 1258 1263 1264 1282\n",
            " 1302 1313 1315 1320 1324 1335 1337 1339 1340 1345 1349 1353 1384 1390\n",
            " 1395 1405 1417 1418 1423 1427 1429 1430 1442 1447 1449 1452 1463 1472\n",
            " 1477 1484 1499 1501 1506 1509 1530 1536 1540 1549 1570 1576 1579 1581\n",
            " 1583 1591 1595 1598 1618 1627 1628 1634 1635 1648 1649 1652 1653 1656\n",
            " 1666 1670 1676 1682 1692 1693 1695 1708 1717 1726 1727 1738 1741 1753\n",
            " 1760 1775 1779 1781 1786 1798 1802 1804 1808 1811 1820 1821 1827 1849\n",
            " 1858 1869 1873 1875 1876 1879 1880 1882 1896 1901 1902 1906 1908 1913\n",
            " 1919 1922 1924 1933 1938 1944 1945 1957 1961 1962 1965 1974 1975 1989\n",
            " 1990 1992 1993 2002 2004 2005 2009 2010 2011 2013 2014 2026 2041 2042\n",
            " 2044 2049 2051 2055 2062 2070 2073 2077 2084 2105 2124 2126 2128 2141\n",
            " 2145 2152 2153 2159 2160 2165 2166 2179 2188 2193 2194 2198 2210 2219\n",
            " 2220 2225 2229 2234 2244 2245 2246 2249 2252 2269 2270 2271 2273 2281\n",
            " 2290 2296 2298 2319 2323 2324 2325 2349 2366 2375 2380 2384 2399 2414\n",
            " 2417 2418 2426 2435 2436 2449 2450 2459 2462 2468 2470 2475 2484 2486\n",
            " 2492 2494 2503 2504 2510 2511 2525 2526 2539 2545 2546 2551 2552 2566\n",
            " 2567 2578 2582 2588 2592 2603 2608 2609 2651 2655 2657 2665 2674 2683\n",
            " 2685 2697 2704 2707 2709 2716 2717 2719 2725 2728 2733 2734 2752 2772\n",
            " 2783 2785 2790 2794 2805 2807 2809 2810 2815 2819 2823 2854 2860 2865\n",
            " 2875 2887 2888 2893 2897 2899 2900 2912 2917 2919 2922 2933 2942 2947\n",
            " 2954 2969 2971 2976 2979 3000 3006 3010 3019 3040 3046 3049 3051 3053\n",
            " 3061 3065 3068 3088 3097 3098 3104 3105 3118 3119 3122 3123 3126 3136\n",
            " 3140 3146 3152 3162 3163 3165 3178 3187 3196 3197 3208 3211 3223 3230\n",
            " 3245 3249 3251 3256 3268 3272 3274 3278 3281 3290 3291 3297 3319 3328\n",
            " 3339 3343 3345 3346 3349 3350 3352 3366 3371 3372 3376 3378 3383 3389\n",
            " 3392 3394 3403 3408 3414 3415 3427 3431 3432 3435 3444 3445 3459 3460\n",
            " 3462 3463 3472 3474 3475 3479 3480 3481 3483 3484 3496 3511 3512 3514\n",
            " 3519 3521 3525 3532 3540 3543 3547 3554 3575 3594 3596 3598 3611 3615\n",
            " 3622 3623 3629 3630 3635 3636 3649 3658 3663 3664 3668 3680 3689 3690\n",
            " 3695 3699 3704 3714 3715 3716 3719 3722 3739 3740 3741 3743 3751 3760\n",
            " 3766 3768 3789 3793 3794 3795 3819 3836 3845 3850 3854 3869 3884 3887\n",
            " 3888 3896 3905 3906 3919 3920 3929 3932 3938 3940 3945 3954 3956 3962\n",
            " 3964 3973 3974 3980 3981 3995 3996 4009 4015 4016 4021 4022 4036 4037\n",
            " 4048 4052 4058 4062 4073 4078 4079 4121 4125 4127 4135 4144 4153 4155\n",
            " 4167 4174 4177 4179 4186 4187 4189 4195 4198 4203 4204 4222 4242 4253\n",
            " 4255 4260 4264 4275 4277 4279 4280 4285 4289 4293 4324 4330 4335 4345\n",
            " 4357 4358 4363 4367 4369 4370 4382 4387 4389 4392 4403]\n",
            "Attrition ['Yes']\n",
            "retirementDate ['15/10/2016' '20/07/2016' '08/11/2016' '08/02/2016' '18/06/2016'\n",
            " '29/04/2016' '15/12/2016' '18/01/2016' '23/08/2016' '17/02/2016'\n",
            " '23/02/2016' '07/04/2016' '08/10/2016' '12/08/2016' '14/10/2016'\n",
            " '26/07/2016' '02/05/2016' '29/07/2016' '10/01/2016' '29/02/2016'\n",
            " '25/03/2016' '30/06/2016' '16/11/2016' '13/02/2016' '05/07/2016'\n",
            " '22/02/2016' '03/01/2016' '05/03/2016' '04/09/2016' '25/01/2016'\n",
            " '01/06/2016' '22/06/2016' '28/10/2016' '23/06/2016' '30/05/2016'\n",
            " '14/07/2016' '17/08/2016' '28/01/2016' '19/01/2016' '06/04/2016'\n",
            " '06/03/2016' '08/12/2016' '01/09/2016' '11/09/2016' '09/06/2016'\n",
            " '30/09/2016' '17/01/2016' '26/08/2016' '13/03/2016' '19/06/2016'\n",
            " '18/05/2016' '09/03/2016' '24/08/2016' '11/06/2016' '19/02/2016'\n",
            " '22/04/2016' '11/08/2016' '02/09/2016' '01/04/2016' '26/05/2016'\n",
            " '21/07/2016' '26/11/2016' '02/06/2016' '26/06/2016' '25/05/2016'\n",
            " '12/12/2016' '22/10/2016' '06/11/2016' '10/09/2016' '01/05/2016'\n",
            " '14/11/2016' '13/12/2016' '21/09/2016' '27/11/2016' '18/10/2016'\n",
            " '10/05/2016' '10/02/2016' '01/07/2016' '26/02/2016' '03/11/2016'\n",
            " '02/12/2016' '08/01/2016' '04/01/2016' '18/04/2016' '24/01/2016'\n",
            " '31/07/2016' '27/05/2016' '27/04/2016' '19/09/2016' '29/01/2016'\n",
            " '16/09/2016' '12/03/2016' '21/04/2016' '20/05/2016' '18/02/2016'\n",
            " '23/07/2016' '18/03/2016' '25/06/2016' '10/08/2016' '26/03/2016'\n",
            " '21/03/2016' '31/01/2016' '11/10/2016' '05/05/2016' '04/08/2016'\n",
            " '27/10/2016' '31/08/2016' '13/11/2016' '01/10/2016' '29/03/2016'\n",
            " '22/01/2016' '06/12/2016' '24/02/2016' '13/07/2016' '22/07/2016'\n",
            " '28/07/2016' '24/03/2016' '08/04/2016' '20/06/2016' '16/03/2016'\n",
            " '25/11/2016' '23/05/2016' '02/07/2016' '18/09/2016' '14/01/2016'\n",
            " '04/04/2016' '01/02/2016' '05/09/2016' '27/07/2016' '08/09/2016'\n",
            " '07/03/2016' '24/07/2016' '17/11/2016' '15/02/2016' '06/06/2016'\n",
            " '31/03/2016' '14/05/2016' '17/05/2016' '15/01/2016' '19/07/2016'\n",
            " '25/07/2016' '07/05/2016' '22/08/2016' '09/09/2016' '03/03/2016'\n",
            " '28/03/2016' '06/01/2016' '28/05/2016' '03/09/2016' '08/06/2016'\n",
            " '25/08/2016' '16/02/2016' '04/05/2016' '05/10/2016' '21/05/2016'\n",
            " '05/01/2016' '14/12/2016' '23/03/2016' '18/11/2016' '17/03/2016'\n",
            " '11/01/2016' '22/05/2016' '03/05/2016' '30/01/2016' '07/02/2016'\n",
            " '04/12/2016' '20/10/2016' '20/03/2016' '09/05/2016' '25/09/2016'\n",
            " '15/05/2016' '28/08/2016' '10/07/2016' '09/04/2016' '28/11/2016'\n",
            " '02/03/2016' '31/10/2016' '15/07/2016' '03/10/2016' '04/02/2016'\n",
            " '12/02/2016' '26/09/2016' '19/08/2016' '07/01/2016' '11/07/2016'\n",
            " '09/12/2016' '02/04/2016' '29/05/2016' '07/11/2016' '16/10/2016'\n",
            " '03/07/2016' '01/03/2016' '14/06/2016' '13/06/2016' '25/10/2016'\n",
            " '11/11/2016' '27/08/2016' '15/11/2016' '19/05/2016' '10/11/2016'\n",
            " '16/04/2016' '11/02/2016' '22/11/2016' '03/12/2016' '13/10/2016'\n",
            " '30/03/2016' '15/04/2016' '24/04/2016' '07/12/2016' '12/11/2016'\n",
            " '18/08/2016' '16/06/2016' '16/05/2016' '09/10/2016' '28/06/2016'\n",
            " '27/06/2016' '13/01/2016' '24/10/2016' '13/04/2016' '16/08/2016'\n",
            " '24/06/2016' '23/09/2016' '03/06/2016' '06/08/2016' '20/09/2016'\n",
            " '01/12/2016' '08/07/2016' '28/04/2016' '11/05/2016' '29/09/2016'\n",
            " '03/04/2016' '15/09/2016' '24/05/2016' '07/10/2016' '27/09/2016'\n",
            " '11/03/2016' '27/01/2016' '09/11/2016' '04/06/2016' '20/11/2016'\n",
            " '13/05/2016' '23/11/2016' '12/09/2016' '02/02/2016' '16/07/2016'\n",
            " '23/01/2016' '21/10/2016' '08/05/2016' '29/11/2016' '19/03/2016'\n",
            " '17/06/2016' '12/04/2016' '20/02/2016' '02/11/2016' '13/08/2016'\n",
            " '30/11/2016' '30/10/2016' '17/04/2016' '25/04/2016' '05/08/2016'\n",
            " '04/03/2016' '02/01/2016' '08/08/2016' '10/10/2016' '05/11/2016'\n",
            " '06/09/2016' '29/08/2016' '15/03/2016' '26/01/2016' '09/02/2016'\n",
            " '22/03/2016' '07/06/2016' '20/08/2016' '16/01/2016' '06/07/2016'\n",
            " '30/08/2016' '04/07/2016' '05/02/2016' '19/10/2016' '21/06/2016'\n",
            " '30/07/2016' '21/11/2016' '14/04/2016' '11/12/2016' '16/12/2016'\n",
            " '06/02/2016' '05/12/2016' '17/07/2016' '10/12/2016' '11/04/2016'\n",
            " '28/02/2016' '13/09/2016' '19/04/2016' '14/02/2016' '17/10/2016'\n",
            " '04/10/2016' '12/05/2016' '01/11/2016' '29/06/2016' '21/01/2016'\n",
            " '14/08/2016' '21/08/2016' '17/09/2016' '19/11/2016' '28/09/2016'\n",
            " '07/08/2016' '07/09/2016' '02/10/2016']\n",
            "retirementType ['Resignation' 'Fired']\n",
            "resignationReason ['Others' 'Stress' 'Salary' nan]\n",
            "Tamaño del DataFrame: (711, 5)\n"
          ]
        }
      ],
      "source": [
        "fn.info_columns(data_retirement)"
      ]
    },
    {
      "cell_type": "code",
      "execution_count": 18,
      "metadata": {},
      "outputs": [
        {
          "data": {
            "text/plain": [
              "EmployeeID            0\n",
              "Attrition             0\n",
              "retirementDate        0\n",
              "retirementType        0\n",
              "resignationReason    70\n",
              "dtype: int64"
            ]
          },
          "execution_count": 18,
          "metadata": {},
          "output_type": "execute_result"
        }
      ],
      "source": [
        "data_retirement.isnull().sum()"
      ]
    },
    {
      "cell_type": "code",
      "execution_count": 19,
      "metadata": {},
      "outputs": [
        {
          "data": {
            "text/html": [
              "<div>\n",
              "<style scoped>\n",
              "    .dataframe tbody tr th:only-of-type {\n",
              "        vertical-align: middle;\n",
              "    }\n",
              "\n",
              "    .dataframe tbody tr th {\n",
              "        vertical-align: top;\n",
              "    }\n",
              "\n",
              "    .dataframe thead th {\n",
              "        text-align: right;\n",
              "    }\n",
              "</style>\n",
              "<table border=\"1\" class=\"dataframe\">\n",
              "  <thead>\n",
              "    <tr style=\"text-align: right;\">\n",
              "      <th></th>\n",
              "      <th>EmployeeID</th>\n",
              "      <th>Attrition</th>\n",
              "      <th>retirementDate</th>\n",
              "      <th>retirementType</th>\n",
              "      <th>resignationReason</th>\n",
              "    </tr>\n",
              "  </thead>\n",
              "  <tbody>\n",
              "    <tr>\n",
              "      <th>0</th>\n",
              "      <td>2</td>\n",
              "      <td>Yes</td>\n",
              "      <td>15/10/2016</td>\n",
              "      <td>Resignation</td>\n",
              "      <td>Others</td>\n",
              "    </tr>\n",
              "    <tr>\n",
              "      <th>1</th>\n",
              "      <td>7</td>\n",
              "      <td>Yes</td>\n",
              "      <td>20/07/2016</td>\n",
              "      <td>Resignation</td>\n",
              "      <td>Stress</td>\n",
              "    </tr>\n",
              "    <tr>\n",
              "      <th>2</th>\n",
              "      <td>14</td>\n",
              "      <td>Yes</td>\n",
              "      <td>08/11/2016</td>\n",
              "      <td>Resignation</td>\n",
              "      <td>Others</td>\n",
              "    </tr>\n",
              "    <tr>\n",
              "      <th>3</th>\n",
              "      <td>29</td>\n",
              "      <td>Yes</td>\n",
              "      <td>15/10/2016</td>\n",
              "      <td>Resignation</td>\n",
              "      <td>Others</td>\n",
              "    </tr>\n",
              "    <tr>\n",
              "      <th>4</th>\n",
              "      <td>31</td>\n",
              "      <td>Yes</td>\n",
              "      <td>08/02/2016</td>\n",
              "      <td>Resignation</td>\n",
              "      <td>Salary</td>\n",
              "    </tr>\n",
              "    <tr>\n",
              "      <th>...</th>\n",
              "      <td>...</td>\n",
              "      <td>...</td>\n",
              "      <td>...</td>\n",
              "      <td>...</td>\n",
              "      <td>...</td>\n",
              "    </tr>\n",
              "    <tr>\n",
              "      <th>706</th>\n",
              "      <td>4382</td>\n",
              "      <td>Yes</td>\n",
              "      <td>18/04/2016</td>\n",
              "      <td>Resignation</td>\n",
              "      <td>Salary</td>\n",
              "    </tr>\n",
              "    <tr>\n",
              "      <th>707</th>\n",
              "      <td>4387</td>\n",
              "      <td>Yes</td>\n",
              "      <td>16/09/2016</td>\n",
              "      <td>Resignation</td>\n",
              "      <td>Others</td>\n",
              "    </tr>\n",
              "    <tr>\n",
              "      <th>708</th>\n",
              "      <td>4389</td>\n",
              "      <td>Yes</td>\n",
              "      <td>24/05/2016</td>\n",
              "      <td>Resignation</td>\n",
              "      <td>Others</td>\n",
              "    </tr>\n",
              "    <tr>\n",
              "      <th>709</th>\n",
              "      <td>4392</td>\n",
              "      <td>Yes</td>\n",
              "      <td>26/02/2016</td>\n",
              "      <td>Fired</td>\n",
              "      <td>Others</td>\n",
              "    </tr>\n",
              "    <tr>\n",
              "      <th>710</th>\n",
              "      <td>4403</td>\n",
              "      <td>Yes</td>\n",
              "      <td>26/01/2016</td>\n",
              "      <td>Resignation</td>\n",
              "      <td>Stress</td>\n",
              "    </tr>\n",
              "  </tbody>\n",
              "</table>\n",
              "<p>711 rows × 5 columns</p>\n",
              "</div>"
            ],
            "text/plain": [
              "     EmployeeID Attrition retirementDate retirementType resignationReason\n",
              "0             2       Yes     15/10/2016    Resignation            Others\n",
              "1             7       Yes     20/07/2016    Resignation            Stress\n",
              "2            14       Yes     08/11/2016    Resignation            Others\n",
              "3            29       Yes     15/10/2016    Resignation            Others\n",
              "4            31       Yes     08/02/2016    Resignation            Salary\n",
              "..          ...       ...            ...            ...               ...\n",
              "706        4382       Yes     18/04/2016    Resignation            Salary\n",
              "707        4387       Yes     16/09/2016    Resignation            Others\n",
              "708        4389       Yes     24/05/2016    Resignation            Others\n",
              "709        4392       Yes     26/02/2016          Fired            Others\n",
              "710        4403       Yes     26/01/2016    Resignation            Stress\n",
              "\n",
              "[711 rows x 5 columns]"
            ]
          },
          "execution_count": 19,
          "metadata": {},
          "output_type": "execute_result"
        }
      ],
      "source": [
        "fn.impute_columns(df = data_retirement, columns = ['resignationReason'], strategy = 'most_frequent')"
      ]
    },
    {
      "cell_type": "code",
      "execution_count": 20,
      "metadata": {},
      "outputs": [
        {
          "data": {
            "text/plain": [
              "EmployeeID           0\n",
              "Attrition            0\n",
              "retirementDate       0\n",
              "retirementType       0\n",
              "resignationReason    0\n",
              "dtype: int64"
            ]
          },
          "execution_count": 20,
          "metadata": {},
          "output_type": "execute_result"
        }
      ],
      "source": [
        "data_retirement.isnull().sum()"
      ]
    },
    {
      "cell_type": "code",
      "execution_count": 21,
      "metadata": {},
      "outputs": [
        {
          "name": "stdout",
          "output_type": "stream",
          "text": [
            "<class 'pandas.core.frame.DataFrame'>\n",
            "RangeIndex: 711 entries, 0 to 710\n",
            "Data columns (total 5 columns):\n",
            " #   Column             Non-Null Count  Dtype \n",
            "---  ------             --------------  ----- \n",
            " 0   EmployeeID         711 non-null    int64 \n",
            " 1   Attrition          711 non-null    object\n",
            " 2   retirementDate     711 non-null    object\n",
            " 3   retirementType     711 non-null    object\n",
            " 4   resignationReason  711 non-null    object\n",
            "dtypes: int64(1), object(4)\n",
            "memory usage: 27.9+ KB\n"
          ]
        }
      ],
      "source": [
        "data_retirement.info()"
      ]
    },
    {
      "cell_type": "code",
      "execution_count": 22,
      "metadata": {},
      "outputs": [
        {
          "name": "stdout",
          "output_type": "stream",
          "text": [
            "<class 'pandas.core.frame.DataFrame'>\n",
            "RangeIndex: 711 entries, 0 to 710\n",
            "Data columns (total 5 columns):\n",
            " #   Column             Non-Null Count  Dtype         \n",
            "---  ------             --------------  -----         \n",
            " 0   EmployeeID         711 non-null    object        \n",
            " 1   Attrition          711 non-null    object        \n",
            " 2   retirementDate     711 non-null    datetime64[ns]\n",
            " 3   retirementType     711 non-null    object        \n",
            " 4   resignationReason  711 non-null    object        \n",
            "dtypes: datetime64[ns](1), object(4)\n",
            "memory usage: 27.9+ KB\n"
          ]
        }
      ],
      "source": [
        "columns_object = [\"retirementType\", \"EmployeeID\"]\n",
        "data_retirement[columns_object] = data_retirement[columns_object].astype(object)\n",
        "data_retirement[\"retirementDate\"] = pd.to_datetime(data_retirement[\"retirementDate\"])\n",
        "data_retirement.info()"
      ]
    },
    {
      "cell_type": "markdown",
      "metadata": {},
      "source": [
        "<h3>Unión de bases de datos</h3>"
      ]
    },
    {
      "cell_type": "code",
      "execution_count": 23,
      "metadata": {},
      "outputs": [],
      "source": [
        "data = pd.merge(data_general,data_employee, on=['EmployeeID', 'EmployeeID'], how='inner')\n",
        "data = pd.merge(data, data_manager_survey, on=['EmployeeID', 'EmployeeID'], how='inner')\n",
        "data = pd.merge(data, data_mean_time, on=['EmployeeID', 'EmployeeID'], how='inner')\n",
        "data = pd.merge(data, data_retirement, on=['EmployeeID', \"EmployeeID\"], how=\"left\")"
      ]
    },
    {
      "cell_type": "code",
      "execution_count": 24,
      "metadata": {},
      "outputs": [
        {
          "name": "stdout",
          "output_type": "stream",
          "text": [
            "Age [51 31 32 38 46 28 29 25 45 36 55 47 37 21 35 26 50 53 42 44 49 18 41 39\n",
            " 58 33 43 52 27 30 54 40 23 48 57 34 24 22 56 60 19 20 59]\n",
            "BusinessTravel ['Travel_Rarely' 'Travel_Frequently' 'Non-Travel']\n",
            "Department ['Sales' 'Research & Development' 'Human Resources']\n",
            "DistanceFromHome [ 6. 10. 17.  2.  8. 11. 18.  1.  7. 28. 14.  3.  4. 16.  9.  5. 20. 29.\n",
            " 15. 13. 24. 19. 22. 25. 21. 26. 27. 12. 23.]\n",
            "Education [2 1 4 5 3]\n",
            "EducationField ['Life Sciences' 'Other' 'Medical' 'Marketing' 'Technical Degree'\n",
            " 'Human Resources']\n",
            "EmployeeID [1 2 3 ... 4408 4409 4410]\n",
            "Gender ['Female' 'Male']\n",
            "JobLevel [1 4 3 2 5]\n",
            "JobRole ['Healthcare Representative' 'Research Scientist' 'Sales Executive'\n",
            " 'Human Resources' 'Research Director' 'Laboratory Technician'\n",
            " 'Manufacturing Director' 'Sales Representative' 'Manager']\n",
            "MaritalStatus ['Married' 'Single' 'Divorced']\n",
            "MonthlyIncome [131160.  41890. 193280. ...  37020.  23980.  54680.]\n",
            "NumCompaniesWorked [1 0 3 4 2 7 9 5 6 8]\n",
            "PercentSalaryHike [11 23 15 12 13 20 22 21 17 14 16 18 19 24 25]\n",
            "StockOptionLevel [0 1 3 2]\n",
            "TotalWorkingYears [ 1  6  5 13  9 28 10 21 16 37  7  3 15  8 12 17 19 22  2  4 23  0 11 24\n",
            " 25 20 14 26 18 30 36 31 33 32 34 40 29 35 27 38]\n",
            "TrainingTimesLastYear [6 3 2 5 4 0 1]\n",
            "YearsAtCompany [ 1  5  8  6  7  0  9 20 15 36 10  3 17  2  4 11 22 18 13 24 21 16 25 29\n",
            " 27 14 31 32 34 26 12 19 33 30 23 37 40]\n",
            "YearsSinceLastPromotion [ 0  1  7  4 10  9  6 11  3  5  2  8 13 12 15 14]\n",
            "YearsWithCurrManager [ 0  4  3  5  7  8 10 11 13  9  1  2  6 12 17 16 15 14]\n",
            "EnvironmentSatisfaction [3.0 2.0 4.0 1.0]\n",
            "JobSatisfaction [4.0 2.0 1.0 3.0]\n",
            "WorkLifeBalance [2.0 4.0 1.0 3.0]\n",
            "JobInvolvement [3 2 1 4]\n",
            "PerformanceRating [3 4]\n",
            "mean_time [ 7  8 11  9  6 10]\n",
            "Attrition [nan 'Yes']\n",
            "retirementDate [                          'NaT' '2016-10-15T00:00:00.000000000'\n",
            " '2016-07-20T00:00:00.000000000' '2016-08-11T00:00:00.000000000'\n",
            " '2016-08-02T00:00:00.000000000' '2016-06-18T00:00:00.000000000'\n",
            " '2016-04-29T00:00:00.000000000' '2016-12-15T00:00:00.000000000'\n",
            " '2016-01-18T00:00:00.000000000' '2016-08-23T00:00:00.000000000'\n",
            " '2016-02-17T00:00:00.000000000' '2016-02-23T00:00:00.000000000'\n",
            " '2016-07-04T00:00:00.000000000' '2016-08-10T00:00:00.000000000'\n",
            " '2016-12-08T00:00:00.000000000' '2016-10-14T00:00:00.000000000'\n",
            " '2016-07-26T00:00:00.000000000' '2016-02-05T00:00:00.000000000'\n",
            " '2016-07-29T00:00:00.000000000' '2016-10-01T00:00:00.000000000'\n",
            " '2016-02-29T00:00:00.000000000' '2016-03-25T00:00:00.000000000'\n",
            " '2016-06-30T00:00:00.000000000' '2016-11-16T00:00:00.000000000'\n",
            " '2016-02-13T00:00:00.000000000' '2016-05-07T00:00:00.000000000'\n",
            " '2016-02-22T00:00:00.000000000' '2016-03-01T00:00:00.000000000'\n",
            " '2016-05-03T00:00:00.000000000' '2016-04-09T00:00:00.000000000'\n",
            " '2016-01-25T00:00:00.000000000' '2016-01-06T00:00:00.000000000'\n",
            " '2016-06-22T00:00:00.000000000' '2016-10-28T00:00:00.000000000'\n",
            " '2016-06-23T00:00:00.000000000' '2016-05-30T00:00:00.000000000'\n",
            " '2016-07-14T00:00:00.000000000' '2016-08-17T00:00:00.000000000'\n",
            " '2016-01-28T00:00:00.000000000' '2016-01-19T00:00:00.000000000'\n",
            " '2016-06-04T00:00:00.000000000' '2016-06-03T00:00:00.000000000'\n",
            " '2016-08-12T00:00:00.000000000' '2016-01-09T00:00:00.000000000'\n",
            " '2016-11-09T00:00:00.000000000' '2016-09-06T00:00:00.000000000'\n",
            " '2016-09-30T00:00:00.000000000' '2016-01-17T00:00:00.000000000'\n",
            " '2016-08-26T00:00:00.000000000' '2016-03-13T00:00:00.000000000'\n",
            " '2016-06-19T00:00:00.000000000' '2016-05-18T00:00:00.000000000'\n",
            " '2016-09-03T00:00:00.000000000' '2016-08-24T00:00:00.000000000'\n",
            " '2016-11-06T00:00:00.000000000' '2016-02-19T00:00:00.000000000'\n",
            " '2016-04-22T00:00:00.000000000' '2016-11-08T00:00:00.000000000'\n",
            " '2016-02-09T00:00:00.000000000' '2016-01-04T00:00:00.000000000'\n",
            " '2016-05-26T00:00:00.000000000' '2016-07-21T00:00:00.000000000'\n",
            " '2016-11-26T00:00:00.000000000' '2016-02-06T00:00:00.000000000'\n",
            " '2016-06-26T00:00:00.000000000' '2016-05-25T00:00:00.000000000'\n",
            " '2016-12-12T00:00:00.000000000' '2016-10-22T00:00:00.000000000'\n",
            " '2016-06-11T00:00:00.000000000' '2016-10-09T00:00:00.000000000'\n",
            " '2016-01-05T00:00:00.000000000' '2016-11-14T00:00:00.000000000'\n",
            " '2016-12-13T00:00:00.000000000' '2016-09-21T00:00:00.000000000'\n",
            " '2016-11-27T00:00:00.000000000' '2016-10-18T00:00:00.000000000'\n",
            " '2016-10-05T00:00:00.000000000' '2016-10-02T00:00:00.000000000'\n",
            " '2016-01-07T00:00:00.000000000' '2016-02-26T00:00:00.000000000'\n",
            " '2016-03-11T00:00:00.000000000' '2016-02-12T00:00:00.000000000'\n",
            " '2016-08-01T00:00:00.000000000' '2016-04-01T00:00:00.000000000'\n",
            " '2016-04-18T00:00:00.000000000' '2016-01-24T00:00:00.000000000'\n",
            " '2016-07-31T00:00:00.000000000' '2016-05-27T00:00:00.000000000'\n",
            " '2016-04-27T00:00:00.000000000' '2016-09-19T00:00:00.000000000'\n",
            " '2016-01-29T00:00:00.000000000' '2016-09-16T00:00:00.000000000'\n",
            " '2016-12-03T00:00:00.000000000' '2016-04-21T00:00:00.000000000'\n",
            " '2016-05-20T00:00:00.000000000' '2016-02-18T00:00:00.000000000'\n",
            " '2016-07-23T00:00:00.000000000' '2016-03-18T00:00:00.000000000'\n",
            " '2016-06-25T00:00:00.000000000' '2016-10-08T00:00:00.000000000'\n",
            " '2016-03-26T00:00:00.000000000' '2016-03-21T00:00:00.000000000'\n",
            " '2016-01-31T00:00:00.000000000' '2016-11-10T00:00:00.000000000'\n",
            " '2016-05-05T00:00:00.000000000' '2016-04-08T00:00:00.000000000'\n",
            " '2016-10-27T00:00:00.000000000' '2016-08-31T00:00:00.000000000'\n",
            " '2016-11-13T00:00:00.000000000' '2016-01-10T00:00:00.000000000'\n",
            " '2016-03-29T00:00:00.000000000' '2016-01-22T00:00:00.000000000'\n",
            " '2016-06-12T00:00:00.000000000' '2016-02-24T00:00:00.000000000'\n",
            " '2016-07-13T00:00:00.000000000' '2016-07-22T00:00:00.000000000'\n",
            " '2016-07-28T00:00:00.000000000' '2016-03-24T00:00:00.000000000'\n",
            " '2016-08-04T00:00:00.000000000' '2016-06-20T00:00:00.000000000'\n",
            " '2016-03-16T00:00:00.000000000' '2016-11-25T00:00:00.000000000'\n",
            " '2016-05-23T00:00:00.000000000' '2016-02-07T00:00:00.000000000'\n",
            " '2016-09-18T00:00:00.000000000' '2016-01-14T00:00:00.000000000'\n",
            " '2016-04-04T00:00:00.000000000' '2016-01-02T00:00:00.000000000'\n",
            " '2016-05-09T00:00:00.000000000' '2016-07-27T00:00:00.000000000'\n",
            " '2016-08-09T00:00:00.000000000' '2016-07-03T00:00:00.000000000'\n",
            " '2016-07-24T00:00:00.000000000' '2016-11-17T00:00:00.000000000'\n",
            " '2016-02-15T00:00:00.000000000' '2016-06-06T00:00:00.000000000'\n",
            " '2016-03-31T00:00:00.000000000' '2016-05-14T00:00:00.000000000'\n",
            " '2016-05-17T00:00:00.000000000' '2016-01-15T00:00:00.000000000'\n",
            " '2016-07-19T00:00:00.000000000' '2016-07-25T00:00:00.000000000'\n",
            " '2016-07-05T00:00:00.000000000' '2016-08-22T00:00:00.000000000'\n",
            " '2016-09-09T00:00:00.000000000' '2016-03-03T00:00:00.000000000'\n",
            " '2016-03-28T00:00:00.000000000' '2016-06-01T00:00:00.000000000'\n",
            " '2016-05-28T00:00:00.000000000' '2016-03-09T00:00:00.000000000'\n",
            " '2016-08-06T00:00:00.000000000' '2016-08-25T00:00:00.000000000'\n",
            " '2016-02-16T00:00:00.000000000' '2016-04-05T00:00:00.000000000'\n",
            " '2016-05-10T00:00:00.000000000' '2016-05-21T00:00:00.000000000'\n",
            " '2016-05-01T00:00:00.000000000' '2016-12-14T00:00:00.000000000'\n",
            " '2016-03-23T00:00:00.000000000' '2016-11-18T00:00:00.000000000'\n",
            " '2016-03-17T00:00:00.000000000' '2016-11-01T00:00:00.000000000'\n",
            " '2016-05-22T00:00:00.000000000' '2016-03-05T00:00:00.000000000'\n",
            " '2016-01-30T00:00:00.000000000' '2016-07-02T00:00:00.000000000'\n",
            " '2016-04-12T00:00:00.000000000' '2016-10-20T00:00:00.000000000'\n",
            " '2016-03-20T00:00:00.000000000' '2016-09-05T00:00:00.000000000'\n",
            " '2016-09-25T00:00:00.000000000' '2016-05-15T00:00:00.000000000'\n",
            " '2016-08-28T00:00:00.000000000' '2016-10-07T00:00:00.000000000'\n",
            " '2016-09-04T00:00:00.000000000' '2016-11-28T00:00:00.000000000'\n",
            " '2016-02-03T00:00:00.000000000' '2016-10-31T00:00:00.000000000'\n",
            " '2016-07-15T00:00:00.000000000' '2016-03-10T00:00:00.000000000'\n",
            " '2016-04-02T00:00:00.000000000' '2016-12-02T00:00:00.000000000'\n",
            " '2016-09-26T00:00:00.000000000' '2016-08-19T00:00:00.000000000'\n",
            " '2016-07-01T00:00:00.000000000' '2016-11-07T00:00:00.000000000'\n",
            " '2016-09-12T00:00:00.000000000' '2016-02-04T00:00:00.000000000'\n",
            " '2016-05-29T00:00:00.000000000' '2016-07-11T00:00:00.000000000'\n",
            " '2016-10-16T00:00:00.000000000' '2016-03-07T00:00:00.000000000'\n",
            " '2016-01-03T00:00:00.000000000' '2016-06-14T00:00:00.000000000'\n",
            " '2016-06-13T00:00:00.000000000' '2016-10-25T00:00:00.000000000'\n",
            " '2016-11-11T00:00:00.000000000' '2016-08-27T00:00:00.000000000'\n",
            " '2016-11-15T00:00:00.000000000' '2016-05-19T00:00:00.000000000'\n",
            " '2016-10-11T00:00:00.000000000' '2016-04-16T00:00:00.000000000'\n",
            " '2016-11-02T00:00:00.000000000' '2016-11-22T00:00:00.000000000'\n",
            " '2016-03-12T00:00:00.000000000' '2016-10-13T00:00:00.000000000'\n",
            " '2016-03-30T00:00:00.000000000' '2016-04-15T00:00:00.000000000'\n",
            " '2016-04-24T00:00:00.000000000' '2016-07-12T00:00:00.000000000'\n",
            " '2016-12-11T00:00:00.000000000' '2016-08-18T00:00:00.000000000'\n",
            " '2016-06-16T00:00:00.000000000' '2016-05-16T00:00:00.000000000'\n",
            " '2016-09-10T00:00:00.000000000' '2016-06-28T00:00:00.000000000'\n",
            " '2016-06-27T00:00:00.000000000' '2016-01-13T00:00:00.000000000'\n",
            " '2016-10-24T00:00:00.000000000' '2016-04-13T00:00:00.000000000'\n",
            " '2016-08-16T00:00:00.000000000' '2016-06-24T00:00:00.000000000'\n",
            " '2016-09-23T00:00:00.000000000' '2016-03-06T00:00:00.000000000'\n",
            " '2016-06-08T00:00:00.000000000' '2016-09-20T00:00:00.000000000'\n",
            " '2016-01-12T00:00:00.000000000' '2016-08-07T00:00:00.000000000'\n",
            " '2016-04-28T00:00:00.000000000' '2016-11-05T00:00:00.000000000'\n",
            " '2016-09-29T00:00:00.000000000' '2016-03-04T00:00:00.000000000'\n",
            " '2016-09-15T00:00:00.000000000' '2016-05-24T00:00:00.000000000'\n",
            " '2016-07-10T00:00:00.000000000' '2016-09-27T00:00:00.000000000'\n",
            " '2016-11-03T00:00:00.000000000' '2016-01-27T00:00:00.000000000'\n",
            " '2016-09-11T00:00:00.000000000' '2016-04-06T00:00:00.000000000'\n",
            " '2016-11-20T00:00:00.000000000' '2016-05-13T00:00:00.000000000'\n",
            " '2016-11-23T00:00:00.000000000' '2016-12-09T00:00:00.000000000'\n",
            " '2016-02-02T00:00:00.000000000' '2016-07-16T00:00:00.000000000'\n",
            " '2016-01-23T00:00:00.000000000' '2016-10-21T00:00:00.000000000'\n",
            " '2016-08-05T00:00:00.000000000' '2016-11-29T00:00:00.000000000'\n",
            " '2016-03-19T00:00:00.000000000' '2016-06-17T00:00:00.000000000'\n",
            " '2016-12-04T00:00:00.000000000' '2016-02-20T00:00:00.000000000'\n",
            " '2016-02-11T00:00:00.000000000' '2016-08-13T00:00:00.000000000'\n",
            " '2016-11-30T00:00:00.000000000' '2016-10-30T00:00:00.000000000'\n",
            " '2016-04-17T00:00:00.000000000' '2016-04-25T00:00:00.000000000'\n",
            " '2016-05-08T00:00:00.000000000' '2016-04-03T00:00:00.000000000'\n",
            " '2016-02-01T00:00:00.000000000' '2016-08-08T00:00:00.000000000'\n",
            " '2016-10-10T00:00:00.000000000' '2016-05-11T00:00:00.000000000'\n",
            " '2016-06-09T00:00:00.000000000' '2016-08-29T00:00:00.000000000'\n",
            " '2016-03-15T00:00:00.000000000' '2016-01-26T00:00:00.000000000'\n",
            " '2016-09-02T00:00:00.000000000' '2016-03-22T00:00:00.000000000'\n",
            " '2016-07-06T00:00:00.000000000' '2016-08-20T00:00:00.000000000'\n",
            " '2016-01-16T00:00:00.000000000' '2016-06-07T00:00:00.000000000'\n",
            " '2016-08-30T00:00:00.000000000' '2016-04-07T00:00:00.000000000'\n",
            " '2016-05-02T00:00:00.000000000' '2016-10-19T00:00:00.000000000'\n",
            " '2016-06-21T00:00:00.000000000' '2016-07-30T00:00:00.000000000'\n",
            " '2016-11-21T00:00:00.000000000' '2016-04-14T00:00:00.000000000'\n",
            " '2016-11-12T00:00:00.000000000' '2016-12-16T00:00:00.000000000'\n",
            " '2016-06-02T00:00:00.000000000' '2016-05-12T00:00:00.000000000'\n",
            " '2016-07-17T00:00:00.000000000' '2016-10-12T00:00:00.000000000'\n",
            " '2016-11-04T00:00:00.000000000' '2016-02-28T00:00:00.000000000'\n",
            " '2016-09-13T00:00:00.000000000' '2016-04-19T00:00:00.000000000'\n",
            " '2016-02-14T00:00:00.000000000' '2016-10-17T00:00:00.000000000'\n",
            " '2016-04-10T00:00:00.000000000' '2016-12-05T00:00:00.000000000'\n",
            " '2016-01-11T00:00:00.000000000' '2016-06-29T00:00:00.000000000'\n",
            " '2016-01-21T00:00:00.000000000' '2016-08-14T00:00:00.000000000'\n",
            " '2016-08-21T00:00:00.000000000' '2016-09-17T00:00:00.000000000'\n",
            " '2016-11-19T00:00:00.000000000' '2016-09-28T00:00:00.000000000'\n",
            " '2016-07-08T00:00:00.000000000' '2016-07-09T00:00:00.000000000'\n",
            " '2016-02-10T00:00:00.000000000']\n",
            "retirementType [nan 'Resignation' 'Fired']\n",
            "resignationReason [nan 'Others' 'Stress' 'Salary']\n",
            "Tamaño del DataFrame: (4410, 30)\n"
          ]
        }
      ],
      "source": [
        "fn.info_columns(data)"
      ]
    },
    {
      "cell_type": "code",
      "execution_count": 25,
      "metadata": {},
      "outputs": [
        {
          "data": {
            "text/plain": [
              "Age                           0\n",
              "BusinessTravel                0\n",
              "Department                    0\n",
              "DistanceFromHome              0\n",
              "Education                     0\n",
              "EducationField                0\n",
              "EmployeeID                    0\n",
              "Gender                        0\n",
              "JobLevel                      0\n",
              "JobRole                       0\n",
              "MaritalStatus                 0\n",
              "MonthlyIncome                 0\n",
              "NumCompaniesWorked            0\n",
              "PercentSalaryHike             0\n",
              "StockOptionLevel              0\n",
              "TotalWorkingYears             0\n",
              "TrainingTimesLastYear         0\n",
              "YearsAtCompany                0\n",
              "YearsSinceLastPromotion       0\n",
              "YearsWithCurrManager          0\n",
              "EnvironmentSatisfaction       0\n",
              "JobSatisfaction               0\n",
              "WorkLifeBalance               0\n",
              "JobInvolvement                0\n",
              "PerformanceRating             0\n",
              "mean_time                     0\n",
              "Attrition                  3699\n",
              "retirementDate             3699\n",
              "retirementType             3699\n",
              "resignationReason          3699\n",
              "dtype: int64"
            ]
          },
          "execution_count": 25,
          "metadata": {},
          "output_type": "execute_result"
        }
      ],
      "source": [
        "data.isnull().sum()"
      ]
    },
    {
      "cell_type": "code",
      "execution_count": 26,
      "metadata": {},
      "outputs": [],
      "source": [
        "data[\"Attrition\"] = data[\"Attrition\"].fillna(\"No\")"
      ]
    },
    {
      "cell_type": "code",
      "execution_count": 27,
      "metadata": {},
      "outputs": [
        {
          "data": {
            "text/plain": [
              "array(['No', 'Yes'], dtype=object)"
            ]
          },
          "execution_count": 27,
          "metadata": {},
          "output_type": "execute_result"
        }
      ],
      "source": [
        "data[\"Attrition\"].unique()"
      ]
    },
    {
      "cell_type": "code",
      "execution_count": 28,
      "metadata": {},
      "outputs": [
        {
          "name": "stdout",
          "output_type": "stream",
          "text": [
            "<class 'pandas.core.frame.DataFrame'>\n",
            "Int64Index: 4410 entries, 0 to 4409\n",
            "Data columns (total 30 columns):\n",
            " #   Column                   Non-Null Count  Dtype         \n",
            "---  ------                   --------------  -----         \n",
            " 0   Age                      4410 non-null   int64         \n",
            " 1   BusinessTravel           4410 non-null   object        \n",
            " 2   Department               4410 non-null   object        \n",
            " 3   DistanceFromHome         4410 non-null   float64       \n",
            " 4   Education                4410 non-null   object        \n",
            " 5   EducationField           4410 non-null   object        \n",
            " 6   EmployeeID               4410 non-null   object        \n",
            " 7   Gender                   4410 non-null   object        \n",
            " 8   JobLevel                 4410 non-null   object        \n",
            " 9   JobRole                  4410 non-null   object        \n",
            " 10  MaritalStatus            4410 non-null   object        \n",
            " 11  MonthlyIncome            4410 non-null   float64       \n",
            " 12  NumCompaniesWorked       4410 non-null   int32         \n",
            " 13  PercentSalaryHike        4410 non-null   int64         \n",
            " 14  StockOptionLevel         4410 non-null   object        \n",
            " 15  TotalWorkingYears        4410 non-null   int32         \n",
            " 16  TrainingTimesLastYear    4410 non-null   int64         \n",
            " 17  YearsAtCompany           4410 non-null   int64         \n",
            " 18  YearsSinceLastPromotion  4410 non-null   int64         \n",
            " 19  YearsWithCurrManager     4410 non-null   int64         \n",
            " 20  EnvironmentSatisfaction  4410 non-null   object        \n",
            " 21  JobSatisfaction          4410 non-null   object        \n",
            " 22  WorkLifeBalance          4410 non-null   object        \n",
            " 23  JobInvolvement           4410 non-null   object        \n",
            " 24  PerformanceRating        4410 non-null   object        \n",
            " 25  mean_time                4410 non-null   int64         \n",
            " 26  Attrition                4410 non-null   object        \n",
            " 27  retirementDate           711 non-null    datetime64[ns]\n",
            " 28  retirementType           711 non-null    object        \n",
            " 29  resignationReason        711 non-null    object        \n",
            "dtypes: datetime64[ns](1), float64(2), int32(2), int64(7), object(18)\n",
            "memory usage: 1.0+ MB\n"
          ]
        }
      ],
      "source": [
        "data.info()"
      ]
    },
    {
      "cell_type": "code",
      "execution_count": 29,
      "metadata": {},
      "outputs": [
        {
          "data": {
            "text/plain": [
              "Age                           0\n",
              "BusinessTravel                0\n",
              "Department                    0\n",
              "DistanceFromHome              0\n",
              "Education                     0\n",
              "EducationField                0\n",
              "EmployeeID                    0\n",
              "Gender                        0\n",
              "JobLevel                      0\n",
              "JobRole                       0\n",
              "MaritalStatus                 0\n",
              "MonthlyIncome                 0\n",
              "NumCompaniesWorked            0\n",
              "PercentSalaryHike             0\n",
              "StockOptionLevel              0\n",
              "TotalWorkingYears             0\n",
              "TrainingTimesLastYear         0\n",
              "YearsAtCompany                0\n",
              "YearsSinceLastPromotion       0\n",
              "YearsWithCurrManager          0\n",
              "EnvironmentSatisfaction       0\n",
              "JobSatisfaction               0\n",
              "WorkLifeBalance               0\n",
              "JobInvolvement                0\n",
              "PerformanceRating             0\n",
              "mean_time                     0\n",
              "Attrition                     0\n",
              "retirementDate             3699\n",
              "retirementType             3699\n",
              "resignationReason          3699\n",
              "dtype: int64"
            ]
          },
          "execution_count": 29,
          "metadata": {},
          "output_type": "execute_result"
        }
      ],
      "source": [
        "data.isnull().sum()"
      ]
    },
    {
      "cell_type": "code",
      "execution_count": 30,
      "metadata": {},
      "outputs": [],
      "source": [
        "columns_drop = [\"retirementDate\", \"retirementType\", \"resignationReason\"]\n",
        "data = data.drop(columns = columns_drop)"
      ]
    },
    {
      "cell_type": "markdown",
      "metadata": {},
      "source": [
        "<p>Se procede a eliminar las anteriores variables dedibo a que estas son propias de las personas que se han retirado y no se pueden cambiar los valores nulos que estas presentan. Estas se pueden tener en cuenta para un posterior análisis.</p>"
      ]
    },
    {
      "cell_type": "code",
      "execution_count": 31,
      "metadata": {},
      "outputs": [
        {
          "name": "stdout",
          "output_type": "stream",
          "text": [
            "<class 'pandas.core.frame.DataFrame'>\n",
            "Int64Index: 4410 entries, 0 to 4409\n",
            "Data columns (total 27 columns):\n",
            " #   Column                   Non-Null Count  Dtype  \n",
            "---  ------                   --------------  -----  \n",
            " 0   Age                      4410 non-null   int64  \n",
            " 1   BusinessTravel           4410 non-null   object \n",
            " 2   Department               4410 non-null   object \n",
            " 3   DistanceFromHome         4410 non-null   float64\n",
            " 4   Education                4410 non-null   object \n",
            " 5   EducationField           4410 non-null   object \n",
            " 6   EmployeeID               4410 non-null   object \n",
            " 7   Gender                   4410 non-null   object \n",
            " 8   JobLevel                 4410 non-null   object \n",
            " 9   JobRole                  4410 non-null   object \n",
            " 10  MaritalStatus            4410 non-null   object \n",
            " 11  MonthlyIncome            4410 non-null   float64\n",
            " 12  NumCompaniesWorked       4410 non-null   int32  \n",
            " 13  PercentSalaryHike        4410 non-null   int64  \n",
            " 14  StockOptionLevel         4410 non-null   object \n",
            " 15  TotalWorkingYears        4410 non-null   int32  \n",
            " 16  TrainingTimesLastYear    4410 non-null   int64  \n",
            " 17  YearsAtCompany           4410 non-null   int64  \n",
            " 18  YearsSinceLastPromotion  4410 non-null   int64  \n",
            " 19  YearsWithCurrManager     4410 non-null   int64  \n",
            " 20  EnvironmentSatisfaction  4410 non-null   object \n",
            " 21  JobSatisfaction          4410 non-null   object \n",
            " 22  WorkLifeBalance          4410 non-null   object \n",
            " 23  JobInvolvement           4410 non-null   object \n",
            " 24  PerformanceRating        4410 non-null   object \n",
            " 25  mean_time                4410 non-null   int64  \n",
            " 26  Attrition                4410 non-null   object \n",
            "dtypes: float64(2), int32(2), int64(7), object(16)\n",
            "memory usage: 930.2+ KB\n"
          ]
        }
      ],
      "source": [
        "data.info()"
      ]
    },
    {
      "cell_type": "code",
      "execution_count": 33,
      "metadata": {},
      "outputs": [],
      "source": [
        "#Descarga de datos para el análisis exploratorio\n",
        "# data.to_csv(\"data_preprocesamiento.csv\", index = False)"
      ]
    }
  ],
  "metadata": {
    "colab": {
      "provenance": []
    },
    "kernelspec": {
      "display_name": "Python 3",
      "name": "python3"
    },
    "language_info": {
      "codemirror_mode": {
        "name": "ipython",
        "version": 3
      },
      "file_extension": ".py",
      "mimetype": "text/x-python",
      "name": "python",
      "nbconvert_exporter": "python",
      "pygments_lexer": "ipython3",
      "version": "3.10.7"
    }
  },
  "nbformat": 4,
  "nbformat_minor": 0
}
